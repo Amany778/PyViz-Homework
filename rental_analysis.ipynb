{
 "cells": [
  {
   "cell_type": "markdown",
   "metadata": {},
   "source": [
    "# Toronto Dwellings Analysis\n",
    "\n",
    "In this assignment, you will perform fundamental analysis for the Toronto dwellings market to allow potential real estate investors to choose rental investment properties."
   ]
  },
  {
   "cell_type": "code",
   "execution_count": 224,
   "metadata": {},
   "outputs": [],
   "source": [
    "# imports\n",
    "import panel as pn\n",
    "pn.extension('plotly')\n",
    "import plotly.express as px\n",
    "import pandas as pd\n",
    "import hvplot.pandas\n",
    "import matplotlib.pyplot as plt\n",
    "import os\n",
    "from pathlib import Path\n",
    "from dotenv import load_dotenv\n",
    "import panel as pn\n",
    "from panel.interact import interact\n",
    "from panel import widgets"
   ]
  },
  {
   "cell_type": "code",
   "execution_count": 225,
   "metadata": {},
   "outputs": [],
   "source": [
    "# Read the Mapbox API key\n",
    "load_dotenv()\n",
    "map_box_api = os.getenv(\"mapbox\")"
   ]
  },
  {
   "cell_type": "markdown",
   "metadata": {},
   "source": [
    "## Load Data"
   ]
  },
  {
   "cell_type": "code",
   "execution_count": 226,
   "metadata": {},
   "outputs": [
    {
     "data": {
      "text/html": [
       "<div>\n",
       "<style scoped>\n",
       "    .dataframe tbody tr th:only-of-type {\n",
       "        vertical-align: middle;\n",
       "    }\n",
       "\n",
       "    .dataframe tbody tr th {\n",
       "        vertical-align: top;\n",
       "    }\n",
       "\n",
       "    .dataframe thead th {\n",
       "        text-align: right;\n",
       "    }\n",
       "</style>\n",
       "<table border=\"1\" class=\"dataframe\">\n",
       "  <thead>\n",
       "    <tr style=\"text-align: right;\">\n",
       "      <th></th>\n",
       "      <th>neighbourhood</th>\n",
       "      <th>single_detached_house</th>\n",
       "      <th>apartment_five_storeys_plus</th>\n",
       "      <th>movable_dwelling</th>\n",
       "      <th>semi_detached_house</th>\n",
       "      <th>row_house</th>\n",
       "      <th>duplex</th>\n",
       "      <th>apartment_five_storeys_less</th>\n",
       "      <th>other_house</th>\n",
       "      <th>average_house_value</th>\n",
       "      <th>shelter_costs_owned</th>\n",
       "      <th>shelter_costs_rented</th>\n",
       "    </tr>\n",
       "    <tr>\n",
       "      <th>year</th>\n",
       "      <th></th>\n",
       "      <th></th>\n",
       "      <th></th>\n",
       "      <th></th>\n",
       "      <th></th>\n",
       "      <th></th>\n",
       "      <th></th>\n",
       "      <th></th>\n",
       "      <th></th>\n",
       "      <th></th>\n",
       "      <th></th>\n",
       "      <th></th>\n",
       "    </tr>\n",
       "  </thead>\n",
       "  <tbody>\n",
       "    <tr>\n",
       "      <th>2001</th>\n",
       "      <td>Agincourt North</td>\n",
       "      <td>3715</td>\n",
       "      <td>1480</td>\n",
       "      <td>0</td>\n",
       "      <td>1055</td>\n",
       "      <td>1295</td>\n",
       "      <td>195</td>\n",
       "      <td>185</td>\n",
       "      <td>5</td>\n",
       "      <td>200388</td>\n",
       "      <td>810</td>\n",
       "      <td>870</td>\n",
       "    </tr>\n",
       "    <tr>\n",
       "      <th>2001</th>\n",
       "      <td>Agincourt South-Malvern West</td>\n",
       "      <td>3250</td>\n",
       "      <td>1835</td>\n",
       "      <td>0</td>\n",
       "      <td>545</td>\n",
       "      <td>455</td>\n",
       "      <td>105</td>\n",
       "      <td>425</td>\n",
       "      <td>0</td>\n",
       "      <td>203047</td>\n",
       "      <td>806</td>\n",
       "      <td>892</td>\n",
       "    </tr>\n",
       "    <tr>\n",
       "      <th>2001</th>\n",
       "      <td>Alderwood</td>\n",
       "      <td>3175</td>\n",
       "      <td>315</td>\n",
       "      <td>0</td>\n",
       "      <td>470</td>\n",
       "      <td>50</td>\n",
       "      <td>185</td>\n",
       "      <td>370</td>\n",
       "      <td>0</td>\n",
       "      <td>259998</td>\n",
       "      <td>817</td>\n",
       "      <td>924</td>\n",
       "    </tr>\n",
       "    <tr>\n",
       "      <th>2001</th>\n",
       "      <td>Annex</td>\n",
       "      <td>1060</td>\n",
       "      <td>6090</td>\n",
       "      <td>5</td>\n",
       "      <td>1980</td>\n",
       "      <td>605</td>\n",
       "      <td>275</td>\n",
       "      <td>3710</td>\n",
       "      <td>165</td>\n",
       "      <td>453850</td>\n",
       "      <td>1027</td>\n",
       "      <td>1378</td>\n",
       "    </tr>\n",
       "    <tr>\n",
       "      <th>2001</th>\n",
       "      <td>Banbury-Don Mills</td>\n",
       "      <td>3615</td>\n",
       "      <td>4465</td>\n",
       "      <td>0</td>\n",
       "      <td>240</td>\n",
       "      <td>380</td>\n",
       "      <td>15</td>\n",
       "      <td>1360</td>\n",
       "      <td>0</td>\n",
       "      <td>371864</td>\n",
       "      <td>1007</td>\n",
       "      <td>1163</td>\n",
       "    </tr>\n",
       "  </tbody>\n",
       "</table>\n",
       "</div>"
      ],
      "text/plain": [
       "                     neighbourhood  single_detached_house  \\\n",
       "year                                                        \n",
       "2001               Agincourt North                   3715   \n",
       "2001  Agincourt South-Malvern West                   3250   \n",
       "2001                     Alderwood                   3175   \n",
       "2001                         Annex                   1060   \n",
       "2001             Banbury-Don Mills                   3615   \n",
       "\n",
       "      apartment_five_storeys_plus  movable_dwelling  semi_detached_house  \\\n",
       "year                                                                       \n",
       "2001                         1480                 0                 1055   \n",
       "2001                         1835                 0                  545   \n",
       "2001                          315                 0                  470   \n",
       "2001                         6090                 5                 1980   \n",
       "2001                         4465                 0                  240   \n",
       "\n",
       "      row_house  duplex  apartment_five_storeys_less  other_house  \\\n",
       "year                                                                \n",
       "2001       1295     195                          185            5   \n",
       "2001        455     105                          425            0   \n",
       "2001         50     185                          370            0   \n",
       "2001        605     275                         3710          165   \n",
       "2001        380      15                         1360            0   \n",
       "\n",
       "      average_house_value  shelter_costs_owned  shelter_costs_rented  \n",
       "year                                                                  \n",
       "2001               200388                  810                   870  \n",
       "2001               203047                  806                   892  \n",
       "2001               259998                  817                   924  \n",
       "2001               453850                 1027                  1378  \n",
       "2001               371864                 1007                  1163  "
      ]
     },
     "execution_count": 226,
     "metadata": {},
     "output_type": "execute_result"
    }
   ],
   "source": [
    "# Read the census data into a Pandas DataFrame\n",
    "file_path = Path(\"Data/toronto_neighbourhoods_census_data.csv\")\n",
    "to_data = pd.read_csv(file_path, index_col=\"year\")\n",
    "to_data.head()\n"
   ]
  },
  {
   "cell_type": "markdown",
   "metadata": {},
   "source": [
    "- - - "
   ]
  },
  {
   "cell_type": "markdown",
   "metadata": {},
   "source": [
    "## Dwelling Types Per Year\n",
    "\n",
    "In this section, you will calculate the number of dwelling types per year. Visualize the results using bar charts and the Pandas plot function. \n",
    "\n",
    "**Hint:** Use the Pandas `groupby` function.\n",
    "\n",
    "**Optional challenge:** Plot each bar chart in a different color."
   ]
  },
  {
   "cell_type": "code",
   "execution_count": 227,
   "metadata": {},
   "outputs": [],
   "source": [
    "# Calculate the sum number of dwelling types units per year (hint: use groupby)\n",
    "dwellings_year = to_data.drop(columns = ['neighbourhood', 'average_house_value', 'shelter_costs_owned','shelter_costs_rented']).groupby('year').sum()"
   ]
  },
  {
   "cell_type": "code",
   "execution_count": 228,
   "metadata": {},
   "outputs": [
    {
     "data": {
      "text/html": [
       "<div>\n",
       "<style scoped>\n",
       "    .dataframe tbody tr th:only-of-type {\n",
       "        vertical-align: middle;\n",
       "    }\n",
       "\n",
       "    .dataframe tbody tr th {\n",
       "        vertical-align: top;\n",
       "    }\n",
       "\n",
       "    .dataframe thead th {\n",
       "        text-align: right;\n",
       "    }\n",
       "</style>\n",
       "<table border=\"1\" class=\"dataframe\">\n",
       "  <thead>\n",
       "    <tr style=\"text-align: right;\">\n",
       "      <th></th>\n",
       "      <th>single_detached_house</th>\n",
       "      <th>apartment_five_storeys_plus</th>\n",
       "      <th>movable_dwelling</th>\n",
       "      <th>semi_detached_house</th>\n",
       "      <th>row_house</th>\n",
       "      <th>duplex</th>\n",
       "      <th>apartment_five_storeys_less</th>\n",
       "      <th>other_house</th>\n",
       "    </tr>\n",
       "    <tr>\n",
       "      <th>year</th>\n",
       "      <th></th>\n",
       "      <th></th>\n",
       "      <th></th>\n",
       "      <th></th>\n",
       "      <th></th>\n",
       "      <th></th>\n",
       "      <th></th>\n",
       "      <th></th>\n",
       "    </tr>\n",
       "  </thead>\n",
       "  <tbody>\n",
       "    <tr>\n",
       "      <th>2001</th>\n",
       "      <td>300930</td>\n",
       "      <td>355015</td>\n",
       "      <td>75</td>\n",
       "      <td>90995</td>\n",
       "      <td>52355</td>\n",
       "      <td>23785</td>\n",
       "      <td>116900</td>\n",
       "      <td>3040</td>\n",
       "    </tr>\n",
       "    <tr>\n",
       "      <th>2006</th>\n",
       "      <td>266860</td>\n",
       "      <td>379400</td>\n",
       "      <td>165</td>\n",
       "      <td>69430</td>\n",
       "      <td>54690</td>\n",
       "      <td>44095</td>\n",
       "      <td>162850</td>\n",
       "      <td>1335</td>\n",
       "    </tr>\n",
       "    <tr>\n",
       "      <th>2011</th>\n",
       "      <td>274940</td>\n",
       "      <td>429220</td>\n",
       "      <td>100</td>\n",
       "      <td>72480</td>\n",
       "      <td>60355</td>\n",
       "      <td>44750</td>\n",
       "      <td>163895</td>\n",
       "      <td>2165</td>\n",
       "    </tr>\n",
       "    <tr>\n",
       "      <th>2016</th>\n",
       "      <td>269680</td>\n",
       "      <td>493270</td>\n",
       "      <td>95</td>\n",
       "      <td>71200</td>\n",
       "      <td>61565</td>\n",
       "      <td>48585</td>\n",
       "      <td>165575</td>\n",
       "      <td>2845</td>\n",
       "    </tr>\n",
       "  </tbody>\n",
       "</table>\n",
       "</div>"
      ],
      "text/plain": [
       "      single_detached_house  apartment_five_storeys_plus  movable_dwelling  \\\n",
       "year                                                                         \n",
       "2001                 300930                       355015                75   \n",
       "2006                 266860                       379400               165   \n",
       "2011                 274940                       429220               100   \n",
       "2016                 269680                       493270                95   \n",
       "\n",
       "      semi_detached_house  row_house  duplex  apartment_five_storeys_less  \\\n",
       "year                                                                        \n",
       "2001                90995      52355   23785                       116900   \n",
       "2006                69430      54690   44095                       162850   \n",
       "2011                72480      60355   44750                       163895   \n",
       "2016                71200      61565   48585                       165575   \n",
       "\n",
       "      other_house  \n",
       "year               \n",
       "2001         3040  \n",
       "2006         1335  \n",
       "2011         2165  \n",
       "2016         2845  "
      ]
     },
     "execution_count": 228,
     "metadata": {},
     "output_type": "execute_result"
    }
   ],
   "source": [
    "dwellings_year"
   ]
  },
  {
   "cell_type": "code",
   "execution_count": 229,
   "metadata": {},
   "outputs": [],
   "source": [
    "# Save the dataframe as a csv file\n",
    "dwellings_year.to_csv('dwellings_year.csv')\n"
   ]
  },
  {
   "cell_type": "code",
   "execution_count": 230,
   "metadata": {},
   "outputs": [],
   "source": [
    "# Helper create_bar_chart function\n",
    "def create_bar_chart(data, title, xlabel, ylabel, color):\n",
    "    display(data.hvplot.bar(title = title, xlabel=xlabel, ylabel=ylabel, color=color, rot = 90))\n",
    "    return "
   ]
  },
  {
   "cell_type": "code",
   "execution_count": 231,
   "metadata": {},
   "outputs": [
    {
     "data": {},
     "metadata": {},
     "output_type": "display_data"
    },
    {
     "data": {
      "application/vnd.holoviews_exec.v0+json": "",
      "text/html": [
       "<div id='8232'>\n",
       "\n",
       "\n",
       "\n",
       "\n",
       "\n",
       "  <div class=\"bk-root\" id=\"42cbe699-3cdc-48ad-9d8d-ee0ddfe92b10\" data-root-id=\"8232\"></div>\n",
       "</div>\n",
       "<script type=\"application/javascript\">(function(root) {\n",
       "  function embed_document(root) {\n",
       "    var docs_json = {\"785d3fdc-961c-4e1c-8bce-8aac3dc2556c\":{\"defs\":[{\"extends\":null,\"module\":null,\"name\":\"ReactiveHTML1\",\"overrides\":[],\"properties\":[]},{\"extends\":null,\"module\":null,\"name\":\"FlexBox1\",\"overrides\":[],\"properties\":[{\"default\":\"flex-start\",\"kind\":null,\"name\":\"align_content\"},{\"default\":\"flex-start\",\"kind\":null,\"name\":\"align_items\"},{\"default\":\"row\",\"kind\":null,\"name\":\"flex_direction\"},{\"default\":\"wrap\",\"kind\":null,\"name\":\"flex_wrap\"},{\"default\":\"flex-start\",\"kind\":null,\"name\":\"justify_content\"}]},{\"extends\":null,\"module\":null,\"name\":\"GridStack1\",\"overrides\":[],\"properties\":[{\"default\":\"warn\",\"kind\":null,\"name\":\"mode\"},{\"default\":null,\"kind\":null,\"name\":\"ncols\"},{\"default\":null,\"kind\":null,\"name\":\"nrows\"},{\"default\":true,\"kind\":null,\"name\":\"allow_resize\"},{\"default\":true,\"kind\":null,\"name\":\"allow_drag\"},{\"default\":[],\"kind\":null,\"name\":\"state\"}]},{\"extends\":null,\"module\":null,\"name\":\"click1\",\"overrides\":[],\"properties\":[{\"default\":\"\",\"kind\":null,\"name\":\"terminal_output\"},{\"default\":\"\",\"kind\":null,\"name\":\"debug_name\"},{\"default\":0,\"kind\":null,\"name\":\"clears\"}]},{\"extends\":null,\"module\":null,\"name\":\"TemplateActions1\",\"overrides\":[],\"properties\":[{\"default\":0,\"kind\":null,\"name\":\"open_modal\"},{\"default\":0,\"kind\":null,\"name\":\"close_modal\"}]},{\"extends\":null,\"module\":null,\"name\":\"MaterialTemplateActions1\",\"overrides\":[],\"properties\":[{\"default\":0,\"kind\":null,\"name\":\"open_modal\"},{\"default\":0,\"kind\":null,\"name\":\"close_modal\"}]}],\"roots\":{\"references\":[{\"attributes\":{},\"id\":\"8267\",\"type\":\"Selection\"},{\"attributes\":{\"factors\":[\"single_detached_house\",\"apartment_five_storeys_plus\",\"movable_dwelling\",\"semi_detached_house\",\"row_house\",\"duplex\",\"apartment_five_storeys_less\",\"other_house\"],\"tags\":[[[\"index\",\"index\",null]]]},\"id\":\"8234\",\"type\":\"FactorRange\"},{\"attributes\":{},\"id\":\"8257\",\"type\":\"ResetTool\"},{\"attributes\":{},\"id\":\"8277\",\"type\":\"AllLabels\"},{\"attributes\":{\"coordinates\":null,\"data_source\":{\"id\":\"8266\"},\"glyph\":{\"id\":\"8269\"},\"group\":null,\"hover_glyph\":null,\"muted_glyph\":{\"id\":\"8271\"},\"nonselection_glyph\":{\"id\":\"8270\"},\"selection_glyph\":{\"id\":\"8274\"},\"view\":{\"id\":\"8273\"}},\"id\":\"8272\",\"type\":\"GlyphRenderer\"},{\"attributes\":{},\"id\":\"8255\",\"type\":\"WheelZoomTool\"},{\"attributes\":{\"overlay\":{\"id\":\"8258\"}},\"id\":\"8256\",\"type\":\"BoxZoomTool\"},{\"attributes\":{\"data\":{\"A_2001\":[300930,355015,75,90995,52355,23785,116900,3040],\"index\":[\"single_detached_house\",\"apartment_five_storeys_plus\",\"movable_dwelling\",\"semi_detached_house\",\"row_house\",\"duplex\",\"apartment_five_storeys_less\",\"other_house\"]},\"selected\":{\"id\":\"8267\"},\"selection_policy\":{\"id\":\"8288\"}},\"id\":\"8266\",\"type\":\"ColumnDataSource\"},{\"attributes\":{\"below\":[{\"id\":\"8246\"}],\"center\":[{\"id\":\"8248\"},{\"id\":\"8252\"}],\"height\":300,\"left\":[{\"id\":\"8249\"}],\"margin\":[5,5,5,5],\"min_border_bottom\":10,\"min_border_left\":10,\"min_border_right\":10,\"min_border_top\":10,\"renderers\":[{\"id\":\"8272\"}],\"sizing_mode\":\"fixed\",\"title\":{\"id\":\"8238\"},\"toolbar\":{\"id\":\"8259\"},\"width\":700,\"x_range\":{\"id\":\"8234\"},\"x_scale\":{\"id\":\"8242\"},\"y_range\":{\"id\":\"8235\"},\"y_scale\":{\"id\":\"8244\"}},\"id\":\"8237\",\"subtype\":\"Figure\",\"type\":\"Plot\"},{\"attributes\":{\"children\":[{\"id\":\"8233\"},{\"id\":\"8237\"},{\"id\":\"8301\"}],\"margin\":[0,0,0,0],\"name\":\"Row15887\",\"tags\":[\"embedded\"]},\"id\":\"8232\",\"type\":\"Row\"},{\"attributes\":{\"coordinates\":null,\"group\":null,\"text\":\"Dwelling Types in Toronot in 2001\",\"text_color\":\"black\",\"text_font_size\":\"12pt\"},\"id\":\"8238\",\"type\":\"Title\"},{\"attributes\":{\"margin\":[5,5,5,5],\"name\":\"HSpacer15891\",\"sizing_mode\":\"stretch_width\"},\"id\":\"8233\",\"type\":\"Spacer\"},{\"attributes\":{\"axis\":{\"id\":\"8246\"},\"coordinates\":null,\"grid_line_color\":null,\"group\":null,\"ticker\":null},\"id\":\"8248\",\"type\":\"Grid\"},{\"attributes\":{\"bottom\":{\"value\":0},\"fill_alpha\":{\"value\":1.0},\"fill_color\":{\"value\":\"red\"},\"hatch_alpha\":{\"value\":1.0},\"hatch_color\":{\"value\":\"red\"},\"hatch_scale\":{\"value\":12.0},\"hatch_weight\":{\"value\":1.0},\"line_alpha\":{\"value\":1.0},\"line_cap\":{\"value\":\"butt\"},\"line_color\":{\"value\":\"black\"},\"line_dash\":{\"value\":[]},\"line_dash_offset\":{\"value\":0},\"line_join\":{\"value\":\"bevel\"},\"line_width\":{\"value\":1},\"top\":{\"field\":\"A_2001\"},\"width\":{\"value\":0.8},\"x\":{\"field\":\"index\"}},\"id\":\"8274\",\"type\":\"VBar\"},{\"attributes\":{},\"id\":\"8244\",\"type\":\"LinearScale\"},{\"attributes\":{\"tools\":[{\"id\":\"8236\"},{\"id\":\"8253\"},{\"id\":\"8254\"},{\"id\":\"8255\"},{\"id\":\"8256\"},{\"id\":\"8257\"}]},\"id\":\"8259\",\"type\":\"Toolbar\"},{\"attributes\":{\"callback\":null,\"renderers\":[{\"id\":\"8272\"}],\"tags\":[\"hv_created\"],\"tooltips\":[[\"index\",\"@{index}\"],[\"2001\",\"@{A_2001}\"]]},\"id\":\"8236\",\"type\":\"HoverTool\"},{\"attributes\":{},\"id\":\"8242\",\"type\":\"CategoricalScale\"},{\"attributes\":{\"axis_label\":\"\",\"coordinates\":null,\"formatter\":{\"id\":\"8276\"},\"group\":null,\"major_label_orientation\":1.5707963267948966,\"major_label_policy\":{\"id\":\"8277\"},\"ticker\":{\"id\":\"8247\"}},\"id\":\"8246\",\"type\":\"CategoricalAxis\"},{\"attributes\":{\"bottom_units\":\"screen\",\"coordinates\":null,\"fill_alpha\":0.5,\"fill_color\":\"lightgrey\",\"group\":null,\"left_units\":\"screen\",\"level\":\"overlay\",\"line_alpha\":1.0,\"line_color\":\"black\",\"line_dash\":[4,4],\"line_width\":2,\"right_units\":\"screen\",\"syncable\":false,\"top_units\":\"screen\"},\"id\":\"8258\",\"type\":\"BoxAnnotation\"},{\"attributes\":{},\"id\":\"8250\",\"type\":\"BasicTicker\"},{\"attributes\":{\"axis_label\":\"Dwelling Types Units\",\"coordinates\":null,\"formatter\":{\"id\":\"8279\"},\"group\":null,\"major_label_policy\":{\"id\":\"8280\"},\"ticker\":{\"id\":\"8250\"}},\"id\":\"8249\",\"type\":\"LinearAxis\"},{\"attributes\":{},\"id\":\"8276\",\"type\":\"CategoricalTickFormatter\"},{\"attributes\":{\"axis\":{\"id\":\"8249\"},\"coordinates\":null,\"dimension\":1,\"grid_line_color\":null,\"group\":null,\"ticker\":null},\"id\":\"8252\",\"type\":\"Grid\"},{\"attributes\":{\"source\":{\"id\":\"8266\"}},\"id\":\"8273\",\"type\":\"CDSView\"},{\"attributes\":{},\"id\":\"8288\",\"type\":\"UnionRenderers\"},{\"attributes\":{},\"id\":\"8279\",\"type\":\"BasicTickFormatter\"},{\"attributes\":{\"fill_alpha\":{\"value\":0.1},\"fill_color\":{\"value\":\"red\"},\"hatch_alpha\":{\"value\":0.1},\"hatch_color\":{\"value\":\"red\"},\"line_alpha\":{\"value\":0.1},\"top\":{\"field\":\"A_2001\"},\"width\":{\"value\":0.8},\"x\":{\"field\":\"index\"}},\"id\":\"8270\",\"type\":\"VBar\"},{\"attributes\":{\"margin\":[5,5,5,5],\"name\":\"HSpacer15892\",\"sizing_mode\":\"stretch_width\"},\"id\":\"8301\",\"type\":\"Spacer\"},{\"attributes\":{\"fill_alpha\":{\"value\":0.2},\"fill_color\":{\"value\":\"red\"},\"hatch_alpha\":{\"value\":0.2},\"hatch_color\":{\"value\":\"red\"},\"line_alpha\":{\"value\":0.2},\"top\":{\"field\":\"A_2001\"},\"width\":{\"value\":0.8},\"x\":{\"field\":\"index\"}},\"id\":\"8271\",\"type\":\"VBar\"},{\"attributes\":{\"fill_color\":{\"value\":\"red\"},\"hatch_color\":{\"value\":\"red\"},\"top\":{\"field\":\"A_2001\"},\"width\":{\"value\":0.8},\"x\":{\"field\":\"index\"}},\"id\":\"8269\",\"type\":\"VBar\"},{\"attributes\":{},\"id\":\"8280\",\"type\":\"AllLabels\"},{\"attributes\":{},\"id\":\"8253\",\"type\":\"SaveTool\"},{\"attributes\":{},\"id\":\"8254\",\"type\":\"PanTool\"},{\"attributes\":{\"end\":390509.0,\"reset_end\":390509.0,\"reset_start\":0.0,\"tags\":[[[\"2001\",\"2001\",null]]]},\"id\":\"8235\",\"type\":\"Range1d\"},{\"attributes\":{},\"id\":\"8247\",\"type\":\"CategoricalTicker\"}],\"root_ids\":[\"8232\"]},\"title\":\"Bokeh Application\",\"version\":\"2.4.2\"}};\n",
       "    var render_items = [{\"docid\":\"785d3fdc-961c-4e1c-8bce-8aac3dc2556c\",\"root_ids\":[\"8232\"],\"roots\":{\"8232\":\"42cbe699-3cdc-48ad-9d8d-ee0ddfe92b10\"}}];\n",
       "    root.Bokeh.embed.embed_items_notebook(docs_json, render_items);\n",
       "  }\n",
       "  if (root.Bokeh !== undefined && root.Bokeh.Panel !== undefined && ( root['Plotly'] !== undefined)) {\n",
       "    embed_document(root);\n",
       "  } else {\n",
       "    var attempts = 0;\n",
       "    var timer = setInterval(function(root) {\n",
       "      if (root.Bokeh !== undefined && root.Bokeh.Panel !== undefined && (root['Plotly'] !== undefined)) {\n",
       "        clearInterval(timer);\n",
       "        embed_document(root);\n",
       "      } else if (document.readyState == \"complete\") {\n",
       "        attempts++;\n",
       "        if (attempts > 200) {\n",
       "          clearInterval(timer);\n",
       "          console.log(\"Bokeh: ERROR: Unable to run BokehJS code because BokehJS library is missing\");\n",
       "        }\n",
       "      }\n",
       "    }, 25, root)\n",
       "  }\n",
       "})(window);</script>"
      ],
      "text/plain": [
       ":Bars   [index]   (2001)"
      ]
     },
     "metadata": {
      "application/vnd.holoviews_exec.v0+json": {
       "id": "8232"
      }
     },
     "output_type": "display_data"
    },
    {
     "data": {},
     "metadata": {},
     "output_type": "display_data"
    },
    {
     "data": {
      "application/vnd.holoviews_exec.v0+json": "",
      "text/html": [
       "<div id='8353'>\n",
       "\n",
       "\n",
       "\n",
       "\n",
       "\n",
       "  <div class=\"bk-root\" id=\"d53d7c1c-1433-4fe0-9370-e9be6921541d\" data-root-id=\"8353\"></div>\n",
       "</div>\n",
       "<script type=\"application/javascript\">(function(root) {\n",
       "  function embed_document(root) {\n",
       "    var docs_json = {\"70d475de-23b2-43c1-a773-c3c2b8cf4f28\":{\"defs\":[{\"extends\":null,\"module\":null,\"name\":\"ReactiveHTML1\",\"overrides\":[],\"properties\":[]},{\"extends\":null,\"module\":null,\"name\":\"FlexBox1\",\"overrides\":[],\"properties\":[{\"default\":\"flex-start\",\"kind\":null,\"name\":\"align_content\"},{\"default\":\"flex-start\",\"kind\":null,\"name\":\"align_items\"},{\"default\":\"row\",\"kind\":null,\"name\":\"flex_direction\"},{\"default\":\"wrap\",\"kind\":null,\"name\":\"flex_wrap\"},{\"default\":\"flex-start\",\"kind\":null,\"name\":\"justify_content\"}]},{\"extends\":null,\"module\":null,\"name\":\"GridStack1\",\"overrides\":[],\"properties\":[{\"default\":\"warn\",\"kind\":null,\"name\":\"mode\"},{\"default\":null,\"kind\":null,\"name\":\"ncols\"},{\"default\":null,\"kind\":null,\"name\":\"nrows\"},{\"default\":true,\"kind\":null,\"name\":\"allow_resize\"},{\"default\":true,\"kind\":null,\"name\":\"allow_drag\"},{\"default\":[],\"kind\":null,\"name\":\"state\"}]},{\"extends\":null,\"module\":null,\"name\":\"click1\",\"overrides\":[],\"properties\":[{\"default\":\"\",\"kind\":null,\"name\":\"terminal_output\"},{\"default\":\"\",\"kind\":null,\"name\":\"debug_name\"},{\"default\":0,\"kind\":null,\"name\":\"clears\"}]},{\"extends\":null,\"module\":null,\"name\":\"TemplateActions1\",\"overrides\":[],\"properties\":[{\"default\":0,\"kind\":null,\"name\":\"open_modal\"},{\"default\":0,\"kind\":null,\"name\":\"close_modal\"}]},{\"extends\":null,\"module\":null,\"name\":\"MaterialTemplateActions1\",\"overrides\":[],\"properties\":[{\"default\":0,\"kind\":null,\"name\":\"open_modal\"},{\"default\":0,\"kind\":null,\"name\":\"close_modal\"}]}],\"roots\":{\"references\":[{\"attributes\":{\"margin\":[5,5,5,5],\"name\":\"HSpacer16039\",\"sizing_mode\":\"stretch_width\"},\"id\":\"8354\",\"type\":\"Spacer\"},{\"attributes\":{\"fill_color\":{\"value\":\"blue\"},\"hatch_color\":{\"value\":\"blue\"},\"top\":{\"field\":\"A_2006\"},\"width\":{\"value\":0.8},\"x\":{\"field\":\"index\"}},\"id\":\"8390\",\"type\":\"VBar\"},{\"attributes\":{},\"id\":\"8409\",\"type\":\"UnionRenderers\"},{\"attributes\":{\"factors\":[\"single_detached_house\",\"apartment_five_storeys_plus\",\"movable_dwelling\",\"semi_detached_house\",\"row_house\",\"duplex\",\"apartment_five_storeys_less\",\"other_house\"],\"tags\":[[[\"index\",\"index\",null]]]},\"id\":\"8355\",\"type\":\"FactorRange\"},{\"attributes\":{\"below\":[{\"id\":\"8367\"}],\"center\":[{\"id\":\"8369\"},{\"id\":\"8373\"}],\"height\":300,\"left\":[{\"id\":\"8370\"}],\"margin\":[5,5,5,5],\"min_border_bottom\":10,\"min_border_left\":10,\"min_border_right\":10,\"min_border_top\":10,\"renderers\":[{\"id\":\"8393\"}],\"sizing_mode\":\"fixed\",\"title\":{\"id\":\"8359\"},\"toolbar\":{\"id\":\"8380\"},\"width\":700,\"x_range\":{\"id\":\"8355\"},\"x_scale\":{\"id\":\"8363\"},\"y_range\":{\"id\":\"8356\"},\"y_scale\":{\"id\":\"8365\"}},\"id\":\"8358\",\"subtype\":\"Figure\",\"type\":\"Plot\"},{\"attributes\":{\"fill_alpha\":{\"value\":0.1},\"fill_color\":{\"value\":\"blue\"},\"hatch_alpha\":{\"value\":0.1},\"hatch_color\":{\"value\":\"blue\"},\"line_alpha\":{\"value\":0.1},\"top\":{\"field\":\"A_2006\"},\"width\":{\"value\":0.8},\"x\":{\"field\":\"index\"}},\"id\":\"8391\",\"type\":\"VBar\"},{\"attributes\":{\"margin\":[5,5,5,5],\"name\":\"HSpacer16040\",\"sizing_mode\":\"stretch_width\"},\"id\":\"8422\",\"type\":\"Spacer\"},{\"attributes\":{},\"id\":\"8374\",\"type\":\"SaveTool\"},{\"attributes\":{},\"id\":\"8375\",\"type\":\"PanTool\"},{\"attributes\":{\"axis\":{\"id\":\"8367\"},\"coordinates\":null,\"grid_line_color\":null,\"group\":null,\"ticker\":null},\"id\":\"8369\",\"type\":\"Grid\"},{\"attributes\":{},\"id\":\"8378\",\"type\":\"ResetTool\"},{\"attributes\":{},\"id\":\"8376\",\"type\":\"WheelZoomTool\"},{\"attributes\":{\"overlay\":{\"id\":\"8379\"}},\"id\":\"8377\",\"type\":\"BoxZoomTool\"},{\"attributes\":{\"fill_alpha\":{\"value\":0.2},\"fill_color\":{\"value\":\"blue\"},\"hatch_alpha\":{\"value\":0.2},\"hatch_color\":{\"value\":\"blue\"},\"line_alpha\":{\"value\":0.2},\"top\":{\"field\":\"A_2006\"},\"width\":{\"value\":0.8},\"x\":{\"field\":\"index\"}},\"id\":\"8392\",\"type\":\"VBar\"},{\"attributes\":{\"end\":417323.5,\"reset_end\":417323.5,\"reset_start\":0.0,\"tags\":[[[\"2006\",\"2006\",null]]]},\"id\":\"8356\",\"type\":\"Range1d\"},{\"attributes\":{},\"id\":\"8371\",\"type\":\"BasicTicker\"},{\"attributes\":{},\"id\":\"8398\",\"type\":\"AllLabels\"},{\"attributes\":{},\"id\":\"8368\",\"type\":\"CategoricalTicker\"},{\"attributes\":{\"coordinates\":null,\"group\":null,\"text\":\"Dwelling Types in Toronot in 2001\",\"text_color\":\"black\",\"text_font_size\":\"12pt\"},\"id\":\"8359\",\"type\":\"Title\"},{\"attributes\":{\"coordinates\":null,\"data_source\":{\"id\":\"8387\"},\"glyph\":{\"id\":\"8390\"},\"group\":null,\"hover_glyph\":null,\"muted_glyph\":{\"id\":\"8392\"},\"nonselection_glyph\":{\"id\":\"8391\"},\"selection_glyph\":{\"id\":\"8395\"},\"view\":{\"id\":\"8394\"}},\"id\":\"8393\",\"type\":\"GlyphRenderer\"},{\"attributes\":{\"tools\":[{\"id\":\"8357\"},{\"id\":\"8374\"},{\"id\":\"8375\"},{\"id\":\"8376\"},{\"id\":\"8377\"},{\"id\":\"8378\"}]},\"id\":\"8380\",\"type\":\"Toolbar\"},{\"attributes\":{\"callback\":null,\"renderers\":[{\"id\":\"8393\"}],\"tags\":[\"hv_created\"],\"tooltips\":[[\"index\",\"@{index}\"],[\"2006\",\"@{A_2006}\"]]},\"id\":\"8357\",\"type\":\"HoverTool\"},{\"attributes\":{},\"id\":\"8365\",\"type\":\"LinearScale\"},{\"attributes\":{\"bottom_units\":\"screen\",\"coordinates\":null,\"fill_alpha\":0.5,\"fill_color\":\"lightgrey\",\"group\":null,\"left_units\":\"screen\",\"level\":\"overlay\",\"line_alpha\":1.0,\"line_color\":\"black\",\"line_dash\":[4,4],\"line_width\":2,\"right_units\":\"screen\",\"syncable\":false,\"top_units\":\"screen\"},\"id\":\"8379\",\"type\":\"BoxAnnotation\"},{\"attributes\":{},\"id\":\"8363\",\"type\":\"CategoricalScale\"},{\"attributes\":{\"axis_label\":\"\",\"coordinates\":null,\"formatter\":{\"id\":\"8397\"},\"group\":null,\"major_label_orientation\":1.5707963267948966,\"major_label_policy\":{\"id\":\"8398\"},\"ticker\":{\"id\":\"8368\"}},\"id\":\"8367\",\"type\":\"CategoricalAxis\"},{\"attributes\":{\"axis_label\":\"Dwelling Types Units\",\"coordinates\":null,\"formatter\":{\"id\":\"8400\"},\"group\":null,\"major_label_policy\":{\"id\":\"8401\"},\"ticker\":{\"id\":\"8371\"}},\"id\":\"8370\",\"type\":\"LinearAxis\"},{\"attributes\":{\"source\":{\"id\":\"8387\"}},\"id\":\"8394\",\"type\":\"CDSView\"},{\"attributes\":{},\"id\":\"8397\",\"type\":\"CategoricalTickFormatter\"},{\"attributes\":{\"axis\":{\"id\":\"8370\"},\"coordinates\":null,\"dimension\":1,\"grid_line_color\":null,\"group\":null,\"ticker\":null},\"id\":\"8373\",\"type\":\"Grid\"},{\"attributes\":{\"data\":{\"A_2006\":[266860,379400,165,69430,54690,44095,162850,1335],\"index\":[\"single_detached_house\",\"apartment_five_storeys_plus\",\"movable_dwelling\",\"semi_detached_house\",\"row_house\",\"duplex\",\"apartment_five_storeys_less\",\"other_house\"]},\"selected\":{\"id\":\"8388\"},\"selection_policy\":{\"id\":\"8409\"}},\"id\":\"8387\",\"type\":\"ColumnDataSource\"},{\"attributes\":{},\"id\":\"8388\",\"type\":\"Selection\"},{\"attributes\":{},\"id\":\"8400\",\"type\":\"BasicTickFormatter\"},{\"attributes\":{\"children\":[{\"id\":\"8354\"},{\"id\":\"8358\"},{\"id\":\"8422\"}],\"margin\":[0,0,0,0],\"name\":\"Row16035\",\"tags\":[\"embedded\"]},\"id\":\"8353\",\"type\":\"Row\"},{\"attributes\":{},\"id\":\"8401\",\"type\":\"AllLabels\"},{\"attributes\":{\"bottom\":{\"value\":0},\"fill_alpha\":{\"value\":1.0},\"fill_color\":{\"value\":\"blue\"},\"hatch_alpha\":{\"value\":1.0},\"hatch_color\":{\"value\":\"blue\"},\"hatch_scale\":{\"value\":12.0},\"hatch_weight\":{\"value\":1.0},\"line_alpha\":{\"value\":1.0},\"line_cap\":{\"value\":\"butt\"},\"line_color\":{\"value\":\"black\"},\"line_dash\":{\"value\":[]},\"line_dash_offset\":{\"value\":0},\"line_join\":{\"value\":\"bevel\"},\"line_width\":{\"value\":1},\"top\":{\"field\":\"A_2006\"},\"width\":{\"value\":0.8},\"x\":{\"field\":\"index\"}},\"id\":\"8395\",\"type\":\"VBar\"}],\"root_ids\":[\"8353\"]},\"title\":\"Bokeh Application\",\"version\":\"2.4.2\"}};\n",
       "    var render_items = [{\"docid\":\"70d475de-23b2-43c1-a773-c3c2b8cf4f28\",\"root_ids\":[\"8353\"],\"roots\":{\"8353\":\"d53d7c1c-1433-4fe0-9370-e9be6921541d\"}}];\n",
       "    root.Bokeh.embed.embed_items_notebook(docs_json, render_items);\n",
       "  }\n",
       "  if (root.Bokeh !== undefined && root.Bokeh.Panel !== undefined && ( root['Plotly'] !== undefined)) {\n",
       "    embed_document(root);\n",
       "  } else {\n",
       "    var attempts = 0;\n",
       "    var timer = setInterval(function(root) {\n",
       "      if (root.Bokeh !== undefined && root.Bokeh.Panel !== undefined && (root['Plotly'] !== undefined)) {\n",
       "        clearInterval(timer);\n",
       "        embed_document(root);\n",
       "      } else if (document.readyState == \"complete\") {\n",
       "        attempts++;\n",
       "        if (attempts > 200) {\n",
       "          clearInterval(timer);\n",
       "          console.log(\"Bokeh: ERROR: Unable to run BokehJS code because BokehJS library is missing\");\n",
       "        }\n",
       "      }\n",
       "    }, 25, root)\n",
       "  }\n",
       "})(window);</script>"
      ],
      "text/plain": [
       ":Bars   [index]   (2006)"
      ]
     },
     "metadata": {
      "application/vnd.holoviews_exec.v0+json": {
       "id": "8353"
      }
     },
     "output_type": "display_data"
    },
    {
     "data": {},
     "metadata": {},
     "output_type": "display_data"
    },
    {
     "data": {
      "application/vnd.holoviews_exec.v0+json": "",
      "text/html": [
       "<div id='8474'>\n",
       "\n",
       "\n",
       "\n",
       "\n",
       "\n",
       "  <div class=\"bk-root\" id=\"853dda61-1cd1-4f05-a35e-4357163dc14a\" data-root-id=\"8474\"></div>\n",
       "</div>\n",
       "<script type=\"application/javascript\">(function(root) {\n",
       "  function embed_document(root) {\n",
       "    var docs_json = {\"63487a96-d9f4-4aae-8fec-4562cb4c8805\":{\"defs\":[{\"extends\":null,\"module\":null,\"name\":\"ReactiveHTML1\",\"overrides\":[],\"properties\":[]},{\"extends\":null,\"module\":null,\"name\":\"FlexBox1\",\"overrides\":[],\"properties\":[{\"default\":\"flex-start\",\"kind\":null,\"name\":\"align_content\"},{\"default\":\"flex-start\",\"kind\":null,\"name\":\"align_items\"},{\"default\":\"row\",\"kind\":null,\"name\":\"flex_direction\"},{\"default\":\"wrap\",\"kind\":null,\"name\":\"flex_wrap\"},{\"default\":\"flex-start\",\"kind\":null,\"name\":\"justify_content\"}]},{\"extends\":null,\"module\":null,\"name\":\"GridStack1\",\"overrides\":[],\"properties\":[{\"default\":\"warn\",\"kind\":null,\"name\":\"mode\"},{\"default\":null,\"kind\":null,\"name\":\"ncols\"},{\"default\":null,\"kind\":null,\"name\":\"nrows\"},{\"default\":true,\"kind\":null,\"name\":\"allow_resize\"},{\"default\":true,\"kind\":null,\"name\":\"allow_drag\"},{\"default\":[],\"kind\":null,\"name\":\"state\"}]},{\"extends\":null,\"module\":null,\"name\":\"click1\",\"overrides\":[],\"properties\":[{\"default\":\"\",\"kind\":null,\"name\":\"terminal_output\"},{\"default\":\"\",\"kind\":null,\"name\":\"debug_name\"},{\"default\":0,\"kind\":null,\"name\":\"clears\"}]},{\"extends\":null,\"module\":null,\"name\":\"TemplateActions1\",\"overrides\":[],\"properties\":[{\"default\":0,\"kind\":null,\"name\":\"open_modal\"},{\"default\":0,\"kind\":null,\"name\":\"close_modal\"}]},{\"extends\":null,\"module\":null,\"name\":\"MaterialTemplateActions1\",\"overrides\":[],\"properties\":[{\"default\":0,\"kind\":null,\"name\":\"open_modal\"},{\"default\":0,\"kind\":null,\"name\":\"close_modal\"}]}],\"roots\":{\"references\":[{\"attributes\":{},\"id\":\"8497\",\"type\":\"WheelZoomTool\"},{\"attributes\":{\"axis\":{\"id\":\"8488\"},\"coordinates\":null,\"grid_line_color\":null,\"group\":null,\"ticker\":null},\"id\":\"8490\",\"type\":\"Grid\"},{\"attributes\":{\"overlay\":{\"id\":\"8500\"}},\"id\":\"8498\",\"type\":\"BoxZoomTool\"},{\"attributes\":{\"end\":472132.0,\"reset_end\":472132.0,\"reset_start\":0.0,\"tags\":[[[\"2011\",\"2011\",null]]]},\"id\":\"8477\",\"type\":\"Range1d\"},{\"attributes\":{\"coordinates\":null,\"data_source\":{\"id\":\"8508\"},\"glyph\":{\"id\":\"8511\"},\"group\":null,\"hover_glyph\":null,\"muted_glyph\":{\"id\":\"8513\"},\"nonselection_glyph\":{\"id\":\"8512\"},\"selection_glyph\":{\"id\":\"8516\"},\"view\":{\"id\":\"8515\"}},\"id\":\"8514\",\"type\":\"GlyphRenderer\"},{\"attributes\":{\"fill_color\":{\"value\":\"yellow\"},\"hatch_color\":{\"value\":\"yellow\"},\"top\":{\"field\":\"A_2011\"},\"width\":{\"value\":0.8},\"x\":{\"field\":\"index\"}},\"id\":\"8511\",\"type\":\"VBar\"},{\"attributes\":{},\"id\":\"8492\",\"type\":\"BasicTicker\"},{\"attributes\":{},\"id\":\"8489\",\"type\":\"CategoricalTicker\"},{\"attributes\":{\"coordinates\":null,\"group\":null,\"text\":\"Dwelling Types in Toronot in 2001\",\"text_color\":\"black\",\"text_font_size\":\"12pt\"},\"id\":\"8480\",\"type\":\"Title\"},{\"attributes\":{},\"id\":\"8486\",\"type\":\"LinearScale\"},{\"attributes\":{},\"id\":\"8519\",\"type\":\"AllLabels\"},{\"attributes\":{},\"id\":\"8484\",\"type\":\"CategoricalScale\"},{\"attributes\":{\"source\":{\"id\":\"8508\"}},\"id\":\"8515\",\"type\":\"CDSView\"},{\"attributes\":{},\"id\":\"8518\",\"type\":\"CategoricalTickFormatter\"},{\"attributes\":{\"axis_label\":\"\",\"coordinates\":null,\"formatter\":{\"id\":\"8518\"},\"group\":null,\"major_label_orientation\":1.5707963267948966,\"major_label_policy\":{\"id\":\"8519\"},\"ticker\":{\"id\":\"8489\"}},\"id\":\"8488\",\"type\":\"CategoricalAxis\"},{\"attributes\":{\"children\":[{\"id\":\"8475\"},{\"id\":\"8479\"},{\"id\":\"8543\"}],\"margin\":[0,0,0,0],\"name\":\"Row16183\",\"tags\":[\"embedded\"]},\"id\":\"8474\",\"type\":\"Row\"},{\"attributes\":{\"axis_label\":\"Dwelling Types Units\",\"coordinates\":null,\"formatter\":{\"id\":\"8521\"},\"group\":null,\"major_label_policy\":{\"id\":\"8522\"},\"ticker\":{\"id\":\"8492\"}},\"id\":\"8491\",\"type\":\"LinearAxis\"},{\"attributes\":{\"margin\":[5,5,5,5],\"name\":\"HSpacer16188\",\"sizing_mode\":\"stretch_width\"},\"id\":\"8543\",\"type\":\"Spacer\"},{\"attributes\":{},\"id\":\"8509\",\"type\":\"Selection\"},{\"attributes\":{\"below\":[{\"id\":\"8488\"}],\"center\":[{\"id\":\"8490\"},{\"id\":\"8494\"}],\"height\":300,\"left\":[{\"id\":\"8491\"}],\"margin\":[5,5,5,5],\"min_border_bottom\":10,\"min_border_left\":10,\"min_border_right\":10,\"min_border_top\":10,\"renderers\":[{\"id\":\"8514\"}],\"sizing_mode\":\"fixed\",\"title\":{\"id\":\"8480\"},\"toolbar\":{\"id\":\"8501\"},\"width\":700,\"x_range\":{\"id\":\"8476\"},\"x_scale\":{\"id\":\"8484\"},\"y_range\":{\"id\":\"8477\"},\"y_scale\":{\"id\":\"8486\"}},\"id\":\"8479\",\"subtype\":\"Figure\",\"type\":\"Plot\"},{\"attributes\":{\"axis\":{\"id\":\"8491\"},\"coordinates\":null,\"dimension\":1,\"grid_line_color\":null,\"group\":null,\"ticker\":null},\"id\":\"8494\",\"type\":\"Grid\"},{\"attributes\":{\"data\":{\"A_2011\":[274940,429220,100,72480,60355,44750,163895,2165],\"index\":[\"single_detached_house\",\"apartment_five_storeys_plus\",\"movable_dwelling\",\"semi_detached_house\",\"row_house\",\"duplex\",\"apartment_five_storeys_less\",\"other_house\"]},\"selected\":{\"id\":\"8509\"},\"selection_policy\":{\"id\":\"8530\"}},\"id\":\"8508\",\"type\":\"ColumnDataSource\"},{\"attributes\":{\"bottom\":{\"value\":0},\"fill_alpha\":{\"value\":1.0},\"fill_color\":{\"value\":\"yellow\"},\"hatch_alpha\":{\"value\":1.0},\"hatch_color\":{\"value\":\"yellow\"},\"hatch_scale\":{\"value\":12.0},\"hatch_weight\":{\"value\":1.0},\"line_alpha\":{\"value\":1.0},\"line_cap\":{\"value\":\"butt\"},\"line_color\":{\"value\":\"black\"},\"line_dash\":{\"value\":[]},\"line_dash_offset\":{\"value\":0},\"line_join\":{\"value\":\"bevel\"},\"line_width\":{\"value\":1},\"top\":{\"field\":\"A_2011\"},\"width\":{\"value\":0.8},\"x\":{\"field\":\"index\"}},\"id\":\"8516\",\"type\":\"VBar\"},{\"attributes\":{\"margin\":[5,5,5,5],\"name\":\"HSpacer16187\",\"sizing_mode\":\"stretch_width\"},\"id\":\"8475\",\"type\":\"Spacer\"},{\"attributes\":{},\"id\":\"8496\",\"type\":\"PanTool\"},{\"attributes\":{},\"id\":\"8530\",\"type\":\"UnionRenderers\"},{\"attributes\":{\"fill_alpha\":{\"value\":0.2},\"fill_color\":{\"value\":\"yellow\"},\"hatch_alpha\":{\"value\":0.2},\"hatch_color\":{\"value\":\"yellow\"},\"line_alpha\":{\"value\":0.2},\"top\":{\"field\":\"A_2011\"},\"width\":{\"value\":0.8},\"x\":{\"field\":\"index\"}},\"id\":\"8513\",\"type\":\"VBar\"},{\"attributes\":{},\"id\":\"8521\",\"type\":\"BasicTickFormatter\"},{\"attributes\":{\"factors\":[\"single_detached_house\",\"apartment_five_storeys_plus\",\"movable_dwelling\",\"semi_detached_house\",\"row_house\",\"duplex\",\"apartment_five_storeys_less\",\"other_house\"],\"tags\":[[[\"index\",\"index\",null]]]},\"id\":\"8476\",\"type\":\"FactorRange\"},{\"attributes\":{\"fill_alpha\":{\"value\":0.1},\"fill_color\":{\"value\":\"yellow\"},\"hatch_alpha\":{\"value\":0.1},\"hatch_color\":{\"value\":\"yellow\"},\"line_alpha\":{\"value\":0.1},\"top\":{\"field\":\"A_2011\"},\"width\":{\"value\":0.8},\"x\":{\"field\":\"index\"}},\"id\":\"8512\",\"type\":\"VBar\"},{\"attributes\":{\"tools\":[{\"id\":\"8478\"},{\"id\":\"8495\"},{\"id\":\"8496\"},{\"id\":\"8497\"},{\"id\":\"8498\"},{\"id\":\"8499\"}]},\"id\":\"8501\",\"type\":\"Toolbar\"},{\"attributes\":{},\"id\":\"8522\",\"type\":\"AllLabels\"},{\"attributes\":{\"bottom_units\":\"screen\",\"coordinates\":null,\"fill_alpha\":0.5,\"fill_color\":\"lightgrey\",\"group\":null,\"left_units\":\"screen\",\"level\":\"overlay\",\"line_alpha\":1.0,\"line_color\":\"black\",\"line_dash\":[4,4],\"line_width\":2,\"right_units\":\"screen\",\"syncable\":false,\"top_units\":\"screen\"},\"id\":\"8500\",\"type\":\"BoxAnnotation\"},{\"attributes\":{},\"id\":\"8495\",\"type\":\"SaveTool\"},{\"attributes\":{\"callback\":null,\"renderers\":[{\"id\":\"8514\"}],\"tags\":[\"hv_created\"],\"tooltips\":[[\"index\",\"@{index}\"],[\"2011\",\"@{A_2011}\"]]},\"id\":\"8478\",\"type\":\"HoverTool\"},{\"attributes\":{},\"id\":\"8499\",\"type\":\"ResetTool\"}],\"root_ids\":[\"8474\"]},\"title\":\"Bokeh Application\",\"version\":\"2.4.2\"}};\n",
       "    var render_items = [{\"docid\":\"63487a96-d9f4-4aae-8fec-4562cb4c8805\",\"root_ids\":[\"8474\"],\"roots\":{\"8474\":\"853dda61-1cd1-4f05-a35e-4357163dc14a\"}}];\n",
       "    root.Bokeh.embed.embed_items_notebook(docs_json, render_items);\n",
       "  }\n",
       "  if (root.Bokeh !== undefined && root.Bokeh.Panel !== undefined && ( root['Plotly'] !== undefined)) {\n",
       "    embed_document(root);\n",
       "  } else {\n",
       "    var attempts = 0;\n",
       "    var timer = setInterval(function(root) {\n",
       "      if (root.Bokeh !== undefined && root.Bokeh.Panel !== undefined && (root['Plotly'] !== undefined)) {\n",
       "        clearInterval(timer);\n",
       "        embed_document(root);\n",
       "      } else if (document.readyState == \"complete\") {\n",
       "        attempts++;\n",
       "        if (attempts > 200) {\n",
       "          clearInterval(timer);\n",
       "          console.log(\"Bokeh: ERROR: Unable to run BokehJS code because BokehJS library is missing\");\n",
       "        }\n",
       "      }\n",
       "    }, 25, root)\n",
       "  }\n",
       "})(window);</script>"
      ],
      "text/plain": [
       ":Bars   [index]   (2011)"
      ]
     },
     "metadata": {
      "application/vnd.holoviews_exec.v0+json": {
       "id": "8474"
      }
     },
     "output_type": "display_data"
    },
    {
     "data": {},
     "metadata": {},
     "output_type": "display_data"
    },
    {
     "data": {
      "application/vnd.holoviews_exec.v0+json": "",
      "text/html": [
       "<div id='8595'>\n",
       "\n",
       "\n",
       "\n",
       "\n",
       "\n",
       "  <div class=\"bk-root\" id=\"a82e1983-4520-498b-9de2-c410804f5344\" data-root-id=\"8595\"></div>\n",
       "</div>\n",
       "<script type=\"application/javascript\">(function(root) {\n",
       "  function embed_document(root) {\n",
       "    var docs_json = {\"de570fd6-435c-4f04-89d3-b3a79a8d524d\":{\"defs\":[{\"extends\":null,\"module\":null,\"name\":\"ReactiveHTML1\",\"overrides\":[],\"properties\":[]},{\"extends\":null,\"module\":null,\"name\":\"FlexBox1\",\"overrides\":[],\"properties\":[{\"default\":\"flex-start\",\"kind\":null,\"name\":\"align_content\"},{\"default\":\"flex-start\",\"kind\":null,\"name\":\"align_items\"},{\"default\":\"row\",\"kind\":null,\"name\":\"flex_direction\"},{\"default\":\"wrap\",\"kind\":null,\"name\":\"flex_wrap\"},{\"default\":\"flex-start\",\"kind\":null,\"name\":\"justify_content\"}]},{\"extends\":null,\"module\":null,\"name\":\"GridStack1\",\"overrides\":[],\"properties\":[{\"default\":\"warn\",\"kind\":null,\"name\":\"mode\"},{\"default\":null,\"kind\":null,\"name\":\"ncols\"},{\"default\":null,\"kind\":null,\"name\":\"nrows\"},{\"default\":true,\"kind\":null,\"name\":\"allow_resize\"},{\"default\":true,\"kind\":null,\"name\":\"allow_drag\"},{\"default\":[],\"kind\":null,\"name\":\"state\"}]},{\"extends\":null,\"module\":null,\"name\":\"click1\",\"overrides\":[],\"properties\":[{\"default\":\"\",\"kind\":null,\"name\":\"terminal_output\"},{\"default\":\"\",\"kind\":null,\"name\":\"debug_name\"},{\"default\":0,\"kind\":null,\"name\":\"clears\"}]},{\"extends\":null,\"module\":null,\"name\":\"TemplateActions1\",\"overrides\":[],\"properties\":[{\"default\":0,\"kind\":null,\"name\":\"open_modal\"},{\"default\":0,\"kind\":null,\"name\":\"close_modal\"}]},{\"extends\":null,\"module\":null,\"name\":\"MaterialTemplateActions1\",\"overrides\":[],\"properties\":[{\"default\":0,\"kind\":null,\"name\":\"open_modal\"},{\"default\":0,\"kind\":null,\"name\":\"close_modal\"}]}],\"roots\":{\"references\":[{\"attributes\":{\"margin\":[5,5,5,5],\"name\":\"HSpacer16336\",\"sizing_mode\":\"stretch_width\"},\"id\":\"8664\",\"type\":\"Spacer\"},{\"attributes\":{},\"id\":\"8613\",\"type\":\"BasicTicker\"},{\"attributes\":{\"axis\":{\"id\":\"8609\"},\"coordinates\":null,\"grid_line_color\":null,\"group\":null,\"ticker\":null},\"id\":\"8611\",\"type\":\"Grid\"},{\"attributes\":{\"children\":[{\"id\":\"8596\"},{\"id\":\"8600\"},{\"id\":\"8664\"}],\"margin\":[0,0,0,0],\"name\":\"Row16331\",\"tags\":[\"embedded\"]},\"id\":\"8595\",\"type\":\"Row\"},{\"attributes\":{\"fill_alpha\":{\"value\":0.2},\"fill_color\":{\"value\":\"magenta\"},\"hatch_alpha\":{\"value\":0.2},\"hatch_color\":{\"value\":\"magenta\"},\"line_alpha\":{\"value\":0.2},\"top\":{\"field\":\"A_2016\"},\"width\":{\"value\":0.8},\"x\":{\"field\":\"index\"}},\"id\":\"8634\",\"type\":\"VBar\"},{\"attributes\":{},\"id\":\"8610\",\"type\":\"CategoricalTicker\"},{\"attributes\":{\"axis_label\":\"\",\"coordinates\":null,\"formatter\":{\"id\":\"8639\"},\"group\":null,\"major_label_orientation\":1.5707963267948966,\"major_label_policy\":{\"id\":\"8640\"},\"ticker\":{\"id\":\"8610\"}},\"id\":\"8609\",\"type\":\"CategoricalAxis\"},{\"attributes\":{\"end\":542587.5,\"reset_end\":542587.5,\"reset_start\":0.0,\"tags\":[[[\"2016\",\"2016\",null]]]},\"id\":\"8598\",\"type\":\"Range1d\"},{\"attributes\":{\"axis_label\":\"Dwelling Types Units\",\"coordinates\":null,\"formatter\":{\"id\":\"8642\"},\"group\":null,\"major_label_policy\":{\"id\":\"8643\"},\"ticker\":{\"id\":\"8613\"}},\"id\":\"8612\",\"type\":\"LinearAxis\"},{\"attributes\":{\"below\":[{\"id\":\"8609\"}],\"center\":[{\"id\":\"8611\"},{\"id\":\"8615\"}],\"height\":300,\"left\":[{\"id\":\"8612\"}],\"margin\":[5,5,5,5],\"min_border_bottom\":10,\"min_border_left\":10,\"min_border_right\":10,\"min_border_top\":10,\"renderers\":[{\"id\":\"8635\"}],\"sizing_mode\":\"fixed\",\"title\":{\"id\":\"8601\"},\"toolbar\":{\"id\":\"8622\"},\"width\":700,\"x_range\":{\"id\":\"8597\"},\"x_scale\":{\"id\":\"8605\"},\"y_range\":{\"id\":\"8598\"},\"y_scale\":{\"id\":\"8607\"}},\"id\":\"8600\",\"subtype\":\"Figure\",\"type\":\"Plot\"},{\"attributes\":{\"coordinates\":null,\"data_source\":{\"id\":\"8629\"},\"glyph\":{\"id\":\"8632\"},\"group\":null,\"hover_glyph\":null,\"muted_glyph\":{\"id\":\"8634\"},\"nonselection_glyph\":{\"id\":\"8633\"},\"selection_glyph\":{\"id\":\"8637\"},\"view\":{\"id\":\"8636\"}},\"id\":\"8635\",\"type\":\"GlyphRenderer\"},{\"attributes\":{\"axis\":{\"id\":\"8612\"},\"coordinates\":null,\"dimension\":1,\"grid_line_color\":null,\"group\":null,\"ticker\":null},\"id\":\"8615\",\"type\":\"Grid\"},{\"attributes\":{\"margin\":[5,5,5,5],\"name\":\"HSpacer16335\",\"sizing_mode\":\"stretch_width\"},\"id\":\"8596\",\"type\":\"Spacer\"},{\"attributes\":{\"bottom\":{\"value\":0},\"fill_alpha\":{\"value\":1.0},\"fill_color\":{\"value\":\"magenta\"},\"hatch_alpha\":{\"value\":1.0},\"hatch_color\":{\"value\":\"magenta\"},\"hatch_scale\":{\"value\":12.0},\"hatch_weight\":{\"value\":1.0},\"line_alpha\":{\"value\":1.0},\"line_cap\":{\"value\":\"butt\"},\"line_color\":{\"value\":\"black\"},\"line_dash\":{\"value\":[]},\"line_dash_offset\":{\"value\":0},\"line_join\":{\"value\":\"bevel\"},\"line_width\":{\"value\":1},\"top\":{\"field\":\"A_2016\"},\"width\":{\"value\":0.8},\"x\":{\"field\":\"index\"}},\"id\":\"8637\",\"type\":\"VBar\"},{\"attributes\":{},\"id\":\"8639\",\"type\":\"CategoricalTickFormatter\"},{\"attributes\":{},\"id\":\"8651\",\"type\":\"UnionRenderers\"},{\"attributes\":{},\"id\":\"8630\",\"type\":\"Selection\"},{\"attributes\":{},\"id\":\"8642\",\"type\":\"BasicTickFormatter\"},{\"attributes\":{\"source\":{\"id\":\"8629\"}},\"id\":\"8636\",\"type\":\"CDSView\"},{\"attributes\":{\"factors\":[\"single_detached_house\",\"apartment_five_storeys_plus\",\"movable_dwelling\",\"semi_detached_house\",\"row_house\",\"duplex\",\"apartment_five_storeys_less\",\"other_house\"],\"tags\":[[[\"index\",\"index\",null]]]},\"id\":\"8597\",\"type\":\"FactorRange\"},{\"attributes\":{\"tools\":[{\"id\":\"8599\"},{\"id\":\"8616\"},{\"id\":\"8617\"},{\"id\":\"8618\"},{\"id\":\"8619\"},{\"id\":\"8620\"}]},\"id\":\"8622\",\"type\":\"Toolbar\"},{\"attributes\":{\"data\":{\"A_2016\":[269680,493270,95,71200,61565,48585,165575,2845],\"index\":[\"single_detached_house\",\"apartment_five_storeys_plus\",\"movable_dwelling\",\"semi_detached_house\",\"row_house\",\"duplex\",\"apartment_five_storeys_less\",\"other_house\"]},\"selected\":{\"id\":\"8630\"},\"selection_policy\":{\"id\":\"8651\"}},\"id\":\"8629\",\"type\":\"ColumnDataSource\"},{\"attributes\":{\"fill_alpha\":{\"value\":0.1},\"fill_color\":{\"value\":\"magenta\"},\"hatch_alpha\":{\"value\":0.1},\"hatch_color\":{\"value\":\"magenta\"},\"line_alpha\":{\"value\":0.1},\"top\":{\"field\":\"A_2016\"},\"width\":{\"value\":0.8},\"x\":{\"field\":\"index\"}},\"id\":\"8633\",\"type\":\"VBar\"},{\"attributes\":{\"bottom_units\":\"screen\",\"coordinates\":null,\"fill_alpha\":0.5,\"fill_color\":\"lightgrey\",\"group\":null,\"left_units\":\"screen\",\"level\":\"overlay\",\"line_alpha\":1.0,\"line_color\":\"black\",\"line_dash\":[4,4],\"line_width\":2,\"right_units\":\"screen\",\"syncable\":false,\"top_units\":\"screen\"},\"id\":\"8621\",\"type\":\"BoxAnnotation\"},{\"attributes\":{},\"id\":\"8616\",\"type\":\"SaveTool\"},{\"attributes\":{},\"id\":\"8643\",\"type\":\"AllLabels\"},{\"attributes\":{\"coordinates\":null,\"group\":null,\"text\":\"Dwelling Types in Toronot in 2001\",\"text_color\":\"black\",\"text_font_size\":\"12pt\"},\"id\":\"8601\",\"type\":\"Title\"},{\"attributes\":{\"callback\":null,\"renderers\":[{\"id\":\"8635\"}],\"tags\":[\"hv_created\"],\"tooltips\":[[\"index\",\"@{index}\"],[\"2016\",\"@{A_2016}\"]]},\"id\":\"8599\",\"type\":\"HoverTool\"},{\"attributes\":{},\"id\":\"8617\",\"type\":\"PanTool\"},{\"attributes\":{},\"id\":\"8620\",\"type\":\"ResetTool\"},{\"attributes\":{},\"id\":\"8618\",\"type\":\"WheelZoomTool\"},{\"attributes\":{\"fill_color\":{\"value\":\"magenta\"},\"hatch_color\":{\"value\":\"magenta\"},\"top\":{\"field\":\"A_2016\"},\"width\":{\"value\":0.8},\"x\":{\"field\":\"index\"}},\"id\":\"8632\",\"type\":\"VBar\"},{\"attributes\":{\"overlay\":{\"id\":\"8621\"}},\"id\":\"8619\",\"type\":\"BoxZoomTool\"},{\"attributes\":{},\"id\":\"8640\",\"type\":\"AllLabels\"},{\"attributes\":{},\"id\":\"8605\",\"type\":\"CategoricalScale\"},{\"attributes\":{},\"id\":\"8607\",\"type\":\"LinearScale\"}],\"root_ids\":[\"8595\"]},\"title\":\"Bokeh Application\",\"version\":\"2.4.2\"}};\n",
       "    var render_items = [{\"docid\":\"de570fd6-435c-4f04-89d3-b3a79a8d524d\",\"root_ids\":[\"8595\"],\"roots\":{\"8595\":\"a82e1983-4520-498b-9de2-c410804f5344\"}}];\n",
       "    root.Bokeh.embed.embed_items_notebook(docs_json, render_items);\n",
       "  }\n",
       "  if (root.Bokeh !== undefined && root.Bokeh.Panel !== undefined && ( root['Plotly'] !== undefined)) {\n",
       "    embed_document(root);\n",
       "  } else {\n",
       "    var attempts = 0;\n",
       "    var timer = setInterval(function(root) {\n",
       "      if (root.Bokeh !== undefined && root.Bokeh.Panel !== undefined && (root['Plotly'] !== undefined)) {\n",
       "        clearInterval(timer);\n",
       "        embed_document(root);\n",
       "      } else if (document.readyState == \"complete\") {\n",
       "        attempts++;\n",
       "        if (attempts > 200) {\n",
       "          clearInterval(timer);\n",
       "          console.log(\"Bokeh: ERROR: Unable to run BokehJS code because BokehJS library is missing\");\n",
       "        }\n",
       "      }\n",
       "    }, 25, root)\n",
       "  }\n",
       "})(window);</script>"
      ],
      "text/plain": [
       ":Bars   [index]   (2016)"
      ]
     },
     "metadata": {
      "application/vnd.holoviews_exec.v0+json": {
       "id": "8595"
      }
     },
     "output_type": "display_data"
    }
   ],
   "source": [
    "# Create a bar chart per year to show the number of dwelling types\n",
    "\n",
    "# Bar chart for 2001\n",
    "create_bar_chart(dwellings_year.iloc[0], 'Dwelling Types in Toronot in 2001', '', 'Dwelling Types Units','red')\n",
    "\n",
    "# Bar chart for 2006\n",
    "create_bar_chart(dwellings_year.iloc[1], 'Dwelling Types in Toronot in 2001', '', 'Dwelling Types Units','blue')\n",
    "\n",
    "# Bar chart for 2011\n",
    "create_bar_chart(dwellings_year.iloc[2], 'Dwelling Types in Toronot in 2001', '', 'Dwelling Types Units','yellow')\n",
    "# Bar chart for 2016\n",
    "create_bar_chart(dwellings_year.iloc[3], 'Dwelling Types in Toronot in 2001', '', 'Dwelling Types Units','magenta')"
   ]
  },
  {
   "cell_type": "code",
   "execution_count": null,
   "metadata": {},
   "outputs": [],
   "source": []
  },
  {
   "cell_type": "markdown",
   "metadata": {},
   "source": [
    "- - - "
   ]
  },
  {
   "cell_type": "markdown",
   "metadata": {},
   "source": [
    "## Average Monthly Shelter Costs in Toronto Per Year\n",
    "\n",
    "In this section, you will calculate the average monthly shelter costs for owned and rented dwellings and the average house value for each year. Plot the results as a line chart.\n",
    "\n",
    "**Optional challenge:** Plot each line chart in a different color."
   ]
  },
  {
   "cell_type": "code",
   "execution_count": 232,
   "metadata": {},
   "outputs": [
    {
     "data": {
      "text/html": [
       "<div>\n",
       "<style scoped>\n",
       "    .dataframe tbody tr th:only-of-type {\n",
       "        vertical-align: middle;\n",
       "    }\n",
       "\n",
       "    .dataframe tbody tr th {\n",
       "        vertical-align: top;\n",
       "    }\n",
       "\n",
       "    .dataframe thead th {\n",
       "        text-align: right;\n",
       "    }\n",
       "</style>\n",
       "<table border=\"1\" class=\"dataframe\">\n",
       "  <thead>\n",
       "    <tr style=\"text-align: right;\">\n",
       "      <th></th>\n",
       "      <th>shelter_costs_owned</th>\n",
       "      <th>shelter_costs_rented</th>\n",
       "    </tr>\n",
       "    <tr>\n",
       "      <th>year</th>\n",
       "      <th></th>\n",
       "      <th></th>\n",
       "    </tr>\n",
       "  </thead>\n",
       "  <tbody>\n",
       "    <tr>\n",
       "      <th>2001</th>\n",
       "      <td>846.878571</td>\n",
       "      <td>1085.935714</td>\n",
       "    </tr>\n",
       "    <tr>\n",
       "      <th>2006</th>\n",
       "      <td>1316.800000</td>\n",
       "      <td>925.414286</td>\n",
       "    </tr>\n",
       "    <tr>\n",
       "      <th>2011</th>\n",
       "      <td>1448.214286</td>\n",
       "      <td>1019.792857</td>\n",
       "    </tr>\n",
       "    <tr>\n",
       "      <th>2016</th>\n",
       "      <td>1761.314286</td>\n",
       "      <td>1256.321429</td>\n",
       "    </tr>\n",
       "  </tbody>\n",
       "</table>\n",
       "</div>"
      ],
      "text/plain": [
       "      shelter_costs_owned  shelter_costs_rented\n",
       "year                                           \n",
       "2001           846.878571           1085.935714\n",
       "2006          1316.800000            925.414286\n",
       "2011          1448.214286           1019.792857\n",
       "2016          1761.314286           1256.321429"
      ]
     },
     "execution_count": 232,
     "metadata": {},
     "output_type": "execute_result"
    }
   ],
   "source": [
    "# Calculate the average monthly shelter costs for owned and rented dwellings\n",
    "number_of_ngbr = to_data.loc['2001'].neighbourhood.count()\n",
    "df = pd.concat([to_data.groupby('year')['shelter_costs_owned'].sum()/number_of_ngbr, to_data.groupby('year')['shelter_costs_rented'].sum()/number_of_ngbr], axis = 1)\n",
    "\n",
    "df\n"
   ]
  },
  {
   "cell_type": "code",
   "execution_count": 233,
   "metadata": {},
   "outputs": [],
   "source": [
    "# Helper create_line_chart function\n",
    "def create_line_chart(data, title, xlabel, ylabel, color):\n",
    "    display(data.hvplot.line(title = title, xlabel=xlabel, ylabel=ylabel, color=color))\n",
    "    return"
   ]
  },
  {
   "cell_type": "code",
   "execution_count": 234,
   "metadata": {},
   "outputs": [
    {
     "data": {},
     "metadata": {},
     "output_type": "display_data"
    },
    {
     "data": {
      "application/vnd.holoviews_exec.v0+json": "",
      "text/html": [
       "<div id='8716'>\n",
       "\n",
       "\n",
       "\n",
       "\n",
       "\n",
       "  <div class=\"bk-root\" id=\"e93dc0a8-2fc1-456c-afb1-6fd23c7ee562\" data-root-id=\"8716\"></div>\n",
       "</div>\n",
       "<script type=\"application/javascript\">(function(root) {\n",
       "  function embed_document(root) {\n",
       "    var docs_json = {\"aaea50ca-2faf-4326-8c9c-4e74872a0a48\":{\"defs\":[{\"extends\":null,\"module\":null,\"name\":\"ReactiveHTML1\",\"overrides\":[],\"properties\":[]},{\"extends\":null,\"module\":null,\"name\":\"FlexBox1\",\"overrides\":[],\"properties\":[{\"default\":\"flex-start\",\"kind\":null,\"name\":\"align_content\"},{\"default\":\"flex-start\",\"kind\":null,\"name\":\"align_items\"},{\"default\":\"row\",\"kind\":null,\"name\":\"flex_direction\"},{\"default\":\"wrap\",\"kind\":null,\"name\":\"flex_wrap\"},{\"default\":\"flex-start\",\"kind\":null,\"name\":\"justify_content\"}]},{\"extends\":null,\"module\":null,\"name\":\"GridStack1\",\"overrides\":[],\"properties\":[{\"default\":\"warn\",\"kind\":null,\"name\":\"mode\"},{\"default\":null,\"kind\":null,\"name\":\"ncols\"},{\"default\":null,\"kind\":null,\"name\":\"nrows\"},{\"default\":true,\"kind\":null,\"name\":\"allow_resize\"},{\"default\":true,\"kind\":null,\"name\":\"allow_drag\"},{\"default\":[],\"kind\":null,\"name\":\"state\"}]},{\"extends\":null,\"module\":null,\"name\":\"click1\",\"overrides\":[],\"properties\":[{\"default\":\"\",\"kind\":null,\"name\":\"terminal_output\"},{\"default\":\"\",\"kind\":null,\"name\":\"debug_name\"},{\"default\":0,\"kind\":null,\"name\":\"clears\"}]},{\"extends\":null,\"module\":null,\"name\":\"TemplateActions1\",\"overrides\":[],\"properties\":[{\"default\":0,\"kind\":null,\"name\":\"open_modal\"},{\"default\":0,\"kind\":null,\"name\":\"close_modal\"}]},{\"extends\":null,\"module\":null,\"name\":\"MaterialTemplateActions1\",\"overrides\":[],\"properties\":[{\"default\":0,\"kind\":null,\"name\":\"open_modal\"},{\"default\":0,\"kind\":null,\"name\":\"close_modal\"}]}],\"roots\":{\"references\":[{\"attributes\":{\"children\":[{\"id\":\"8717\"},{\"id\":\"8721\"},{\"id\":\"8786\"}],\"margin\":[0,0,0,0],\"name\":\"Row16480\",\"tags\":[\"embedded\"]},\"id\":\"8716\",\"type\":\"Row\"},{\"attributes\":{},\"id\":\"8735\",\"type\":\"BasicTicker\"},{\"attributes\":{\"margin\":[5,5,5,5],\"name\":\"HSpacer16485\",\"sizing_mode\":\"stretch_width\"},\"id\":\"8786\",\"type\":\"Spacer\"},{\"attributes\":{\"axis_label\":\"\",\"coordinates\":null,\"formatter\":{\"id\":\"8761\"},\"group\":null,\"major_label_policy\":{\"id\":\"8762\"},\"ticker\":{\"id\":\"8731\"}},\"id\":\"8730\",\"type\":\"LinearAxis\"},{\"attributes\":{\"axis_label\":\"Ave Monthly Shelter Costs\",\"coordinates\":null,\"formatter\":{\"id\":\"8764\"},\"group\":null,\"major_label_policy\":{\"id\":\"8765\"},\"ticker\":{\"id\":\"8735\"}},\"id\":\"8734\",\"type\":\"LinearAxis\"},{\"attributes\":{},\"id\":\"8731\",\"type\":\"BasicTicker\"},{\"attributes\":{\"line_color\":\"blue\",\"line_width\":2,\"x\":{\"field\":\"year\"},\"y\":{\"field\":\"shelter_costs_owned\"}},\"id\":\"8759\",\"type\":\"Line\"},{\"attributes\":{},\"id\":\"8752\",\"type\":\"Selection\"},{\"attributes\":{\"axis\":{\"id\":\"8730\"},\"coordinates\":null,\"grid_line_color\":null,\"group\":null,\"ticker\":null},\"id\":\"8733\",\"type\":\"Grid\"},{\"attributes\":{\"margin\":[5,5,5,5],\"name\":\"HSpacer16484\",\"sizing_mode\":\"stretch_width\"},\"id\":\"8717\",\"type\":\"Spacer\"},{\"attributes\":{\"axis\":{\"id\":\"8734\"},\"coordinates\":null,\"dimension\":1,\"grid_line_color\":null,\"group\":null,\"ticker\":null},\"id\":\"8737\",\"type\":\"Grid\"},{\"attributes\":{\"data\":{\"shelter_costs_owned\":{\"__ndarray__\":\"UAd1UAd3ikAzMzMzM5OUQG7btm3boJZA1EEd1EGFm0A=\",\"dtype\":\"float64\",\"order\":\"little\",\"shape\":[4]},\"year\":[2001,2006,2011,2016]},\"selected\":{\"id\":\"8752\"},\"selection_policy\":{\"id\":\"8773\"}},\"id\":\"8751\",\"type\":\"ColumnDataSource\"},{\"attributes\":{\"end\":2016.0,\"reset_end\":2016.0,\"reset_start\":2001.0,\"start\":2001.0,\"tags\":[[[\"year\",\"year\",null]]]},\"id\":\"8718\",\"type\":\"Range1d\"},{\"attributes\":{},\"id\":\"8764\",\"type\":\"BasicTickFormatter\"},{\"attributes\":{},\"id\":\"8765\",\"type\":\"AllLabels\"},{\"attributes\":{},\"id\":\"8762\",\"type\":\"AllLabels\"},{\"attributes\":{\"below\":[{\"id\":\"8730\"}],\"center\":[{\"id\":\"8733\"},{\"id\":\"8737\"}],\"height\":300,\"left\":[{\"id\":\"8734\"}],\"margin\":[5,5,5,5],\"min_border_bottom\":10,\"min_border_left\":10,\"min_border_right\":10,\"min_border_top\":10,\"renderers\":[{\"id\":\"8757\"}],\"sizing_mode\":\"fixed\",\"title\":{\"id\":\"8722\"},\"toolbar\":{\"id\":\"8744\"},\"width\":700,\"x_range\":{\"id\":\"8718\"},\"x_scale\":{\"id\":\"8726\"},\"y_range\":{\"id\":\"8719\"},\"y_scale\":{\"id\":\"8728\"}},\"id\":\"8721\",\"subtype\":\"Figure\",\"type\":\"Plot\"},{\"attributes\":{\"callback\":null,\"renderers\":[{\"id\":\"8757\"}],\"tags\":[\"hv_created\"],\"tooltips\":[[\"year\",\"@{year}\"],[\"shelter_costs_owned\",\"@{shelter_costs_owned}\"]]},\"id\":\"8720\",\"type\":\"HoverTool\"},{\"attributes\":{},\"id\":\"8726\",\"type\":\"LinearScale\"},{\"attributes\":{\"source\":{\"id\":\"8751\"}},\"id\":\"8758\",\"type\":\"CDSView\"},{\"attributes\":{\"coordinates\":null,\"data_source\":{\"id\":\"8751\"},\"glyph\":{\"id\":\"8754\"},\"group\":null,\"hover_glyph\":null,\"muted_glyph\":{\"id\":\"8756\"},\"nonselection_glyph\":{\"id\":\"8755\"},\"selection_glyph\":{\"id\":\"8759\"},\"view\":{\"id\":\"8758\"}},\"id\":\"8757\",\"type\":\"GlyphRenderer\"},{\"attributes\":{\"line_alpha\":0.2,\"line_color\":\"blue\",\"line_width\":2,\"x\":{\"field\":\"year\"},\"y\":{\"field\":\"shelter_costs_owned\"}},\"id\":\"8756\",\"type\":\"Line\"},{\"attributes\":{\"tools\":[{\"id\":\"8720\"},{\"id\":\"8738\"},{\"id\":\"8739\"},{\"id\":\"8740\"},{\"id\":\"8741\"},{\"id\":\"8742\"}]},\"id\":\"8744\",\"type\":\"Toolbar\"},{\"attributes\":{\"line_color\":\"blue\",\"line_width\":2,\"x\":{\"field\":\"year\"},\"y\":{\"field\":\"shelter_costs_owned\"}},\"id\":\"8754\",\"type\":\"Line\"},{\"attributes\":{\"bottom_units\":\"screen\",\"coordinates\":null,\"fill_alpha\":0.5,\"fill_color\":\"lightgrey\",\"group\":null,\"left_units\":\"screen\",\"level\":\"overlay\",\"line_alpha\":1.0,\"line_color\":\"black\",\"line_dash\":[4,4],\"line_width\":2,\"right_units\":\"screen\",\"syncable\":false,\"top_units\":\"screen\"},\"id\":\"8743\",\"type\":\"BoxAnnotation\"},{\"attributes\":{},\"id\":\"8738\",\"type\":\"SaveTool\"},{\"attributes\":{},\"id\":\"8761\",\"type\":\"BasicTickFormatter\"},{\"attributes\":{\"end\":1852.7578571428571,\"reset_end\":1852.7578571428571,\"reset_start\":755.435,\"start\":755.435,\"tags\":[[[\"shelter_costs_owned\",\"shelter_costs_owned\",null]]]},\"id\":\"8719\",\"type\":\"Range1d\"},{\"attributes\":{},\"id\":\"8739\",\"type\":\"PanTool\"},{\"attributes\":{},\"id\":\"8742\",\"type\":\"ResetTool\"},{\"attributes\":{\"line_alpha\":0.1,\"line_color\":\"blue\",\"line_width\":2,\"x\":{\"field\":\"year\"},\"y\":{\"field\":\"shelter_costs_owned\"}},\"id\":\"8755\",\"type\":\"Line\"},{\"attributes\":{},\"id\":\"8740\",\"type\":\"WheelZoomTool\"},{\"attributes\":{},\"id\":\"8728\",\"type\":\"LinearScale\"},{\"attributes\":{\"overlay\":{\"id\":\"8743\"}},\"id\":\"8741\",\"type\":\"BoxZoomTool\"},{\"attributes\":{},\"id\":\"8773\",\"type\":\"UnionRenderers\"},{\"attributes\":{\"coordinates\":null,\"group\":null,\"text\":\"Average Monthly Shelter Cost for Owned Dwellings in Toronto\",\"text_color\":\"black\",\"text_font_size\":\"12pt\"},\"id\":\"8722\",\"type\":\"Title\"}],\"root_ids\":[\"8716\"]},\"title\":\"Bokeh Application\",\"version\":\"2.4.2\"}};\n",
       "    var render_items = [{\"docid\":\"aaea50ca-2faf-4326-8c9c-4e74872a0a48\",\"root_ids\":[\"8716\"],\"roots\":{\"8716\":\"e93dc0a8-2fc1-456c-afb1-6fd23c7ee562\"}}];\n",
       "    root.Bokeh.embed.embed_items_notebook(docs_json, render_items);\n",
       "  }\n",
       "  if (root.Bokeh !== undefined && root.Bokeh.Panel !== undefined && ( root['Plotly'] !== undefined)) {\n",
       "    embed_document(root);\n",
       "  } else {\n",
       "    var attempts = 0;\n",
       "    var timer = setInterval(function(root) {\n",
       "      if (root.Bokeh !== undefined && root.Bokeh.Panel !== undefined && (root['Plotly'] !== undefined)) {\n",
       "        clearInterval(timer);\n",
       "        embed_document(root);\n",
       "      } else if (document.readyState == \"complete\") {\n",
       "        attempts++;\n",
       "        if (attempts > 200) {\n",
       "          clearInterval(timer);\n",
       "          console.log(\"Bokeh: ERROR: Unable to run BokehJS code because BokehJS library is missing\");\n",
       "        }\n",
       "      }\n",
       "    }, 25, root)\n",
       "  }\n",
       "})(window);</script>"
      ],
      "text/plain": [
       ":Curve   [year]   (shelter_costs_owned)"
      ]
     },
     "metadata": {
      "application/vnd.holoviews_exec.v0+json": {
       "id": "8716"
      }
     },
     "output_type": "display_data"
    },
    {
     "data": {},
     "metadata": {},
     "output_type": "display_data"
    },
    {
     "data": {
      "application/vnd.holoviews_exec.v0+json": "",
      "text/html": [
       "<div id='8838'>\n",
       "\n",
       "\n",
       "\n",
       "\n",
       "\n",
       "  <div class=\"bk-root\" id=\"b867c1bf-f699-449b-a91a-410a6f19b84c\" data-root-id=\"8838\"></div>\n",
       "</div>\n",
       "<script type=\"application/javascript\">(function(root) {\n",
       "  function embed_document(root) {\n",
       "    var docs_json = {\"a7d7b163-7451-4951-9c37-fca3726a2e4c\":{\"defs\":[{\"extends\":null,\"module\":null,\"name\":\"ReactiveHTML1\",\"overrides\":[],\"properties\":[]},{\"extends\":null,\"module\":null,\"name\":\"FlexBox1\",\"overrides\":[],\"properties\":[{\"default\":\"flex-start\",\"kind\":null,\"name\":\"align_content\"},{\"default\":\"flex-start\",\"kind\":null,\"name\":\"align_items\"},{\"default\":\"row\",\"kind\":null,\"name\":\"flex_direction\"},{\"default\":\"wrap\",\"kind\":null,\"name\":\"flex_wrap\"},{\"default\":\"flex-start\",\"kind\":null,\"name\":\"justify_content\"}]},{\"extends\":null,\"module\":null,\"name\":\"GridStack1\",\"overrides\":[],\"properties\":[{\"default\":\"warn\",\"kind\":null,\"name\":\"mode\"},{\"default\":null,\"kind\":null,\"name\":\"ncols\"},{\"default\":null,\"kind\":null,\"name\":\"nrows\"},{\"default\":true,\"kind\":null,\"name\":\"allow_resize\"},{\"default\":true,\"kind\":null,\"name\":\"allow_drag\"},{\"default\":[],\"kind\":null,\"name\":\"state\"}]},{\"extends\":null,\"module\":null,\"name\":\"click1\",\"overrides\":[],\"properties\":[{\"default\":\"\",\"kind\":null,\"name\":\"terminal_output\"},{\"default\":\"\",\"kind\":null,\"name\":\"debug_name\"},{\"default\":0,\"kind\":null,\"name\":\"clears\"}]},{\"extends\":null,\"module\":null,\"name\":\"TemplateActions1\",\"overrides\":[],\"properties\":[{\"default\":0,\"kind\":null,\"name\":\"open_modal\"},{\"default\":0,\"kind\":null,\"name\":\"close_modal\"}]},{\"extends\":null,\"module\":null,\"name\":\"MaterialTemplateActions1\",\"overrides\":[],\"properties\":[{\"default\":0,\"kind\":null,\"name\":\"open_modal\"},{\"default\":0,\"kind\":null,\"name\":\"close_modal\"}]}],\"roots\":{\"references\":[{\"attributes\":{\"axis_label\":\"\",\"coordinates\":null,\"formatter\":{\"id\":\"8883\"},\"group\":null,\"major_label_policy\":{\"id\":\"8884\"},\"ticker\":{\"id\":\"8853\"}},\"id\":\"8852\",\"type\":\"LinearAxis\"},{\"attributes\":{},\"id\":\"8857\",\"type\":\"BasicTicker\"},{\"attributes\":{\"axis_label\":\"Ave Monthly Shelter Costs\",\"coordinates\":null,\"formatter\":{\"id\":\"8886\"},\"group\":null,\"major_label_policy\":{\"id\":\"8887\"},\"ticker\":{\"id\":\"8857\"}},\"id\":\"8856\",\"type\":\"LinearAxis\"},{\"attributes\":{},\"id\":\"8887\",\"type\":\"AllLabels\"},{\"attributes\":{\"margin\":[5,5,5,5],\"name\":\"HSpacer16662\",\"sizing_mode\":\"stretch_width\"},\"id\":\"8908\",\"type\":\"Spacer\"},{\"attributes\":{},\"id\":\"8853\",\"type\":\"BasicTicker\"},{\"attributes\":{\"below\":[{\"id\":\"8852\"}],\"center\":[{\"id\":\"8855\"},{\"id\":\"8859\"}],\"height\":300,\"left\":[{\"id\":\"8856\"}],\"margin\":[5,5,5,5],\"min_border_bottom\":10,\"min_border_left\":10,\"min_border_right\":10,\"min_border_top\":10,\"renderers\":[{\"id\":\"8879\"}],\"sizing_mode\":\"fixed\",\"title\":{\"id\":\"8844\"},\"toolbar\":{\"id\":\"8866\"},\"width\":700,\"x_range\":{\"id\":\"8840\"},\"x_scale\":{\"id\":\"8848\"},\"y_range\":{\"id\":\"8841\"},\"y_scale\":{\"id\":\"8850\"}},\"id\":\"8843\",\"subtype\":\"Figure\",\"type\":\"Plot\"},{\"attributes\":{\"axis\":{\"id\":\"8852\"},\"coordinates\":null,\"grid_line_color\":null,\"group\":null,\"ticker\":null},\"id\":\"8855\",\"type\":\"Grid\"},{\"attributes\":{\"axis\":{\"id\":\"8856\"},\"coordinates\":null,\"dimension\":1,\"grid_line_color\":null,\"group\":null,\"ticker\":null},\"id\":\"8859\",\"type\":\"Grid\"},{\"attributes\":{\"coordinates\":null,\"data_source\":{\"id\":\"8873\"},\"glyph\":{\"id\":\"8876\"},\"group\":null,\"hover_glyph\":null,\"muted_glyph\":{\"id\":\"8878\"},\"nonselection_glyph\":{\"id\":\"8877\"},\"selection_glyph\":{\"id\":\"8881\"},\"view\":{\"id\":\"8880\"}},\"id\":\"8879\",\"type\":\"GlyphRenderer\"},{\"attributes\":{\"line_alpha\":0.1,\"line_color\":\"yellow\",\"line_width\":2,\"x\":{\"field\":\"year\"},\"y\":{\"field\":\"shelter_costs_rented\"}},\"id\":\"8877\",\"type\":\"Line\"},{\"attributes\":{},\"id\":\"8883\",\"type\":\"BasicTickFormatter\"},{\"attributes\":{},\"id\":\"8848\",\"type\":\"LinearScale\"},{\"attributes\":{\"source\":{\"id\":\"8873\"}},\"id\":\"8880\",\"type\":\"CDSView\"},{\"attributes\":{\"end\":1289.412142857143,\"reset_end\":1289.412142857143,\"reset_start\":892.3235714285714,\"start\":892.3235714285714,\"tags\":[[[\"shelter_costs_rented\",\"shelter_costs_rented\",null]]]},\"id\":\"8841\",\"type\":\"Range1d\"},{\"attributes\":{\"tools\":[{\"id\":\"8842\"},{\"id\":\"8860\"},{\"id\":\"8861\"},{\"id\":\"8862\"},{\"id\":\"8863\"},{\"id\":\"8864\"}]},\"id\":\"8866\",\"type\":\"Toolbar\"},{\"attributes\":{\"end\":2016.0,\"reset_end\":2016.0,\"reset_start\":2001.0,\"start\":2001.0,\"tags\":[[[\"year\",\"year\",null]]]},\"id\":\"8840\",\"type\":\"Range1d\"},{\"attributes\":{\"line_alpha\":0.2,\"line_color\":\"yellow\",\"line_width\":2,\"x\":{\"field\":\"year\"},\"y\":{\"field\":\"shelter_costs_rented\"}},\"id\":\"8878\",\"type\":\"Line\"},{\"attributes\":{\"bottom_units\":\"screen\",\"coordinates\":null,\"fill_alpha\":0.5,\"fill_color\":\"lightgrey\",\"group\":null,\"left_units\":\"screen\",\"level\":\"overlay\",\"line_alpha\":1.0,\"line_color\":\"black\",\"line_dash\":[4,4],\"line_width\":2,\"right_units\":\"screen\",\"syncable\":false,\"top_units\":\"screen\"},\"id\":\"8865\",\"type\":\"BoxAnnotation\"},{\"attributes\":{},\"id\":\"8860\",\"type\":\"SaveTool\"},{\"attributes\":{},\"id\":\"8884\",\"type\":\"AllLabels\"},{\"attributes\":{\"margin\":[5,5,5,5],\"name\":\"HSpacer16661\",\"sizing_mode\":\"stretch_width\"},\"id\":\"8839\",\"type\":\"Spacer\"},{\"attributes\":{},\"id\":\"8861\",\"type\":\"PanTool\"},{\"attributes\":{\"line_color\":\"yellow\",\"line_width\":2,\"x\":{\"field\":\"year\"},\"y\":{\"field\":\"shelter_costs_rented\"}},\"id\":\"8876\",\"type\":\"Line\"},{\"attributes\":{},\"id\":\"8864\",\"type\":\"ResetTool\"},{\"attributes\":{\"children\":[{\"id\":\"8839\"},{\"id\":\"8843\"},{\"id\":\"8908\"}],\"margin\":[0,0,0,0],\"name\":\"Row16657\",\"tags\":[\"embedded\"]},\"id\":\"8838\",\"type\":\"Row\"},{\"attributes\":{},\"id\":\"8862\",\"type\":\"WheelZoomTool\"},{\"attributes\":{},\"id\":\"8874\",\"type\":\"Selection\"},{\"attributes\":{},\"id\":\"8850\",\"type\":\"LinearScale\"},{\"attributes\":{\"data\":{\"shelter_costs_rented\":{\"__ndarray__\":\"LL7iK773kEB1UAd1UOuMQMVXfMVX3o9AJUmSJEmhk0A=\",\"dtype\":\"float64\",\"order\":\"little\",\"shape\":[4]},\"year\":[2001,2006,2011,2016]},\"selected\":{\"id\":\"8874\"},\"selection_policy\":{\"id\":\"8895\"}},\"id\":\"8873\",\"type\":\"ColumnDataSource\"},{\"attributes\":{\"line_color\":\"yellow\",\"line_width\":2,\"x\":{\"field\":\"year\"},\"y\":{\"field\":\"shelter_costs_rented\"}},\"id\":\"8881\",\"type\":\"Line\"},{\"attributes\":{\"overlay\":{\"id\":\"8865\"}},\"id\":\"8863\",\"type\":\"BoxZoomTool\"},{\"attributes\":{\"callback\":null,\"renderers\":[{\"id\":\"8879\"}],\"tags\":[\"hv_created\"],\"tooltips\":[[\"year\",\"@{year}\"],[\"shelter_costs_rented\",\"@{shelter_costs_rented}\"]]},\"id\":\"8842\",\"type\":\"HoverTool\"},{\"attributes\":{},\"id\":\"8886\",\"type\":\"BasicTickFormatter\"},{\"attributes\":{},\"id\":\"8895\",\"type\":\"UnionRenderers\"},{\"attributes\":{\"coordinates\":null,\"group\":null,\"text\":\"Average Monthly Shelter Cost for Rented Dwellings in Toronto\",\"text_color\":\"black\",\"text_font_size\":\"12pt\"},\"id\":\"8844\",\"type\":\"Title\"}],\"root_ids\":[\"8838\"]},\"title\":\"Bokeh Application\",\"version\":\"2.4.2\"}};\n",
       "    var render_items = [{\"docid\":\"a7d7b163-7451-4951-9c37-fca3726a2e4c\",\"root_ids\":[\"8838\"],\"roots\":{\"8838\":\"b867c1bf-f699-449b-a91a-410a6f19b84c\"}}];\n",
       "    root.Bokeh.embed.embed_items_notebook(docs_json, render_items);\n",
       "  }\n",
       "  if (root.Bokeh !== undefined && root.Bokeh.Panel !== undefined && ( root['Plotly'] !== undefined)) {\n",
       "    embed_document(root);\n",
       "  } else {\n",
       "    var attempts = 0;\n",
       "    var timer = setInterval(function(root) {\n",
       "      if (root.Bokeh !== undefined && root.Bokeh.Panel !== undefined && (root['Plotly'] !== undefined)) {\n",
       "        clearInterval(timer);\n",
       "        embed_document(root);\n",
       "      } else if (document.readyState == \"complete\") {\n",
       "        attempts++;\n",
       "        if (attempts > 200) {\n",
       "          clearInterval(timer);\n",
       "          console.log(\"Bokeh: ERROR: Unable to run BokehJS code because BokehJS library is missing\");\n",
       "        }\n",
       "      }\n",
       "    }, 25, root)\n",
       "  }\n",
       "})(window);</script>"
      ],
      "text/plain": [
       ":Curve   [year]   (shelter_costs_rented)"
      ]
     },
     "metadata": {
      "application/vnd.holoviews_exec.v0+json": {
       "id": "8838"
      }
     },
     "output_type": "display_data"
    }
   ],
   "source": [
    "# Create two line charts, one to plot the monthly shelter costs for owned dwelleing and other for rented dwellings per year\n",
    "\n",
    "# Line chart for owned dwellings\n",
    "create_line_chart(df['shelter_costs_owned'],'Average Monthly Shelter Cost for Owned Dwellings in Toronto','', 'Ave Monthly Shelter Costs', 'blue' )\n",
    "\n",
    "# Line chart for rented dwellings\n",
    "create_line_chart(df['shelter_costs_rented'],'Average Monthly Shelter Cost for Rented Dwellings in Toronto','', 'Ave Monthly Shelter Costs', 'yellow' )\n"
   ]
  },
  {
   "cell_type": "markdown",
   "metadata": {},
   "source": [
    "## Average House Value per Year\n",
    "\n",
    "In this section, you want to determine the average house value per year. An investor may want to understand better the sales price of the rental property over time. For example, a customer will want to know if they should expect an increase or decrease in the property value over time so they can determine how long to hold the rental property. You will visualize the `average_house_value` per year as a bar chart."
   ]
  },
  {
   "cell_type": "code",
   "execution_count": 235,
   "metadata": {},
   "outputs": [
    {
     "data": {
      "text/plain": [
       "year\n",
       "2001    289882.885714\n",
       "2006    424059.664286\n",
       "2011    530424.721429\n",
       "2016    664068.328571\n",
       "Name: average_house_value, dtype: float64"
      ]
     },
     "execution_count": 235,
     "metadata": {},
     "output_type": "execute_result"
    }
   ],
   "source": [
    "# Calculate the average house value per year\n",
    "ave_house_value = to_data.groupby('year')['average_house_value'].sum()/number_of_ngbr\n",
    "ave_house_value"
   ]
  },
  {
   "cell_type": "code",
   "execution_count": 236,
   "metadata": {},
   "outputs": [
    {
     "data": {},
     "metadata": {},
     "output_type": "display_data"
    },
    {
     "data": {
      "application/vnd.holoviews_exec.v0+json": "",
      "text/html": [
       "<div id='8960'>\n",
       "\n",
       "\n",
       "\n",
       "\n",
       "\n",
       "  <div class=\"bk-root\" id=\"f6f20310-944c-4690-bcbb-f6fba7c56138\" data-root-id=\"8960\"></div>\n",
       "</div>\n",
       "<script type=\"application/javascript\">(function(root) {\n",
       "  function embed_document(root) {\n",
       "    var docs_json = {\"545dbfad-9630-4f6a-bad1-e5f078d88534\":{\"defs\":[{\"extends\":null,\"module\":null,\"name\":\"ReactiveHTML1\",\"overrides\":[],\"properties\":[]},{\"extends\":null,\"module\":null,\"name\":\"FlexBox1\",\"overrides\":[],\"properties\":[{\"default\":\"flex-start\",\"kind\":null,\"name\":\"align_content\"},{\"default\":\"flex-start\",\"kind\":null,\"name\":\"align_items\"},{\"default\":\"row\",\"kind\":null,\"name\":\"flex_direction\"},{\"default\":\"wrap\",\"kind\":null,\"name\":\"flex_wrap\"},{\"default\":\"flex-start\",\"kind\":null,\"name\":\"justify_content\"}]},{\"extends\":null,\"module\":null,\"name\":\"GridStack1\",\"overrides\":[],\"properties\":[{\"default\":\"warn\",\"kind\":null,\"name\":\"mode\"},{\"default\":null,\"kind\":null,\"name\":\"ncols\"},{\"default\":null,\"kind\":null,\"name\":\"nrows\"},{\"default\":true,\"kind\":null,\"name\":\"allow_resize\"},{\"default\":true,\"kind\":null,\"name\":\"allow_drag\"},{\"default\":[],\"kind\":null,\"name\":\"state\"}]},{\"extends\":null,\"module\":null,\"name\":\"click1\",\"overrides\":[],\"properties\":[{\"default\":\"\",\"kind\":null,\"name\":\"terminal_output\"},{\"default\":\"\",\"kind\":null,\"name\":\"debug_name\"},{\"default\":0,\"kind\":null,\"name\":\"clears\"}]},{\"extends\":null,\"module\":null,\"name\":\"TemplateActions1\",\"overrides\":[],\"properties\":[{\"default\":0,\"kind\":null,\"name\":\"open_modal\"},{\"default\":0,\"kind\":null,\"name\":\"close_modal\"}]},{\"extends\":null,\"module\":null,\"name\":\"MaterialTemplateActions1\",\"overrides\":[],\"properties\":[{\"default\":0,\"kind\":null,\"name\":\"open_modal\"},{\"default\":0,\"kind\":null,\"name\":\"close_modal\"}]}],\"roots\":{\"references\":[{\"attributes\":{\"axis\":{\"id\":\"8974\"},\"coordinates\":null,\"grid_line_color\":null,\"group\":null,\"ticker\":null},\"id\":\"8977\",\"type\":\"Grid\"},{\"attributes\":{\"end\":2016.0,\"reset_end\":2016.0,\"reset_start\":2001.0,\"start\":2001.0,\"tags\":[[[\"year\",\"year\",null]]]},\"id\":\"8962\",\"type\":\"Range1d\"},{\"attributes\":{\"line_color\":\"#30a2da\",\"line_width\":2,\"x\":{\"field\":\"year\"},\"y\":{\"field\":\"average_house_value\"}},\"id\":\"9003\",\"type\":\"Line\"},{\"attributes\":{},\"id\":\"8986\",\"type\":\"ResetTool\"},{\"attributes\":{\"overlay\":{\"id\":\"8987\"}},\"id\":\"8985\",\"type\":\"BoxZoomTool\"},{\"attributes\":{\"source\":{\"id\":\"8995\"}},\"id\":\"9002\",\"type\":\"CDSView\"},{\"attributes\":{},\"id\":\"8979\",\"type\":\"BasicTicker\"},{\"attributes\":{},\"id\":\"8975\",\"type\":\"BasicTicker\"},{\"attributes\":{},\"id\":\"9017\",\"type\":\"UnionRenderers\"},{\"attributes\":{\"coordinates\":null,\"group\":null,\"text\":\"Average House Value in Toronto\",\"text_color\":\"black\",\"text_font_size\":\"12pt\"},\"id\":\"8966\",\"type\":\"Title\"},{\"attributes\":{},\"id\":\"8972\",\"type\":\"LinearScale\"},{\"attributes\":{\"tools\":[{\"id\":\"8964\"},{\"id\":\"8982\"},{\"id\":\"8983\"},{\"id\":\"8984\"},{\"id\":\"8985\"},{\"id\":\"8986\"}]},\"id\":\"8988\",\"type\":\"Toolbar\"},{\"attributes\":{\"margin\":[5,5,5,5],\"name\":\"HSpacer16838\",\"sizing_mode\":\"stretch_width\"},\"id\":\"8961\",\"type\":\"Spacer\"},{\"attributes\":{\"axis_label\":\"Ave. House Value\",\"coordinates\":null,\"formatter\":{\"id\":\"9008\"},\"group\":null,\"major_label_policy\":{\"id\":\"9009\"},\"ticker\":{\"id\":\"8979\"}},\"id\":\"8978\",\"type\":\"LinearAxis\"},{\"attributes\":{\"axis_label\":\"year\",\"coordinates\":null,\"formatter\":{\"id\":\"9005\"},\"group\":null,\"major_label_policy\":{\"id\":\"9006\"},\"ticker\":{\"id\":\"8975\"}},\"id\":\"8974\",\"type\":\"LinearAxis\"},{\"attributes\":{\"bottom_units\":\"screen\",\"coordinates\":null,\"fill_alpha\":0.5,\"fill_color\":\"lightgrey\",\"group\":null,\"left_units\":\"screen\",\"level\":\"overlay\",\"line_alpha\":1.0,\"line_color\":\"black\",\"line_dash\":[4,4],\"line_width\":2,\"right_units\":\"screen\",\"syncable\":false,\"top_units\":\"screen\"},\"id\":\"8987\",\"type\":\"BoxAnnotation\"},{\"attributes\":{\"children\":[{\"id\":\"8961\"},{\"id\":\"8965\"},{\"id\":\"9030\"}],\"margin\":[0,0,0,0],\"name\":\"Row16834\",\"tags\":[\"embedded\"]},\"id\":\"8960\",\"type\":\"Row\"},{\"attributes\":{},\"id\":\"9005\",\"type\":\"BasicTickFormatter\"},{\"attributes\":{},\"id\":\"9006\",\"type\":\"AllLabels\"},{\"attributes\":{\"axis\":{\"id\":\"8978\"},\"coordinates\":null,\"dimension\":1,\"grid_line_color\":null,\"group\":null,\"ticker\":null},\"id\":\"8981\",\"type\":\"Grid\"},{\"attributes\":{\"below\":[{\"id\":\"8974\"}],\"center\":[{\"id\":\"8977\"},{\"id\":\"8981\"}],\"height\":300,\"left\":[{\"id\":\"8978\"}],\"margin\":[5,5,5,5],\"min_border_bottom\":10,\"min_border_left\":10,\"min_border_right\":10,\"min_border_top\":10,\"renderers\":[{\"id\":\"9001\"}],\"sizing_mode\":\"fixed\",\"title\":{\"id\":\"8966\"},\"toolbar\":{\"id\":\"8988\"},\"width\":700,\"x_range\":{\"id\":\"8962\"},\"x_scale\":{\"id\":\"8970\"},\"y_range\":{\"id\":\"8963\"},\"y_scale\":{\"id\":\"8972\"}},\"id\":\"8965\",\"subtype\":\"Figure\",\"type\":\"Plot\"},{\"attributes\":{},\"id\":\"9008\",\"type\":\"BasicTickFormatter\"},{\"attributes\":{},\"id\":\"8970\",\"type\":\"LinearScale\"},{\"attributes\":{\"callback\":null,\"renderers\":[{\"id\":\"9001\"}],\"tags\":[\"hv_created\"],\"tooltips\":[[\"year\",\"@{year}\"],[\"average_house_value\",\"@{average_house_value}\"]]},\"id\":\"8964\",\"type\":\"HoverTool\"},{\"attributes\":{\"line_color\":\"#30a2da\",\"line_width\":2,\"x\":{\"field\":\"year\"},\"y\":{\"field\":\"average_house_value\"}},\"id\":\"8998\",\"type\":\"Line\"},{\"attributes\":{},\"id\":\"9009\",\"type\":\"AllLabels\"},{\"attributes\":{\"margin\":[5,5,5,5],\"name\":\"HSpacer16839\",\"sizing_mode\":\"stretch_width\"},\"id\":\"9030\",\"type\":\"Spacer\"},{\"attributes\":{\"data\":{\"average_house_value\":{\"__ndarray__\":\"i6/4imuxEUGogzqo7uEZQfEVX3HxLyBBqIM6qAhEJEE=\",\"dtype\":\"float64\",\"order\":\"little\",\"shape\":[4]},\"year\":[2001,2006,2011,2016]},\"selected\":{\"id\":\"8996\"},\"selection_policy\":{\"id\":\"9017\"}},\"id\":\"8995\",\"type\":\"ColumnDataSource\"},{\"attributes\":{\"line_alpha\":0.1,\"line_color\":\"#30a2da\",\"line_width\":2,\"x\":{\"field\":\"year\"},\"y\":{\"field\":\"average_house_value\"}},\"id\":\"8999\",\"type\":\"Line\"},{\"attributes\":{\"end\":701486.8728571428,\"reset_end\":701486.8728571428,\"reset_start\":252464.34142857144,\"start\":252464.34142857144,\"tags\":[[[\"average_house_value\",\"average_house_value\",null]]]},\"id\":\"8963\",\"type\":\"Range1d\"},{\"attributes\":{\"coordinates\":null,\"data_source\":{\"id\":\"8995\"},\"glyph\":{\"id\":\"8998\"},\"group\":null,\"hover_glyph\":null,\"muted_glyph\":{\"id\":\"9000\"},\"nonselection_glyph\":{\"id\":\"8999\"},\"selection_glyph\":{\"id\":\"9003\"},\"view\":{\"id\":\"9002\"}},\"id\":\"9001\",\"type\":\"GlyphRenderer\"},{\"attributes\":{\"line_alpha\":0.2,\"line_color\":\"#30a2da\",\"line_width\":2,\"x\":{\"field\":\"year\"},\"y\":{\"field\":\"average_house_value\"}},\"id\":\"9000\",\"type\":\"Line\"},{\"attributes\":{},\"id\":\"8982\",\"type\":\"SaveTool\"},{\"attributes\":{},\"id\":\"8983\",\"type\":\"PanTool\"},{\"attributes\":{},\"id\":\"8984\",\"type\":\"WheelZoomTool\"},{\"attributes\":{},\"id\":\"8996\",\"type\":\"Selection\"}],\"root_ids\":[\"8960\"]},\"title\":\"Bokeh Application\",\"version\":\"2.4.2\"}};\n",
       "    var render_items = [{\"docid\":\"545dbfad-9630-4f6a-bad1-e5f078d88534\",\"root_ids\":[\"8960\"],\"roots\":{\"8960\":\"f6f20310-944c-4690-bcbb-f6fba7c56138\"}}];\n",
       "    root.Bokeh.embed.embed_items_notebook(docs_json, render_items);\n",
       "  }\n",
       "  if (root.Bokeh !== undefined && root.Bokeh.Panel !== undefined && ( root['Plotly'] !== undefined)) {\n",
       "    embed_document(root);\n",
       "  } else {\n",
       "    var attempts = 0;\n",
       "    var timer = setInterval(function(root) {\n",
       "      if (root.Bokeh !== undefined && root.Bokeh.Panel !== undefined && (root['Plotly'] !== undefined)) {\n",
       "        clearInterval(timer);\n",
       "        embed_document(root);\n",
       "      } else if (document.readyState == \"complete\") {\n",
       "        attempts++;\n",
       "        if (attempts > 200) {\n",
       "          clearInterval(timer);\n",
       "          console.log(\"Bokeh: ERROR: Unable to run BokehJS code because BokehJS library is missing\");\n",
       "        }\n",
       "      }\n",
       "    }, 25, root)\n",
       "  }\n",
       "})(window);</script>"
      ],
      "text/plain": [
       ":Curve   [year]   (average_house_value)"
      ]
     },
     "execution_count": 236,
     "metadata": {
      "application/vnd.holoviews_exec.v0+json": {
       "id": "8960"
      }
     },
     "output_type": "execute_result"
    }
   ],
   "source": [
    "# Plot the average house value per year as a line chart\n",
    "ave_house_value.hvplot.line(title = 'Average House Value in Toronto', ylabel= 'Ave. House Value')"
   ]
  },
  {
   "cell_type": "markdown",
   "metadata": {},
   "source": [
    "- - - "
   ]
  },
  {
   "cell_type": "markdown",
   "metadata": {},
   "source": [
    "## Average House Value by Neighbourhood\n",
    "\n",
    "In this section, you will use `hvplot` to create an interactive visualization of the average house value with a dropdown selector for the neighbourhood.\n",
    "\n",
    "**Hint:** It will be easier to create a new DataFrame from grouping the data and calculating the mean house values for each year and neighbourhood."
   ]
  },
  {
   "cell_type": "code",
   "execution_count": 237,
   "metadata": {},
   "outputs": [
    {
     "data": {
      "text/html": [
       "<div>\n",
       "<style scoped>\n",
       "    .dataframe tbody tr th:only-of-type {\n",
       "        vertical-align: middle;\n",
       "    }\n",
       "\n",
       "    .dataframe tbody tr th {\n",
       "        vertical-align: top;\n",
       "    }\n",
       "\n",
       "    .dataframe thead th {\n",
       "        text-align: right;\n",
       "    }\n",
       "</style>\n",
       "<table border=\"1\" class=\"dataframe\">\n",
       "  <thead>\n",
       "    <tr style=\"text-align: right;\">\n",
       "      <th></th>\n",
       "      <th>neighbourhood</th>\n",
       "      <th>average_house_value</th>\n",
       "    </tr>\n",
       "    <tr>\n",
       "      <th>year</th>\n",
       "      <th></th>\n",
       "      <th></th>\n",
       "    </tr>\n",
       "  </thead>\n",
       "  <tbody>\n",
       "    <tr>\n",
       "      <th>2001</th>\n",
       "      <td>Agincourt North</td>\n",
       "      <td>200388</td>\n",
       "    </tr>\n",
       "    <tr>\n",
       "      <th>2001</th>\n",
       "      <td>Agincourt South-Malvern West</td>\n",
       "      <td>203047</td>\n",
       "    </tr>\n",
       "    <tr>\n",
       "      <th>2001</th>\n",
       "      <td>Alderwood</td>\n",
       "      <td>259998</td>\n",
       "    </tr>\n",
       "    <tr>\n",
       "      <th>2001</th>\n",
       "      <td>Annex</td>\n",
       "      <td>453850</td>\n",
       "    </tr>\n",
       "    <tr>\n",
       "      <th>2001</th>\n",
       "      <td>Banbury-Don Mills</td>\n",
       "      <td>371864</td>\n",
       "    </tr>\n",
       "    <tr>\n",
       "      <th>...</th>\n",
       "      <td>...</td>\n",
       "      <td>...</td>\n",
       "    </tr>\n",
       "    <tr>\n",
       "      <th>2016</th>\n",
       "      <td>Wychwood</td>\n",
       "      <td>787760</td>\n",
       "    </tr>\n",
       "    <tr>\n",
       "      <th>2016</th>\n",
       "      <td>Yonge-Eglinton</td>\n",
       "      <td>1127052</td>\n",
       "    </tr>\n",
       "    <tr>\n",
       "      <th>2016</th>\n",
       "      <td>Yonge-St.Clair</td>\n",
       "      <td>1131888</td>\n",
       "    </tr>\n",
       "    <tr>\n",
       "      <th>2016</th>\n",
       "      <td>York University Heights</td>\n",
       "      <td>425769</td>\n",
       "    </tr>\n",
       "    <tr>\n",
       "      <th>2016</th>\n",
       "      <td>Yorkdale-Glen Park</td>\n",
       "      <td>599698</td>\n",
       "    </tr>\n",
       "  </tbody>\n",
       "</table>\n",
       "<p>560 rows × 2 columns</p>\n",
       "</div>"
      ],
      "text/plain": [
       "                     neighbourhood  average_house_value\n",
       "year                                                   \n",
       "2001               Agincourt North               200388\n",
       "2001  Agincourt South-Malvern West               203047\n",
       "2001                     Alderwood               259998\n",
       "2001                         Annex               453850\n",
       "2001             Banbury-Don Mills               371864\n",
       "...                            ...                  ...\n",
       "2016                      Wychwood               787760\n",
       "2016                Yonge-Eglinton              1127052\n",
       "2016                Yonge-St.Clair              1131888\n",
       "2016       York University Heights               425769\n",
       "2016            Yorkdale-Glen Park               599698\n",
       "\n",
       "[560 rows x 2 columns]"
      ]
     },
     "execution_count": 237,
     "metadata": {},
     "output_type": "execute_result"
    }
   ],
   "source": [
    "# Create a new DataFrame with the mean house values by neighbourhood per year\n",
    "house_value_df = to_data[['neighbourhood', 'average_house_value' ]]\n",
    "house_value_df                         "
   ]
  },
  {
   "cell_type": "code",
   "execution_count": 238,
   "metadata": {},
   "outputs": [
    {
     "data": {},
     "metadata": {},
     "output_type": "display_data"
    },
    {
     "data": {},
     "metadata": {},
     "output_type": "display_data"
    },
    {
     "data": {
      "application/vnd.holoviews_exec.v0+json": "",
      "text/html": [
       "<div id='9082'>\n",
       "\n",
       "\n",
       "\n",
       "\n",
       "\n",
       "  <div class=\"bk-root\" id=\"6aafde89-8caf-4383-8046-9339cc1827fe\" data-root-id=\"9082\"></div>\n",
       "</div>\n",
       "<script type=\"application/javascript\">(function(root) {\n",
       "  function embed_document(root) {\n",
       "    var docs_json = {\"75dc8405-3977-460f-b944-a2bad95f669a\":{\"defs\":[{\"extends\":null,\"module\":null,\"name\":\"ReactiveHTML1\",\"overrides\":[],\"properties\":[]},{\"extends\":null,\"module\":null,\"name\":\"FlexBox1\",\"overrides\":[],\"properties\":[{\"default\":\"flex-start\",\"kind\":null,\"name\":\"align_content\"},{\"default\":\"flex-start\",\"kind\":null,\"name\":\"align_items\"},{\"default\":\"row\",\"kind\":null,\"name\":\"flex_direction\"},{\"default\":\"wrap\",\"kind\":null,\"name\":\"flex_wrap\"},{\"default\":\"flex-start\",\"kind\":null,\"name\":\"justify_content\"}]},{\"extends\":null,\"module\":null,\"name\":\"GridStack1\",\"overrides\":[],\"properties\":[{\"default\":\"warn\",\"kind\":null,\"name\":\"mode\"},{\"default\":null,\"kind\":null,\"name\":\"ncols\"},{\"default\":null,\"kind\":null,\"name\":\"nrows\"},{\"default\":true,\"kind\":null,\"name\":\"allow_resize\"},{\"default\":true,\"kind\":null,\"name\":\"allow_drag\"},{\"default\":[],\"kind\":null,\"name\":\"state\"}]},{\"extends\":null,\"module\":null,\"name\":\"click1\",\"overrides\":[],\"properties\":[{\"default\":\"\",\"kind\":null,\"name\":\"terminal_output\"},{\"default\":\"\",\"kind\":null,\"name\":\"debug_name\"},{\"default\":0,\"kind\":null,\"name\":\"clears\"}]},{\"extends\":null,\"module\":null,\"name\":\"TemplateActions1\",\"overrides\":[],\"properties\":[{\"default\":0,\"kind\":null,\"name\":\"open_modal\"},{\"default\":0,\"kind\":null,\"name\":\"close_modal\"}]},{\"extends\":null,\"module\":null,\"name\":\"MaterialTemplateActions1\",\"overrides\":[],\"properties\":[{\"default\":0,\"kind\":null,\"name\":\"open_modal\"},{\"default\":0,\"kind\":null,\"name\":\"close_modal\"}]}],\"roots\":{\"references\":[{\"attributes\":{},\"id\":\"9103\",\"type\":\"BasicTicker\"},{\"attributes\":{\"below\":[{\"id\":\"9098\"}],\"center\":[{\"id\":\"9101\"},{\"id\":\"9105\"}],\"height\":300,\"left\":[{\"id\":\"9102\"}],\"margin\":[5,5,5,5],\"min_border_bottom\":10,\"min_border_left\":10,\"min_border_right\":10,\"min_border_top\":10,\"renderers\":[{\"id\":\"9125\"}],\"sizing_mode\":\"fixed\",\"title\":{\"id\":\"9090\"},\"toolbar\":{\"id\":\"9112\"},\"width\":700,\"x_range\":{\"id\":\"9086\"},\"x_scale\":{\"id\":\"9094\"},\"y_range\":{\"id\":\"9087\"},\"y_scale\":{\"id\":\"9096\"}},\"id\":\"9089\",\"subtype\":\"Figure\",\"type\":\"Plot\"},{\"attributes\":{\"axis\":{\"id\":\"9098\"},\"coordinates\":null,\"grid_line_color\":null,\"group\":null,\"ticker\":null},\"id\":\"9101\",\"type\":\"Grid\"},{\"attributes\":{\"data\":{\"average_house_value\":[200388,293140,366667,459051],\"year\":[2001,2006,2011,2016]},\"selected\":{\"id\":\"9120\"},\"selection_policy\":{\"id\":\"9141\"}},\"id\":\"9119\",\"type\":\"ColumnDataSource\"},{\"attributes\":{},\"id\":\"9099\",\"type\":\"BasicTicker\"},{\"attributes\":{\"axis_label\":\"average House Value\",\"coordinates\":null,\"formatter\":{\"id\":\"9132\"},\"group\":null,\"major_label_policy\":{\"id\":\"9133\"},\"ticker\":{\"id\":\"9103\"}},\"id\":\"9102\",\"type\":\"LinearAxis\"},{\"attributes\":{\"axis_label\":\"year\",\"coordinates\":null,\"formatter\":{\"id\":\"9129\"},\"group\":null,\"major_label_policy\":{\"id\":\"9130\"},\"ticker\":{\"id\":\"9099\"}},\"id\":\"9098\",\"type\":\"LinearAxis\"},{\"attributes\":{\"line_alpha\":0.2,\"line_color\":\"#30a2da\",\"line_width\":2,\"x\":{\"field\":\"year\"},\"y\":{\"field\":\"average_house_value\"}},\"id\":\"9124\",\"type\":\"Line\"},{\"attributes\":{\"children\":[{\"id\":\"9083\"},{\"id\":\"9085\"}],\"margin\":[0,0,0,0],\"name\":\"Column16939\"},\"id\":\"9082\",\"type\":\"Column\"},{\"attributes\":{\"line_color\":\"#30a2da\",\"line_width\":2,\"x\":{\"field\":\"year\"},\"y\":{\"field\":\"average_house_value\"}},\"id\":\"9127\",\"type\":\"Line\"},{\"attributes\":{},\"id\":\"9129\",\"type\":\"BasicTickFormatter\"},{\"attributes\":{\"axis\":{\"id\":\"9102\"},\"coordinates\":null,\"dimension\":1,\"grid_line_color\":null,\"group\":null,\"ticker\":null},\"id\":\"9105\",\"type\":\"Grid\"},{\"attributes\":{\"client_comm_id\":\"e4ecdfa0cf9e465ebccee8f61413ea63\",\"comm_id\":\"5f85dab16acd45519374dc79fae107f6\",\"plot_id\":\"9082\"},\"id\":\"9184\",\"type\":\"panel.models.comm_manager.CommManager\"},{\"attributes\":{\"children\":[{\"id\":\"9084\"}],\"margin\":[0,0,0,0],\"name\":\"Column17021\"},\"id\":\"9083\",\"type\":\"Column\"},{\"attributes\":{},\"id\":\"9130\",\"type\":\"AllLabels\"},{\"attributes\":{},\"id\":\"9094\",\"type\":\"LinearScale\"},{\"attributes\":{\"coordinates\":null,\"data_source\":{\"id\":\"9119\"},\"glyph\":{\"id\":\"9122\"},\"group\":null,\"hover_glyph\":null,\"muted_glyph\":{\"id\":\"9124\"},\"nonselection_glyph\":{\"id\":\"9123\"},\"selection_glyph\":{\"id\":\"9127\"},\"view\":{\"id\":\"9126\"}},\"id\":\"9125\",\"type\":\"GlyphRenderer\"},{\"attributes\":{\"line_alpha\":0.1,\"line_color\":\"#30a2da\",\"line_width\":2,\"x\":{\"field\":\"year\"},\"y\":{\"field\":\"average_house_value\"}},\"id\":\"9123\",\"type\":\"Line\"},{\"attributes\":{\"line_color\":\"#30a2da\",\"line_width\":2,\"x\":{\"field\":\"year\"},\"y\":{\"field\":\"average_house_value\"}},\"id\":\"9122\",\"type\":\"Line\"},{\"attributes\":{},\"id\":\"9133\",\"type\":\"AllLabels\"},{\"attributes\":{\"tools\":[{\"id\":\"9088\"},{\"id\":\"9106\"},{\"id\":\"9107\"},{\"id\":\"9108\"},{\"id\":\"9109\"},{\"id\":\"9110\"}]},\"id\":\"9112\",\"type\":\"Toolbar\"},{\"attributes\":{},\"id\":\"9132\",\"type\":\"BasicTickFormatter\"},{\"attributes\":{\"bottom_units\":\"screen\",\"coordinates\":null,\"fill_alpha\":0.5,\"fill_color\":\"lightgrey\",\"group\":null,\"left_units\":\"screen\",\"level\":\"overlay\",\"line_alpha\":1.0,\"line_color\":\"black\",\"line_dash\":[4,4],\"line_width\":2,\"right_units\":\"screen\",\"syncable\":false,\"top_units\":\"screen\"},\"id\":\"9111\",\"type\":\"BoxAnnotation\"},{\"attributes\":{\"end\":2016.0,\"reset_end\":2016.0,\"reset_start\":2001.0,\"start\":2001.0,\"tags\":[[[\"year\",\"year\",null]]]},\"id\":\"9086\",\"type\":\"Range1d\"},{\"attributes\":{},\"id\":\"9106\",\"type\":\"SaveTool\"},{\"attributes\":{},\"id\":\"9107\",\"type\":\"PanTool\"},{\"attributes\":{\"source\":{\"id\":\"9119\"}},\"id\":\"9126\",\"type\":\"CDSView\"},{\"attributes\":{},\"id\":\"9110\",\"type\":\"ResetTool\"},{\"attributes\":{\"end\":484917.3,\"reset_end\":484917.3,\"reset_start\":174521.7,\"start\":174521.7,\"tags\":[[[\"average_house_value\",\"average_house_value\",null]]]},\"id\":\"9087\",\"type\":\"Range1d\"},{\"attributes\":{},\"id\":\"9108\",\"type\":\"WheelZoomTool\"},{\"attributes\":{\"callback\":null,\"renderers\":[{\"id\":\"9125\"}],\"tags\":[\"hv_created\"],\"tooltips\":[[\"year\",\"@{year}\"],[\"average_house_value\",\"@{average_house_value}\"]]},\"id\":\"9088\",\"type\":\"HoverTool\"},{\"attributes\":{\"overlay\":{\"id\":\"9111\"}},\"id\":\"9109\",\"type\":\"BoxZoomTool\"},{\"attributes\":{},\"id\":\"9141\",\"type\":\"UnionRenderers\"},{\"attributes\":{},\"id\":\"9120\",\"type\":\"Selection\"},{\"attributes\":{\"margin\":[5,10,5,10],\"options\":[\"Agincourt North\",\"Agincourt South-Malvern West\",\"Alderwood\",\"Annex\",\"Banbury-Don Mills\",\"Bathurst Manor\",\"Bay Street Corridor\",\"Bayview Village\",\"Bayview Woods-Steeles\",\"Bedford Park-Nortown\",\"Beechborough-Greenbrook\",\"Bendale\",\"Birchcliffe-Cliffside\",\"Black Creek\",\"Blake-Jones\",\"Briar Hill-Belgravia\",\"Bridle Path-Sunnybrook-York Mills\",\"Broadview North\",\"Brookhaven-Amesbury\",\"Cabbagetown-South St.James Town\",\"Caledonia-Fairbank\",\"Casa Loma\",\"Centennial Scarborough\",\"Church-Yonge Corridor\",\"Clairlea-Birchmount\",\"Clanton Park\",\"Cliffcrest\",\"Corso Italia-Davenport\",\"Danforth\",\"Danforth-East York\",\"Don Valley Village\",\"Dorset Park\",\"Dovercourt-Wallace Emerson-Juncti\",\"Downsview-Roding-CFB\",\"Dufferin Grove\",\"East End-Danforth\",\"Edenbridge-Humber Valley\",\"Eglinton East\",\"Elms-Old Rexdale\",\"Englemount-Lawrence\",\"Eringate-Centennial-West Deane\",\"Etobicoke West Mall\",\"Flemingdon Park\",\"Forest Hill North\",\"Forest Hill South\",\"Glenfield-Jane Heights\",\"Greenwood-Coxwell\",\"Guildwood\",\"Henry Farm\",\"High Park North\",\"High Park-Swansea\",\"Highland Creek\",\"Hillcrest Village\",\"Humber Heights-Westmount\",\"Humber Summit\",\"Humbermede\",\"Humewood-Cedarvale\",\"Ionview\",\"Islington-City Centre West\",\"Junction Area\",\"Keelesdale-Eglinton West\",\"Kennedy Park\",\"Kensington-Chinatown\",\"Kingsview Village-The Westway\",\"Kingsway South\",\"L'Amoreaux\",\"Lambton Baby Point\",\"Lansing-Westgate\",\"Lawrence Park North\",\"Lawrence Park South\",\"Leaside-Bennington\",\"Little Portugal\",\"Long Branch\",\"Malvern\",\"Maple Leaf\",\"Markland Wood\",\"Milliken\",\"Mimico\",\"Morningside\",\"Moss Park\",\"Mount Dennis\",\"Mount Olive-Silverstone-Jamestown\",\"Mount Pleasant East\",\"Mount Pleasant West\",\"New Toronto\",\"Newtonbrook East\",\"Newtonbrook West\",\"Niagara\",\"North Riverdale\",\"North St.James Town\",\"O'Connor-Parkview\",\"Oakridge\",\"Oakwood Village\",\"Old East York\",\"Palmerston-Little Italy\",\"Parkwoods-Donalda\",\"Pelmo Park-Humberlea\",\"Playter Estates-Danforth\",\"Pleasant View\",\"Princess-Rosethorn\",\"Regent Park\",\"Rexdale-Kipling\",\"Rockcliffe-Smythe\",\"Roncesvalles\",\"Rosedale-Moore Park\",\"Rouge\",\"Runnymede-Bloor West Village\",\"Rustic\",\"Scarborough Village\",\"South Parkdale\",\"South Riverdale\",\"St.Andrew-Windfields\",\"Steeles\",\"Stonegate-Queensway\",\"Tam O'Shanter-Sullivan\",\"Taylor-Massey\",\"The Beaches\",\"Thistletown-Beaumond Heights\",\"Thorncliffe Park\",\"Trinity-Bellwoods\",\"University\",\"Victoria Village\",\"Waterfront Communities-The Island\",\"West Hill\",\"West Humber-Clairville\",\"Westminster-Branson\",\"Weston\",\"Weston-Pellam Park\",\"Wexford/Maryvale\",\"Willowdale East\",\"Willowdale West\",\"Willowridge-Martingrove-Richview\",\"Woburn\",\"Woodbine Corridor\",\"Woodbine-Lumsden\",\"Wychwood\",\"Yonge-Eglinton\",\"Yonge-St.Clair\",\"York University Heights\",\"Yorkdale-Glen Park\",\"Agincourt North\",\"Agincourt South-Malvern West\",\"Alderwood\",\"Annex\",\"Banbury-Don Mills\",\"Bathurst Manor\",\"Bay Street Corridor\",\"Bayview Village\",\"Bayview Woods-Steeles\",\"Bedford Park-Nortown\",\"Beechborough-Greenbrook\",\"Bendale\",\"Birchcliffe-Cliffside\",\"Black Creek\",\"Blake-Jones\",\"Briar Hill-Belgravia\",\"Bridle Path-Sunnybrook-York Mills\",\"Broadview North\",\"Brookhaven-Amesbury\",\"Cabbagetown-South St.James Town\",\"Caledonia-Fairbank\",\"Casa Loma\",\"Centennial Scarborough\",\"Church-Yonge Corridor\",\"Clairlea-Birchmount\",\"Clanton Park\",\"Cliffcrest\",\"Corso Italia-Davenport\",\"Danforth\",\"Danforth-East York\",\"Don Valley Village\",\"Dorset Park\",\"Dovercourt-Wallace Emerson-Juncti\",\"Downsview-Roding-CFB\",\"Dufferin Grove\",\"East End-Danforth\",\"Edenbridge-Humber Valley\",\"Eglinton East\",\"Elms-Old Rexdale\",\"Englemount-Lawrence\",\"Eringate-Centennial-West Deane\",\"Etobicoke West Mall\",\"Flemingdon Park\",\"Forest Hill North\",\"Forest Hill South\",\"Glenfield-Jane Heights\",\"Greenwood-Coxwell\",\"Guildwood\",\"Henry Farm\",\"High Park North\",\"High Park-Swansea\",\"Highland Creek\",\"Hillcrest Village\",\"Humber Heights-Westmount\",\"Humber Summit\",\"Humbermede\",\"Humewood-Cedarvale\",\"Ionview\",\"Islington-City Centre West\",\"Junction Area\",\"Keelesdale-Eglinton West\",\"Kennedy Park\",\"Kensington-Chinatown\",\"Kingsview Village-The Westway\",\"Kingsway South\",\"L'Amoreaux\",\"Lambton Baby Point\",\"Lansing-Westgate\",\"Lawrence Park North\",\"Lawrence Park South\",\"Leaside-Bennington\",\"Little Portugal\",\"Long Branch\",\"Malvern\",\"Maple Leaf\",\"Markland Wood\",\"Milliken\",\"Mimico\",\"Morningside\",\"Moss Park\",\"Mount Dennis\",\"Mount Olive-Silverstone-Jamestown\",\"Mount Pleasant East\",\"Mount Pleasant West\",\"New Toronto\",\"Newtonbrook East\",\"Newtonbrook West\",\"Niagara\",\"North Riverdale\",\"North St.James Town\",\"O'Connor-Parkview\",\"Oakridge\",\"Oakwood Village\",\"Old East York\",\"Palmerston-Little Italy\",\"Parkwoods-Donalda\",\"Pelmo Park-Humberlea\",\"Playter Estates-Danforth\",\"Pleasant View\",\"Princess-Rosethorn\",\"Regent Park\",\"Rexdale-Kipling\",\"Rockcliffe-Smythe\",\"Roncesvalles\",\"Rosedale-Moore Park\",\"Rouge\",\"Runnymede-Bloor West Village\",\"Rustic\",\"Scarborough Village\",\"South Parkdale\",\"South Riverdale\",\"St.Andrew-Windfields\",\"Steeles\",\"Stonegate-Queensway\",\"Tam O'Shanter-Sullivan\",\"Taylor-Massey\",\"The Beaches\",\"Thistletown-Beaumond Heights\",\"Thorncliffe Park\",\"Trinity-Bellwoods\",\"University\",\"Victoria Village\",\"Waterfront Communities-The Island\",\"West Hill\",\"West Humber-Clairville\",\"Westminster-Branson\",\"Weston\",\"Weston-Pellam Park\",\"Wexford/Maryvale\",\"Willowdale East\",\"Willowdale West\",\"Willowridge-Martingrove-Richview\",\"Woburn\",\"Woodbine Corridor\",\"Woodbine-Lumsden\",\"Wychwood\",\"Yonge-Eglinton\",\"Yonge-St.Clair\",\"York University Heights\",\"Yorkdale-Glen Park\",\"Agincourt North\",\"Agincourt South-Malvern West\",\"Alderwood\",\"Annex\",\"Banbury-Don Mills\",\"Bathurst Manor\",\"Bay Street Corridor\",\"Bayview Village\",\"Bayview Woods-Steeles\",\"Bedford Park-Nortown\",\"Beechborough-Greenbrook\",\"Bendale\",\"Birchcliffe-Cliffside\",\"Black Creek\",\"Blake-Jones\",\"Briar Hill-Belgravia\",\"Bridle Path-Sunnybrook-York Mills\",\"Broadview North\",\"Brookhaven-Amesbury\",\"Cabbagetown-South St.James Town\",\"Caledonia-Fairbank\",\"Casa Loma\",\"Centennial Scarborough\",\"Church-Yonge Corridor\",\"Clairlea-Birchmount\",\"Clanton Park\",\"Cliffcrest\",\"Corso Italia-Davenport\",\"Danforth\",\"Danforth-East York\",\"Don Valley Village\",\"Dorset Park\",\"Dovercourt-Wallace Emerson-Juncti\",\"Downsview-Roding-CFB\",\"Dufferin Grove\",\"East End-Danforth\",\"Edenbridge-Humber Valley\",\"Eglinton East\",\"Elms-Old Rexdale\",\"Englemount-Lawrence\",\"Eringate-Centennial-West Deane\",\"Etobicoke West Mall\",\"Flemingdon Park\",\"Forest Hill North\",\"Forest Hill South\",\"Glenfield-Jane Heights\",\"Greenwood-Coxwell\",\"Guildwood\",\"Henry Farm\",\"High Park North\",\"High Park-Swansea\",\"Highland Creek\",\"Hillcrest Village\",\"Humber Heights-Westmount\",\"Humber Summit\",\"Humbermede\",\"Humewood-Cedarvale\",\"Ionview\",\"Islington-City Centre West\",\"Junction Area\",\"Keelesdale-Eglinton West\",\"Kennedy Park\",\"Kensington-Chinatown\",\"Kingsview Village-The Westway\",\"Kingsway South\",\"L'Amoreaux\",\"Lambton Baby Point\",\"Lansing-Westgate\",\"Lawrence Park North\",\"Lawrence Park South\",\"Leaside-Bennington\",\"Little Portugal\",\"Long Branch\",\"Malvern\",\"Maple Leaf\",\"Markland Wood\",\"Milliken\",\"Mimico\",\"Morningside\",\"Moss Park\",\"Mount Dennis\",\"Mount Olive-Silverstone-Jamestown\",\"Mount Pleasant East\",\"Mount Pleasant West\",\"New Toronto\",\"Newtonbrook East\",\"Newtonbrook West\",\"Niagara\",\"North Riverdale\",\"North St.James Town\",\"O'Connor-Parkview\",\"Oakridge\",\"Oakwood Village\",\"Old East York\",\"Palmerston-Little Italy\",\"Parkwoods-Donalda\",\"Pelmo Park-Humberlea\",\"Playter Estates-Danforth\",\"Pleasant View\",\"Princess-Rosethorn\",\"Regent Park\",\"Rexdale-Kipling\",\"Rockcliffe-Smythe\",\"Roncesvalles\",\"Rosedale-Moore Park\",\"Rouge\",\"Runnymede-Bloor West Village\",\"Rustic\",\"Scarborough Village\",\"South Parkdale\",\"South Riverdale\",\"St.Andrew-Windfields\",\"Steeles\",\"Stonegate-Queensway\",\"Tam O'Shanter-Sullivan\",\"Taylor-Massey\",\"The Beaches\",\"Thistletown-Beaumond Heights\",\"Thorncliffe Park\",\"Trinity-Bellwoods\",\"University\",\"Victoria Village\",\"Waterfront Communities-The Island\",\"West Hill\",\"West Humber-Clairville\",\"Westminster-Branson\",\"Weston\",\"Weston-Pellam Park\",\"Wexford/Maryvale\",\"Willowdale East\",\"Willowdale West\",\"Willowridge-Martingrove-Richview\",\"Woburn\",\"Woodbine Corridor\",\"Woodbine-Lumsden\",\"Wychwood\",\"Yonge-Eglinton\",\"Yonge-St.Clair\",\"York University Heights\",\"Yorkdale-Glen Park\",\"Agincourt North\",\"Agincourt South-Malvern West\",\"Alderwood\",\"Annex\",\"Banbury-Don Mills\",\"Bathurst Manor\",\"Bay Street Corridor\",\"Bayview Village\",\"Bayview Woods-Steeles\",\"Bedford Park-Nortown\",\"Beechborough-Greenbrook\",\"Bendale\",\"Birchcliffe-Cliffside\",\"Black Creek\",\"Blake-Jones\",\"Briar Hill-Belgravia\",\"Bridle Path-Sunnybrook-York Mills\",\"Broadview North\",\"Brookhaven-Amesbury\",\"Cabbagetown-South St.James Town\",\"Caledonia-Fairbank\",\"Casa Loma\",\"Centennial Scarborough\",\"Church-Yonge Corridor\",\"Clairlea-Birchmount\",\"Clanton Park\",\"Cliffcrest\",\"Corso Italia-Davenport\",\"Danforth\",\"Danforth-East York\",\"Don Valley Village\",\"Dorset Park\",\"Dovercourt-Wallace Emerson-Juncti\",\"Downsview-Roding-CFB\",\"Dufferin Grove\",\"East End-Danforth\",\"Edenbridge-Humber Valley\",\"Eglinton East\",\"Elms-Old Rexdale\",\"Englemount-Lawrence\",\"Eringate-Centennial-West Deane\",\"Etobicoke West Mall\",\"Flemingdon Park\",\"Forest Hill North\",\"Forest Hill South\",\"Glenfield-Jane Heights\",\"Greenwood-Coxwell\",\"Guildwood\",\"Henry Farm\",\"High Park North\",\"High Park-Swansea\",\"Highland Creek\",\"Hillcrest Village\",\"Humber Heights-Westmount\",\"Humber Summit\",\"Humbermede\",\"Humewood-Cedarvale\",\"Ionview\",\"Islington-City Centre West\",\"Junction Area\",\"Keelesdale-Eglinton West\",\"Kennedy Park\",\"Kensington-Chinatown\",\"Kingsview Village-The Westway\",\"Kingsway South\",\"L'Amoreaux\",\"Lambton Baby Point\",\"Lansing-Westgate\",\"Lawrence Park North\",\"Lawrence Park South\",\"Leaside-Bennington\",\"Little Portugal\",\"Long Branch\",\"Malvern\",\"Maple Leaf\",\"Markland Wood\",\"Milliken\",\"Mimico\",\"Morningside\",\"Moss Park\",\"Mount Dennis\",\"Mount Olive-Silverstone-Jamestown\",\"Mount Pleasant East\",\"Mount Pleasant West\",\"New Toronto\",\"Newtonbrook East\",\"Newtonbrook West\",\"Niagara\",\"North Riverdale\",\"North St.James Town\",\"O'Connor-Parkview\",\"Oakridge\",\"Oakwood Village\",\"Old East York\",\"Palmerston-Little Italy\",\"Parkwoods-Donalda\",\"Pelmo Park-Humberlea\",\"Playter Estates-Danforth\",\"Pleasant View\",\"Princess-Rosethorn\",\"Regent Park\",\"Rexdale-Kipling\",\"Rockcliffe-Smythe\",\"Roncesvalles\",\"Rosedale-Moore Park\",\"Rouge\",\"Runnymede-Bloor West Village\",\"Rustic\",\"Scarborough Village\",\"South Parkdale\",\"South Riverdale\",\"St.Andrew-Windfields\",\"Steeles\",\"Stonegate-Queensway\",\"Tam O'Shanter-Sullivan\",\"Taylor-Massey\",\"The Beaches\",\"Thistletown-Beaumond Heights\",\"Thorncliffe Park\",\"Trinity-Bellwoods\",\"University\",\"Victoria Village\",\"Waterfront Communities-The Island\",\"West Hill\",\"West Humber-Clairville\",\"Westminster-Branson\",\"Weston\",\"Weston-Pellam Park\",\"Wexford/Maryvale\",\"Willowdale East\",\"Willowdale West\",\"Willowridge-Martingrove-Richview\",\"Woburn\",\"Woodbine Corridor\",\"Woodbine-Lumsden\",\"Wychwood\",\"Yonge-Eglinton\",\"Yonge-St.Clair\",\"York University Heights\",\"Yorkdale-Glen Park\"],\"title\":\"neighbourhood\",\"value\":\"Agincourt North\"},\"id\":\"9084\",\"type\":\"panel.models.widgets.CustomSelect\"},{\"attributes\":{\"children\":[{\"id\":\"9089\"}],\"margin\":[0,0,0,0],\"name\":\"Row17020\"},\"id\":\"9085\",\"type\":\"Row\"},{\"attributes\":{},\"id\":\"9096\",\"type\":\"LinearScale\"},{\"attributes\":{\"coordinates\":null,\"group\":null,\"text\":\"Average House Value in Agincourt North\",\"text_color\":\"black\",\"text_font_size\":\"12pt\"},\"id\":\"9090\",\"type\":\"Title\"}],\"root_ids\":[\"9082\",\"9184\"]},\"title\":\"Bokeh Application\",\"version\":\"2.4.2\"}};\n",
       "    var render_items = [{\"docid\":\"75dc8405-3977-460f-b944-a2bad95f669a\",\"root_ids\":[\"9082\"],\"roots\":{\"9082\":\"6aafde89-8caf-4383-8046-9339cc1827fe\"}}];\n",
       "    root.Bokeh.embed.embed_items_notebook(docs_json, render_items);\n",
       "  }\n",
       "  if (root.Bokeh !== undefined && root.Bokeh.Panel !== undefined && ( root['Plotly'] !== undefined)) {\n",
       "    embed_document(root);\n",
       "  } else {\n",
       "    var attempts = 0;\n",
       "    var timer = setInterval(function(root) {\n",
       "      if (root.Bokeh !== undefined && root.Bokeh.Panel !== undefined && (root['Plotly'] !== undefined)) {\n",
       "        clearInterval(timer);\n",
       "        embed_document(root);\n",
       "      } else if (document.readyState == \"complete\") {\n",
       "        attempts++;\n",
       "        if (attempts > 200) {\n",
       "          clearInterval(timer);\n",
       "          console.log(\"Bokeh: ERROR: Unable to run BokehJS code because BokehJS library is missing\");\n",
       "        }\n",
       "      }\n",
       "    }, 25, root)\n",
       "  }\n",
       "})(window);</script>"
      ],
      "text/plain": [
       "Column\n",
       "    [0] Column\n",
       "        [0] Select(name='neighbourhood', options=['Agincourt North', ...], value='Agincourt North')\n",
       "    [1] Row\n",
       "        [0] HoloViews(Curve, name='interactive16938')"
      ]
     },
     "execution_count": 238,
     "metadata": {
      "application/vnd.holoviews_exec.v0+json": {
       "id": "9082"
      }
     },
     "output_type": "execute_result"
    }
   ],
   "source": [
    "# Use hvplot to create an interactive line chart of the average house value per neighbourhood\n",
    "# The plot should have a dropdown selector for the neighbourhood\n",
    "pn.extension()\n",
    "def plot_ave_house_value(neighbourhood):\n",
    "    \n",
    "\n",
    "    return house_value_df[house_value_df['neighbourhood']==neighbourhood].hvplot.line(\n",
    "        ylabel=\"average House Value\",\n",
    "        title=f\"Average House Value in {neighbourhood}\",\n",
    "    )\n",
    "interact(plot_ave_house_value, neighbourhood=house_value_df['neighbourhood'])"
   ]
  },
  {
   "cell_type": "markdown",
   "metadata": {},
   "source": [
    "## Number of Dwelling Types per Year\n",
    "\n",
    "In this section, you will use `hvplot` to create an interactive visualization of the average number of dwelling types per year with a dropdown selector for the neighbourhood."
   ]
  },
  {
   "cell_type": "code",
   "execution_count": 239,
   "metadata": {},
   "outputs": [
    {
     "data": {
      "text/html": [
       "<div>\n",
       "<style scoped>\n",
       "    .dataframe tbody tr th:only-of-type {\n",
       "        vertical-align: middle;\n",
       "    }\n",
       "\n",
       "    .dataframe tbody tr th {\n",
       "        vertical-align: top;\n",
       "    }\n",
       "\n",
       "    .dataframe thead th {\n",
       "        text-align: right;\n",
       "    }\n",
       "</style>\n",
       "<table border=\"1\" class=\"dataframe\">\n",
       "  <thead>\n",
       "    <tr style=\"text-align: right;\">\n",
       "      <th></th>\n",
       "      <th>neighbourhood</th>\n",
       "      <th>single_detached_house</th>\n",
       "      <th>apartment_five_storeys_plus</th>\n",
       "      <th>movable_dwelling</th>\n",
       "      <th>semi_detached_house</th>\n",
       "      <th>row_house</th>\n",
       "      <th>duplex</th>\n",
       "      <th>apartment_five_storeys_less</th>\n",
       "      <th>other_house</th>\n",
       "    </tr>\n",
       "    <tr>\n",
       "      <th>year</th>\n",
       "      <th></th>\n",
       "      <th></th>\n",
       "      <th></th>\n",
       "      <th></th>\n",
       "      <th></th>\n",
       "      <th></th>\n",
       "      <th></th>\n",
       "      <th></th>\n",
       "      <th></th>\n",
       "    </tr>\n",
       "  </thead>\n",
       "  <tbody>\n",
       "    <tr>\n",
       "      <th>2001</th>\n",
       "      <td>Agincourt North</td>\n",
       "      <td>3715</td>\n",
       "      <td>1480</td>\n",
       "      <td>0</td>\n",
       "      <td>1055</td>\n",
       "      <td>1295</td>\n",
       "      <td>195</td>\n",
       "      <td>185</td>\n",
       "      <td>5</td>\n",
       "    </tr>\n",
       "    <tr>\n",
       "      <th>2001</th>\n",
       "      <td>Agincourt South-Malvern West</td>\n",
       "      <td>3250</td>\n",
       "      <td>1835</td>\n",
       "      <td>0</td>\n",
       "      <td>545</td>\n",
       "      <td>455</td>\n",
       "      <td>105</td>\n",
       "      <td>425</td>\n",
       "      <td>0</td>\n",
       "    </tr>\n",
       "    <tr>\n",
       "      <th>2001</th>\n",
       "      <td>Alderwood</td>\n",
       "      <td>3175</td>\n",
       "      <td>315</td>\n",
       "      <td>0</td>\n",
       "      <td>470</td>\n",
       "      <td>50</td>\n",
       "      <td>185</td>\n",
       "      <td>370</td>\n",
       "      <td>0</td>\n",
       "    </tr>\n",
       "    <tr>\n",
       "      <th>2001</th>\n",
       "      <td>Annex</td>\n",
       "      <td>1060</td>\n",
       "      <td>6090</td>\n",
       "      <td>5</td>\n",
       "      <td>1980</td>\n",
       "      <td>605</td>\n",
       "      <td>275</td>\n",
       "      <td>3710</td>\n",
       "      <td>165</td>\n",
       "    </tr>\n",
       "    <tr>\n",
       "      <th>2001</th>\n",
       "      <td>Banbury-Don Mills</td>\n",
       "      <td>3615</td>\n",
       "      <td>4465</td>\n",
       "      <td>0</td>\n",
       "      <td>240</td>\n",
       "      <td>380</td>\n",
       "      <td>15</td>\n",
       "      <td>1360</td>\n",
       "      <td>0</td>\n",
       "    </tr>\n",
       "    <tr>\n",
       "      <th>...</th>\n",
       "      <td>...</td>\n",
       "      <td>...</td>\n",
       "      <td>...</td>\n",
       "      <td>...</td>\n",
       "      <td>...</td>\n",
       "      <td>...</td>\n",
       "      <td>...</td>\n",
       "      <td>...</td>\n",
       "      <td>...</td>\n",
       "    </tr>\n",
       "    <tr>\n",
       "      <th>2016</th>\n",
       "      <td>Wychwood</td>\n",
       "      <td>920</td>\n",
       "      <td>1295</td>\n",
       "      <td>0</td>\n",
       "      <td>880</td>\n",
       "      <td>290</td>\n",
       "      <td>395</td>\n",
       "      <td>2080</td>\n",
       "      <td>35</td>\n",
       "    </tr>\n",
       "    <tr>\n",
       "      <th>2016</th>\n",
       "      <td>Yonge-Eglinton</td>\n",
       "      <td>1400</td>\n",
       "      <td>1995</td>\n",
       "      <td>0</td>\n",
       "      <td>465</td>\n",
       "      <td>60</td>\n",
       "      <td>310</td>\n",
       "      <td>1445</td>\n",
       "      <td>0</td>\n",
       "    </tr>\n",
       "    <tr>\n",
       "      <th>2016</th>\n",
       "      <td>Yonge-St.Clair</td>\n",
       "      <td>520</td>\n",
       "      <td>4315</td>\n",
       "      <td>0</td>\n",
       "      <td>450</td>\n",
       "      <td>220</td>\n",
       "      <td>130</td>\n",
       "      <td>1370</td>\n",
       "      <td>0</td>\n",
       "    </tr>\n",
       "    <tr>\n",
       "      <th>2016</th>\n",
       "      <td>York University Heights</td>\n",
       "      <td>1235</td>\n",
       "      <td>5505</td>\n",
       "      <td>0</td>\n",
       "      <td>1360</td>\n",
       "      <td>775</td>\n",
       "      <td>280</td>\n",
       "      <td>995</td>\n",
       "      <td>0</td>\n",
       "    </tr>\n",
       "    <tr>\n",
       "      <th>2016</th>\n",
       "      <td>Yorkdale-Glen Park</td>\n",
       "      <td>2165</td>\n",
       "      <td>1185</td>\n",
       "      <td>0</td>\n",
       "      <td>80</td>\n",
       "      <td>600</td>\n",
       "      <td>465</td>\n",
       "      <td>830</td>\n",
       "      <td>5</td>\n",
       "    </tr>\n",
       "  </tbody>\n",
       "</table>\n",
       "<p>560 rows × 9 columns</p>\n",
       "</div>"
      ],
      "text/plain": [
       "                     neighbourhood  single_detached_house  \\\n",
       "year                                                        \n",
       "2001               Agincourt North                   3715   \n",
       "2001  Agincourt South-Malvern West                   3250   \n",
       "2001                     Alderwood                   3175   \n",
       "2001                         Annex                   1060   \n",
       "2001             Banbury-Don Mills                   3615   \n",
       "...                            ...                    ...   \n",
       "2016                      Wychwood                    920   \n",
       "2016                Yonge-Eglinton                   1400   \n",
       "2016                Yonge-St.Clair                    520   \n",
       "2016       York University Heights                   1235   \n",
       "2016            Yorkdale-Glen Park                   2165   \n",
       "\n",
       "      apartment_five_storeys_plus  movable_dwelling  semi_detached_house  \\\n",
       "year                                                                       \n",
       "2001                         1480                 0                 1055   \n",
       "2001                         1835                 0                  545   \n",
       "2001                          315                 0                  470   \n",
       "2001                         6090                 5                 1980   \n",
       "2001                         4465                 0                  240   \n",
       "...                           ...               ...                  ...   \n",
       "2016                         1295                 0                  880   \n",
       "2016                         1995                 0                  465   \n",
       "2016                         4315                 0                  450   \n",
       "2016                         5505                 0                 1360   \n",
       "2016                         1185                 0                   80   \n",
       "\n",
       "      row_house  duplex  apartment_five_storeys_less  other_house  \n",
       "year                                                               \n",
       "2001       1295     195                          185            5  \n",
       "2001        455     105                          425            0  \n",
       "2001         50     185                          370            0  \n",
       "2001        605     275                         3710          165  \n",
       "2001        380      15                         1360            0  \n",
       "...         ...     ...                          ...          ...  \n",
       "2016        290     395                         2080           35  \n",
       "2016         60     310                         1445            0  \n",
       "2016        220     130                         1370            0  \n",
       "2016        775     280                          995            0  \n",
       "2016        600     465                          830            5  \n",
       "\n",
       "[560 rows x 9 columns]"
      ]
     },
     "execution_count": 239,
     "metadata": {},
     "output_type": "execute_result"
    }
   ],
   "source": [
    "# Fetch the data of all dwelling types per year\n",
    "dwellings_types = to_data.drop(columns = ['average_house_value', 'shelter_costs_owned','shelter_costs_rented'])\n",
    "dwellings_types"
   ]
  },
  {
   "cell_type": "code",
   "execution_count": 240,
   "metadata": {},
   "outputs": [
    {
     "data": {},
     "metadata": {},
     "output_type": "display_data"
    },
    {
     "data": {},
     "metadata": {},
     "output_type": "display_data"
    },
    {
     "data": {
      "application/vnd.holoviews_exec.v0+json": "",
      "text/html": [
       "<div id='9235'>\n",
       "\n",
       "\n",
       "\n",
       "\n",
       "\n",
       "  <div class=\"bk-root\" id=\"56ad1229-dc02-4ec2-997b-4d07f8fd81cd\" data-root-id=\"9235\"></div>\n",
       "</div>\n",
       "<script type=\"application/javascript\">(function(root) {\n",
       "  function embed_document(root) {\n",
       "    var docs_json = {\"3041a82c-b094-4ac0-bcf1-de16e85f4974\":{\"defs\":[{\"extends\":null,\"module\":null,\"name\":\"ReactiveHTML1\",\"overrides\":[],\"properties\":[]},{\"extends\":null,\"module\":null,\"name\":\"FlexBox1\",\"overrides\":[],\"properties\":[{\"default\":\"flex-start\",\"kind\":null,\"name\":\"align_content\"},{\"default\":\"flex-start\",\"kind\":null,\"name\":\"align_items\"},{\"default\":\"row\",\"kind\":null,\"name\":\"flex_direction\"},{\"default\":\"wrap\",\"kind\":null,\"name\":\"flex_wrap\"},{\"default\":\"flex-start\",\"kind\":null,\"name\":\"justify_content\"}]},{\"extends\":null,\"module\":null,\"name\":\"GridStack1\",\"overrides\":[],\"properties\":[{\"default\":\"warn\",\"kind\":null,\"name\":\"mode\"},{\"default\":null,\"kind\":null,\"name\":\"ncols\"},{\"default\":null,\"kind\":null,\"name\":\"nrows\"},{\"default\":true,\"kind\":null,\"name\":\"allow_resize\"},{\"default\":true,\"kind\":null,\"name\":\"allow_drag\"},{\"default\":[],\"kind\":null,\"name\":\"state\"}]},{\"extends\":null,\"module\":null,\"name\":\"click1\",\"overrides\":[],\"properties\":[{\"default\":\"\",\"kind\":null,\"name\":\"terminal_output\"},{\"default\":\"\",\"kind\":null,\"name\":\"debug_name\"},{\"default\":0,\"kind\":null,\"name\":\"clears\"}]},{\"extends\":null,\"module\":null,\"name\":\"TemplateActions1\",\"overrides\":[],\"properties\":[{\"default\":0,\"kind\":null,\"name\":\"open_modal\"},{\"default\":0,\"kind\":null,\"name\":\"close_modal\"}]},{\"extends\":null,\"module\":null,\"name\":\"MaterialTemplateActions1\",\"overrides\":[],\"properties\":[{\"default\":0,\"kind\":null,\"name\":\"open_modal\"},{\"default\":0,\"kind\":null,\"name\":\"close_modal\"}]}],\"roots\":{\"references\":[{\"attributes\":{\"coordinates\":null,\"data_source\":{\"id\":\"9352\"},\"glyph\":{\"id\":\"9355\"},\"group\":null,\"hover_glyph\":null,\"muted_glyph\":{\"id\":\"9357\"},\"nonselection_glyph\":{\"id\":\"9356\"},\"selection_glyph\":{\"id\":\"9377\"},\"view\":{\"id\":\"9359\"}},\"id\":\"9358\",\"type\":\"GlyphRenderer\"},{\"attributes\":{},\"id\":\"9286\",\"type\":\"Selection\"},{\"attributes\":{\"line_color\":\"#6d904f\",\"line_width\":2,\"x\":{\"field\":\"year\"},\"y\":{\"field\":\"value\"}},\"id\":\"9377\",\"type\":\"Line\"},{\"attributes\":{\"line_color\":\"#e5ae38\",\"line_width\":2,\"x\":{\"field\":\"year\"},\"y\":{\"field\":\"value\"}},\"id\":\"9351\",\"type\":\"Line\"},{\"attributes\":{\"label\":{\"value\":\"movable_dwelling\"},\"renderers\":[{\"id\":\"9334\"}]},\"id\":\"9350\",\"type\":\"LegendItem\"},{\"attributes\":{\"line_color\":\"#30a2da\",\"line_width\":2,\"x\":{\"field\":\"year\"},\"y\":{\"field\":\"value\"}},\"id\":\"9288\",\"type\":\"Line\"},{\"attributes\":{},\"id\":\"9407\",\"type\":\"Selection\"},{\"attributes\":{},\"id\":\"9379\",\"type\":\"Selection\"},{\"attributes\":{\"line_color\":\"#d62728\",\"line_width\":2,\"x\":{\"field\":\"year\"},\"y\":{\"field\":\"value\"}},\"id\":\"9501\",\"type\":\"Line\"},{\"attributes\":{\"client_comm_id\":\"a6387ccdc3704a0abced760f746068dd\",\"comm_id\":\"7bd30d6ac501489f962e061009a9f961\",\"plot_id\":\"9235\"},\"id\":\"9790\",\"type\":\"panel.models.comm_manager.CommManager\"},{\"attributes\":{\"end\":4086.5,\"reset_end\":4086.5,\"reset_start\":-371.5,\"start\":-371.5,\"tags\":[[[\"value\",\"value\",null]]]},\"id\":\"9240\",\"type\":\"Range1d\"},{\"attributes\":{\"line_alpha\":0.1,\"line_color\":\"#30a2da\",\"line_width\":2,\"x\":{\"field\":\"year\"},\"y\":{\"field\":\"value\"}},\"id\":\"9289\",\"type\":\"Line\"},{\"attributes\":{\"line_alpha\":0.1,\"line_color\":\"#8b8b8b\",\"line_width\":2,\"x\":{\"field\":\"year\"},\"y\":{\"field\":\"value\"}},\"id\":\"9382\",\"type\":\"Line\"},{\"attributes\":{\"coordinates\":null,\"data_source\":{\"id\":\"9328\"},\"glyph\":{\"id\":\"9331\"},\"group\":null,\"hover_glyph\":null,\"muted_glyph\":{\"id\":\"9333\"},\"nonselection_glyph\":{\"id\":\"9332\"},\"selection_glyph\":{\"id\":\"9351\"},\"view\":{\"id\":\"9335\"}},\"id\":\"9334\",\"type\":\"GlyphRenderer\"},{\"attributes\":{\"line_color\":\"#d62728\",\"line_width\":2,\"x\":{\"field\":\"year\"},\"y\":{\"field\":\"value\"}},\"id\":\"9471\",\"type\":\"Line\"},{\"attributes\":{\"data\":{\"Variable\":[\"other_house\",\"other_house\",\"other_house\",\"other_house\"],\"value\":[5,0,20,15],\"year\":[2001,2006,2011,2016]},\"selected\":{\"id\":\"9469\"},\"selection_policy\":{\"id\":\"9497\"}},\"id\":\"9468\",\"type\":\"ColumnDataSource\"},{\"attributes\":{\"line_color\":\"#6d904f\",\"line_width\":2,\"x\":{\"field\":\"year\"},\"y\":{\"field\":\"value\"}},\"id\":\"9355\",\"type\":\"Line\"},{\"attributes\":{\"source\":{\"id\":\"9406\"}},\"id\":\"9413\",\"type\":\"CDSView\"},{\"attributes\":{\"data\":{\"Variable\":[\"movable_dwelling\",\"movable_dwelling\",\"movable_dwelling\",\"movable_dwelling\"],\"value\":[0,0,5,5],\"year\":[2001,2006,2011,2016]},\"selected\":{\"id\":\"9329\"},\"selection_policy\":{\"id\":\"9347\"}},\"id\":\"9328\",\"type\":\"ColumnDataSource\"},{\"attributes\":{},\"id\":\"9259\",\"type\":\"BasicTicker\"},{\"attributes\":{\"line_alpha\":0.1,\"line_color\":\"#6d904f\",\"line_width\":2,\"x\":{\"field\":\"year\"},\"y\":{\"field\":\"value\"}},\"id\":\"9356\",\"type\":\"Line\"},{\"attributes\":{\"data\":{\"Variable\":[\"apartment_five_storeys_less\",\"apartment_five_storeys_less\",\"apartment_five_storeys_less\",\"apartment_five_storeys_less\"],\"value\":[185,565,705,735],\"year\":[2001,2006,2011,2016]},\"selected\":{\"id\":\"9437\"},\"selection_policy\":{\"id\":\"9463\"}},\"id\":\"9436\",\"type\":\"ColumnDataSource\"},{\"attributes\":{\"label\":{\"value\":\"semi_detached_house\"},\"renderers\":[{\"id\":\"9358\"}]},\"id\":\"9376\",\"type\":\"LegendItem\"},{\"attributes\":{\"label\":{\"value\":\"apartment_five_storeys_less\"},\"renderers\":[{\"id\":\"9442\"}]},\"id\":\"9466\",\"type\":\"LegendItem\"},{\"attributes\":{\"label\":{\"value\":\"duplex\"},\"renderers\":[{\"id\":\"9412\"}]},\"id\":\"9434\",\"type\":\"LegendItem\"},{\"attributes\":{\"source\":{\"id\":\"9328\"}},\"id\":\"9335\",\"type\":\"CDSView\"},{\"attributes\":{\"line_alpha\":0.1,\"line_color\":\"#d62728\",\"line_width\":2,\"x\":{\"field\":\"year\"},\"y\":{\"field\":\"value\"}},\"id\":\"9472\",\"type\":\"Line\"},{\"attributes\":{\"axis\":{\"id\":\"9258\"},\"coordinates\":null,\"grid_line_color\":null,\"group\":null,\"ticker\":null},\"id\":\"9261\",\"type\":\"Grid\"},{\"attributes\":{\"line_color\":\"#9467bd\",\"line_width\":2,\"x\":{\"field\":\"year\"},\"y\":{\"field\":\"value\"}},\"id\":\"9467\",\"type\":\"Line\"},{\"attributes\":{\"label\":{\"value\":\"row_house\"},\"renderers\":[{\"id\":\"9384\"}]},\"id\":\"9404\",\"type\":\"LegendItem\"},{\"attributes\":{\"coordinates\":null,\"group\":null,\"text\":\"Dwellings Types in Agincourt North\",\"text_color\":\"black\",\"text_font_size\":\"12pt\"},\"id\":\"9250\",\"type\":\"Title\"},{\"attributes\":{\"line_color\":\"#17becf\",\"line_width\":2,\"x\":{\"field\":\"year\"},\"y\":{\"field\":\"value\"}},\"id\":\"9409\",\"type\":\"Line\"},{\"attributes\":{\"line_alpha\":0.1,\"line_color\":\"#9467bd\",\"line_width\":2,\"x\":{\"field\":\"year\"},\"y\":{\"field\":\"value\"}},\"id\":\"9440\",\"type\":\"Line\"},{\"attributes\":{},\"id\":\"9307\",\"type\":\"Selection\"},{\"attributes\":{},\"id\":\"9347\",\"type\":\"UnionRenderers\"},{\"attributes\":{\"label\":{\"value\":\"single_detached_house\"},\"renderers\":[{\"id\":\"9291\"}]},\"id\":\"9304\",\"type\":\"LegendItem\"},{\"attributes\":{\"coordinates\":null,\"data_source\":{\"id\":\"9285\"},\"glyph\":{\"id\":\"9288\"},\"group\":null,\"hover_glyph\":null,\"muted_glyph\":{\"id\":\"9290\"},\"nonselection_glyph\":{\"id\":\"9289\"},\"selection_glyph\":{\"id\":\"9305\"},\"view\":{\"id\":\"9292\"}},\"id\":\"9291\",\"type\":\"GlyphRenderer\"},{\"attributes\":{\"line_color\":\"#e5ae38\",\"line_width\":2,\"x\":{\"field\":\"year\"},\"y\":{\"field\":\"value\"}},\"id\":\"9331\",\"type\":\"Line\"},{\"attributes\":{\"line_color\":\"#fc4f30\",\"line_width\":2,\"x\":{\"field\":\"year\"},\"y\":{\"field\":\"value\"}},\"id\":\"9327\",\"type\":\"Line\"},{\"attributes\":{\"line_alpha\":0.2,\"line_color\":\"#9467bd\",\"line_width\":2,\"x\":{\"field\":\"year\"},\"y\":{\"field\":\"value\"}},\"id\":\"9441\",\"type\":\"Line\"},{\"attributes\":{\"label\":{\"value\":\"other_house\"},\"renderers\":[{\"id\":\"9474\"}]},\"id\":\"9500\",\"type\":\"LegendItem\"},{\"attributes\":{\"line_color\":\"#30a2da\",\"line_width\":2,\"x\":{\"field\":\"year\"},\"y\":{\"field\":\"value\"}},\"id\":\"9305\",\"type\":\"Line\"},{\"attributes\":{\"line_alpha\":0.2,\"line_color\":\"#8b8b8b\",\"line_width\":2,\"x\":{\"field\":\"year\"},\"y\":{\"field\":\"value\"}},\"id\":\"9383\",\"type\":\"Line\"},{\"attributes\":{},\"id\":\"9263\",\"type\":\"BasicTicker\"},{\"attributes\":{\"click_policy\":\"mute\",\"coordinates\":null,\"group\":null,\"items\":[{\"id\":\"9304\"},{\"id\":\"9326\"},{\"id\":\"9350\"},{\"id\":\"9376\"},{\"id\":\"9404\"},{\"id\":\"9434\"},{\"id\":\"9466\"},{\"id\":\"9500\"}],\"location\":[0,0],\"title\":\"Variable\"},\"id\":\"9303\",\"type\":\"Legend\"},{\"attributes\":{\"line_alpha\":0.1,\"line_color\":\"#e5ae38\",\"line_width\":2,\"x\":{\"field\":\"year\"},\"y\":{\"field\":\"value\"}},\"id\":\"9332\",\"type\":\"Line\"},{\"attributes\":{\"line_color\":\"#17becf\",\"line_width\":2,\"x\":{\"field\":\"year\"},\"y\":{\"field\":\"value\"}},\"id\":\"9435\",\"type\":\"Line\"},{\"attributes\":{\"line_alpha\":0.1,\"line_color\":\"#17becf\",\"line_width\":2,\"x\":{\"field\":\"year\"},\"y\":{\"field\":\"value\"}},\"id\":\"9410\",\"type\":\"Line\"},{\"attributes\":{\"label\":{\"value\":\"apartment_five_storeys_plus\"},\"renderers\":[{\"id\":\"9312\"}]},\"id\":\"9326\",\"type\":\"LegendItem\"},{\"attributes\":{},\"id\":\"9256\",\"type\":\"LinearScale\"},{\"attributes\":{\"source\":{\"id\":\"9285\"}},\"id\":\"9292\",\"type\":\"CDSView\"},{\"attributes\":{\"axis_label\":\"Dwellings Type\",\"coordinates\":null,\"formatter\":{\"id\":\"9283\"},\"group\":null,\"major_label_policy\":{\"id\":\"9284\"},\"ticker\":{\"id\":\"9263\"}},\"id\":\"9262\",\"type\":\"LinearAxis\"},{\"attributes\":{\"axis_label\":\"year\",\"coordinates\":null,\"formatter\":{\"id\":\"9280\"},\"group\":null,\"major_label_policy\":{\"id\":\"9281\"},\"ticker\":{\"id\":\"9259\"}},\"id\":\"9258\",\"type\":\"LinearAxis\"},{\"attributes\":{\"line_alpha\":0.2,\"line_color\":\"#e5ae38\",\"line_width\":2,\"x\":{\"field\":\"year\"},\"y\":{\"field\":\"value\"}},\"id\":\"9333\",\"type\":\"Line\"},{\"attributes\":{\"source\":{\"id\":\"9352\"}},\"id\":\"9359\",\"type\":\"CDSView\"},{\"attributes\":{\"source\":{\"id\":\"9306\"}},\"id\":\"9313\",\"type\":\"CDSView\"},{\"attributes\":{},\"id\":\"9401\",\"type\":\"UnionRenderers\"},{\"attributes\":{\"data\":{\"Variable\":[\"row_house\",\"row_house\",\"row_house\",\"row_house\"],\"value\":[1295,1425,1465,1440],\"year\":[2001,2006,2011,2016]},\"selected\":{\"id\":\"9379\"},\"selection_policy\":{\"id\":\"9401\"}},\"id\":\"9378\",\"type\":\"ColumnDataSource\"},{\"attributes\":{},\"id\":\"9300\",\"type\":\"UnionRenderers\"},{\"attributes\":{\"line_alpha\":0.2,\"line_color\":\"#6d904f\",\"line_width\":2,\"x\":{\"field\":\"year\"},\"y\":{\"field\":\"value\"}},\"id\":\"9357\",\"type\":\"Line\"},{\"attributes\":{\"axis\":{\"id\":\"9262\"},\"coordinates\":null,\"dimension\":1,\"grid_line_color\":null,\"group\":null,\"ticker\":null},\"id\":\"9265\",\"type\":\"Grid\"},{\"attributes\":{},\"id\":\"9280\",\"type\":\"BasicTickFormatter\"},{\"attributes\":{\"line_color\":\"#8b8b8b\",\"line_width\":2,\"x\":{\"field\":\"year\"},\"y\":{\"field\":\"value\"}},\"id\":\"9381\",\"type\":\"Line\"},{\"attributes\":{\"source\":{\"id\":\"9468\"}},\"id\":\"9475\",\"type\":\"CDSView\"},{\"attributes\":{\"coordinates\":null,\"data_source\":{\"id\":\"9468\"},\"glyph\":{\"id\":\"9471\"},\"group\":null,\"hover_glyph\":null,\"muted_glyph\":{\"id\":\"9473\"},\"nonselection_glyph\":{\"id\":\"9472\"},\"selection_glyph\":{\"id\":\"9501\"},\"view\":{\"id\":\"9475\"}},\"id\":\"9474\",\"type\":\"GlyphRenderer\"},{\"attributes\":{\"data\":{\"Variable\":[\"semi_detached_house\",\"semi_detached_house\",\"semi_detached_house\",\"semi_detached_house\"],\"value\":[1055,775,820,805],\"year\":[2001,2006,2011,2016]},\"selected\":{\"id\":\"9353\"},\"selection_policy\":{\"id\":\"9373\"}},\"id\":\"9352\",\"type\":\"ColumnDataSource\"},{\"attributes\":{\"data\":{\"Variable\":[\"apartment_five_storeys_plus\",\"apartment_five_storeys_plus\",\"apartment_five_storeys_plus\",\"apartment_five_storeys_plus\"],\"value\":[1480,2060,2130,2120],\"year\":[2001,2006,2011,2016]},\"selected\":{\"id\":\"9307\"},\"selection_policy\":{\"id\":\"9323\"}},\"id\":\"9306\",\"type\":\"ColumnDataSource\"},{\"attributes\":{\"coordinates\":null,\"data_source\":{\"id\":\"9436\"},\"glyph\":{\"id\":\"9439\"},\"group\":null,\"hover_glyph\":null,\"muted_glyph\":{\"id\":\"9441\"},\"nonselection_glyph\":{\"id\":\"9440\"},\"selection_glyph\":{\"id\":\"9467\"},\"view\":{\"id\":\"9443\"}},\"id\":\"9442\",\"type\":\"GlyphRenderer\"},{\"attributes\":{\"children\":[{\"id\":\"9249\"}],\"margin\":[0,0,0,0],\"name\":\"Row17369\"},\"id\":\"9238\",\"type\":\"Row\"},{\"attributes\":{},\"id\":\"9323\",\"type\":\"UnionRenderers\"},{\"attributes\":{},\"id\":\"9254\",\"type\":\"LinearScale\"},{\"attributes\":{\"source\":{\"id\":\"9436\"}},\"id\":\"9443\",\"type\":\"CDSView\"},{\"attributes\":{},\"id\":\"9353\",\"type\":\"Selection\"},{\"attributes\":{},\"id\":\"9283\",\"type\":\"BasicTickFormatter\"},{\"attributes\":{},\"id\":\"9329\",\"type\":\"Selection\"},{\"attributes\":{\"below\":[{\"id\":\"9258\"}],\"center\":[{\"id\":\"9261\"},{\"id\":\"9265\"}],\"height\":300,\"left\":[{\"id\":\"9262\"}],\"margin\":[5,5,5,5],\"min_border_bottom\":10,\"min_border_left\":10,\"min_border_right\":10,\"min_border_top\":10,\"renderers\":[{\"id\":\"9291\"},{\"id\":\"9312\"},{\"id\":\"9334\"},{\"id\":\"9358\"},{\"id\":\"9384\"},{\"id\":\"9412\"},{\"id\":\"9442\"},{\"id\":\"9474\"}],\"right\":[{\"id\":\"9303\"}],\"sizing_mode\":\"fixed\",\"title\":{\"id\":\"9250\"},\"toolbar\":{\"id\":\"9272\"},\"width\":700,\"x_range\":{\"id\":\"9239\"},\"x_scale\":{\"id\":\"9254\"},\"y_range\":{\"id\":\"9240\"},\"y_scale\":{\"id\":\"9256\"}},\"id\":\"9249\",\"subtype\":\"Figure\",\"type\":\"Plot\"},{\"attributes\":{\"bottom_units\":\"screen\",\"coordinates\":null,\"fill_alpha\":0.5,\"fill_color\":\"lightgrey\",\"group\":null,\"left_units\":\"screen\",\"level\":\"overlay\",\"line_alpha\":1.0,\"line_color\":\"black\",\"line_dash\":[4,4],\"line_width\":2,\"right_units\":\"screen\",\"syncable\":false,\"top_units\":\"screen\"},\"id\":\"9271\",\"type\":\"BoxAnnotation\"},{\"attributes\":{\"line_alpha\":0.2,\"line_color\":\"#30a2da\",\"line_width\":2,\"x\":{\"field\":\"year\"},\"y\":{\"field\":\"value\"}},\"id\":\"9290\",\"type\":\"Line\"},{\"attributes\":{},\"id\":\"9266\",\"type\":\"SaveTool\"},{\"attributes\":{\"coordinates\":null,\"data_source\":{\"id\":\"9306\"},\"glyph\":{\"id\":\"9309\"},\"group\":null,\"hover_glyph\":null,\"muted_glyph\":{\"id\":\"9311\"},\"nonselection_glyph\":{\"id\":\"9310\"},\"selection_glyph\":{\"id\":\"9327\"},\"view\":{\"id\":\"9313\"}},\"id\":\"9312\",\"type\":\"GlyphRenderer\"},{\"attributes\":{},\"id\":\"9267\",\"type\":\"PanTool\"},{\"attributes\":{},\"id\":\"9284\",\"type\":\"AllLabels\"},{\"attributes\":{},\"id\":\"9270\",\"type\":\"ResetTool\"},{\"attributes\":{\"tools\":[{\"id\":\"9241\"},{\"id\":\"9266\"},{\"id\":\"9267\"},{\"id\":\"9268\"},{\"id\":\"9269\"},{\"id\":\"9270\"}]},\"id\":\"9272\",\"type\":\"Toolbar\"},{\"attributes\":{\"children\":[{\"id\":\"9236\"},{\"id\":\"9238\"}],\"margin\":[0,0,0,0],\"name\":\"Column17121\"},\"id\":\"9235\",\"type\":\"Column\"},{\"attributes\":{},\"id\":\"9268\",\"type\":\"WheelZoomTool\"},{\"attributes\":{},\"id\":\"9463\",\"type\":\"UnionRenderers\"},{\"attributes\":{\"overlay\":{\"id\":\"9271\"}},\"id\":\"9269\",\"type\":\"BoxZoomTool\"},{\"attributes\":{\"coordinates\":null,\"data_source\":{\"id\":\"9378\"},\"glyph\":{\"id\":\"9381\"},\"group\":null,\"hover_glyph\":null,\"muted_glyph\":{\"id\":\"9383\"},\"nonselection_glyph\":{\"id\":\"9382\"},\"selection_glyph\":{\"id\":\"9405\"},\"view\":{\"id\":\"9385\"}},\"id\":\"9384\",\"type\":\"GlyphRenderer\"},{\"attributes\":{\"children\":[{\"id\":\"9237\"}],\"margin\":[0,0,0,0],\"name\":\"Column17370\"},\"id\":\"9236\",\"type\":\"Column\"},{\"attributes\":{\"data\":{\"Variable\":[\"duplex\",\"duplex\",\"duplex\",\"duplex\"],\"value\":[195,600,610,645],\"year\":[2001,2006,2011,2016]},\"selected\":{\"id\":\"9407\"},\"selection_policy\":{\"id\":\"9431\"}},\"id\":\"9406\",\"type\":\"ColumnDataSource\"},{\"attributes\":{\"end\":2016.0,\"reset_end\":2016.0,\"reset_start\":2001.0,\"start\":2001.0,\"tags\":[[[\"year\",\"year\",null]]]},\"id\":\"9239\",\"type\":\"Range1d\"},{\"attributes\":{\"line_alpha\":0.2,\"line_color\":\"#fc4f30\",\"line_width\":2,\"x\":{\"field\":\"year\"},\"y\":{\"field\":\"value\"}},\"id\":\"9311\",\"type\":\"Line\"},{\"attributes\":{\"line_color\":\"#8b8b8b\",\"line_width\":2,\"x\":{\"field\":\"year\"},\"y\":{\"field\":\"value\"}},\"id\":\"9405\",\"type\":\"Line\"},{\"attributes\":{\"data\":{\"Variable\":[\"single_detached_house\",\"single_detached_house\",\"single_detached_house\",\"single_detached_house\"],\"value\":[3715,3295,3385,3345],\"year\":[2001,2006,2011,2016]},\"selected\":{\"id\":\"9286\"},\"selection_policy\":{\"id\":\"9300\"}},\"id\":\"9285\",\"type\":\"ColumnDataSource\"},{\"attributes\":{\"source\":{\"id\":\"9378\"}},\"id\":\"9385\",\"type\":\"CDSView\"},{\"attributes\":{\"margin\":[5,10,5,10],\"options\":[\"Agincourt North\",\"Agincourt South-Malvern West\",\"Alderwood\",\"Annex\",\"Banbury-Don Mills\",\"Bathurst Manor\",\"Bay Street Corridor\",\"Bayview Village\",\"Bayview Woods-Steeles\",\"Bedford Park-Nortown\",\"Beechborough-Greenbrook\",\"Bendale\",\"Birchcliffe-Cliffside\",\"Black Creek\",\"Blake-Jones\",\"Briar Hill-Belgravia\",\"Bridle Path-Sunnybrook-York Mills\",\"Broadview North\",\"Brookhaven-Amesbury\",\"Cabbagetown-South St.James Town\",\"Caledonia-Fairbank\",\"Casa Loma\",\"Centennial Scarborough\",\"Church-Yonge Corridor\",\"Clairlea-Birchmount\",\"Clanton Park\",\"Cliffcrest\",\"Corso Italia-Davenport\",\"Danforth\",\"Danforth-East York\",\"Don Valley Village\",\"Dorset Park\",\"Dovercourt-Wallace Emerson-Juncti\",\"Downsview-Roding-CFB\",\"Dufferin Grove\",\"East End-Danforth\",\"Edenbridge-Humber Valley\",\"Eglinton East\",\"Elms-Old Rexdale\",\"Englemount-Lawrence\",\"Eringate-Centennial-West Deane\",\"Etobicoke West Mall\",\"Flemingdon Park\",\"Forest Hill North\",\"Forest Hill South\",\"Glenfield-Jane Heights\",\"Greenwood-Coxwell\",\"Guildwood\",\"Henry Farm\",\"High Park North\",\"High Park-Swansea\",\"Highland Creek\",\"Hillcrest Village\",\"Humber Heights-Westmount\",\"Humber Summit\",\"Humbermede\",\"Humewood-Cedarvale\",\"Ionview\",\"Islington-City Centre West\",\"Junction Area\",\"Keelesdale-Eglinton West\",\"Kennedy Park\",\"Kensington-Chinatown\",\"Kingsview Village-The Westway\",\"Kingsway South\",\"L'Amoreaux\",\"Lambton Baby Point\",\"Lansing-Westgate\",\"Lawrence Park North\",\"Lawrence Park South\",\"Leaside-Bennington\",\"Little Portugal\",\"Long Branch\",\"Malvern\",\"Maple Leaf\",\"Markland Wood\",\"Milliken\",\"Mimico\",\"Morningside\",\"Moss Park\",\"Mount Dennis\",\"Mount Olive-Silverstone-Jamestown\",\"Mount Pleasant East\",\"Mount Pleasant West\",\"New Toronto\",\"Newtonbrook East\",\"Newtonbrook West\",\"Niagara\",\"North Riverdale\",\"North St.James Town\",\"O'Connor-Parkview\",\"Oakridge\",\"Oakwood Village\",\"Old East York\",\"Palmerston-Little Italy\",\"Parkwoods-Donalda\",\"Pelmo Park-Humberlea\",\"Playter Estates-Danforth\",\"Pleasant View\",\"Princess-Rosethorn\",\"Regent Park\",\"Rexdale-Kipling\",\"Rockcliffe-Smythe\",\"Roncesvalles\",\"Rosedale-Moore Park\",\"Rouge\",\"Runnymede-Bloor West Village\",\"Rustic\",\"Scarborough Village\",\"South Parkdale\",\"South Riverdale\",\"St.Andrew-Windfields\",\"Steeles\",\"Stonegate-Queensway\",\"Tam O'Shanter-Sullivan\",\"Taylor-Massey\",\"The Beaches\",\"Thistletown-Beaumond Heights\",\"Thorncliffe Park\",\"Trinity-Bellwoods\",\"University\",\"Victoria Village\",\"Waterfront Communities-The Island\",\"West Hill\",\"West Humber-Clairville\",\"Westminster-Branson\",\"Weston\",\"Weston-Pellam Park\",\"Wexford/Maryvale\",\"Willowdale East\",\"Willowdale West\",\"Willowridge-Martingrove-Richview\",\"Woburn\",\"Woodbine Corridor\",\"Woodbine-Lumsden\",\"Wychwood\",\"Yonge-Eglinton\",\"Yonge-St.Clair\",\"York University Heights\",\"Yorkdale-Glen Park\",\"Agincourt North\",\"Agincourt South-Malvern West\",\"Alderwood\",\"Annex\",\"Banbury-Don Mills\",\"Bathurst Manor\",\"Bay Street Corridor\",\"Bayview Village\",\"Bayview Woods-Steeles\",\"Bedford Park-Nortown\",\"Beechborough-Greenbrook\",\"Bendale\",\"Birchcliffe-Cliffside\",\"Black Creek\",\"Blake-Jones\",\"Briar Hill-Belgravia\",\"Bridle Path-Sunnybrook-York Mills\",\"Broadview North\",\"Brookhaven-Amesbury\",\"Cabbagetown-South St.James Town\",\"Caledonia-Fairbank\",\"Casa Loma\",\"Centennial Scarborough\",\"Church-Yonge Corridor\",\"Clairlea-Birchmount\",\"Clanton Park\",\"Cliffcrest\",\"Corso Italia-Davenport\",\"Danforth\",\"Danforth-East York\",\"Don Valley Village\",\"Dorset Park\",\"Dovercourt-Wallace Emerson-Juncti\",\"Downsview-Roding-CFB\",\"Dufferin Grove\",\"East End-Danforth\",\"Edenbridge-Humber Valley\",\"Eglinton East\",\"Elms-Old Rexdale\",\"Englemount-Lawrence\",\"Eringate-Centennial-West Deane\",\"Etobicoke West Mall\",\"Flemingdon Park\",\"Forest Hill North\",\"Forest Hill South\",\"Glenfield-Jane Heights\",\"Greenwood-Coxwell\",\"Guildwood\",\"Henry Farm\",\"High Park North\",\"High Park-Swansea\",\"Highland Creek\",\"Hillcrest Village\",\"Humber Heights-Westmount\",\"Humber Summit\",\"Humbermede\",\"Humewood-Cedarvale\",\"Ionview\",\"Islington-City Centre West\",\"Junction Area\",\"Keelesdale-Eglinton West\",\"Kennedy Park\",\"Kensington-Chinatown\",\"Kingsview Village-The Westway\",\"Kingsway South\",\"L'Amoreaux\",\"Lambton Baby Point\",\"Lansing-Westgate\",\"Lawrence Park North\",\"Lawrence Park South\",\"Leaside-Bennington\",\"Little Portugal\",\"Long Branch\",\"Malvern\",\"Maple Leaf\",\"Markland Wood\",\"Milliken\",\"Mimico\",\"Morningside\",\"Moss Park\",\"Mount Dennis\",\"Mount Olive-Silverstone-Jamestown\",\"Mount Pleasant East\",\"Mount Pleasant West\",\"New Toronto\",\"Newtonbrook East\",\"Newtonbrook West\",\"Niagara\",\"North Riverdale\",\"North St.James Town\",\"O'Connor-Parkview\",\"Oakridge\",\"Oakwood Village\",\"Old East York\",\"Palmerston-Little Italy\",\"Parkwoods-Donalda\",\"Pelmo Park-Humberlea\",\"Playter Estates-Danforth\",\"Pleasant View\",\"Princess-Rosethorn\",\"Regent Park\",\"Rexdale-Kipling\",\"Rockcliffe-Smythe\",\"Roncesvalles\",\"Rosedale-Moore Park\",\"Rouge\",\"Runnymede-Bloor West Village\",\"Rustic\",\"Scarborough Village\",\"South Parkdale\",\"South Riverdale\",\"St.Andrew-Windfields\",\"Steeles\",\"Stonegate-Queensway\",\"Tam O'Shanter-Sullivan\",\"Taylor-Massey\",\"The Beaches\",\"Thistletown-Beaumond Heights\",\"Thorncliffe Park\",\"Trinity-Bellwoods\",\"University\",\"Victoria Village\",\"Waterfront Communities-The Island\",\"West Hill\",\"West Humber-Clairville\",\"Westminster-Branson\",\"Weston\",\"Weston-Pellam Park\",\"Wexford/Maryvale\",\"Willowdale East\",\"Willowdale West\",\"Willowridge-Martingrove-Richview\",\"Woburn\",\"Woodbine Corridor\",\"Woodbine-Lumsden\",\"Wychwood\",\"Yonge-Eglinton\",\"Yonge-St.Clair\",\"York University Heights\",\"Yorkdale-Glen Park\",\"Agincourt North\",\"Agincourt South-Malvern West\",\"Alderwood\",\"Annex\",\"Banbury-Don Mills\",\"Bathurst Manor\",\"Bay Street Corridor\",\"Bayview Village\",\"Bayview Woods-Steeles\",\"Bedford Park-Nortown\",\"Beechborough-Greenbrook\",\"Bendale\",\"Birchcliffe-Cliffside\",\"Black Creek\",\"Blake-Jones\",\"Briar Hill-Belgravia\",\"Bridle Path-Sunnybrook-York Mills\",\"Broadview North\",\"Brookhaven-Amesbury\",\"Cabbagetown-South St.James Town\",\"Caledonia-Fairbank\",\"Casa Loma\",\"Centennial Scarborough\",\"Church-Yonge Corridor\",\"Clairlea-Birchmount\",\"Clanton Park\",\"Cliffcrest\",\"Corso Italia-Davenport\",\"Danforth\",\"Danforth-East York\",\"Don Valley Village\",\"Dorset Park\",\"Dovercourt-Wallace Emerson-Juncti\",\"Downsview-Roding-CFB\",\"Dufferin Grove\",\"East End-Danforth\",\"Edenbridge-Humber Valley\",\"Eglinton East\",\"Elms-Old Rexdale\",\"Englemount-Lawrence\",\"Eringate-Centennial-West Deane\",\"Etobicoke West Mall\",\"Flemingdon Park\",\"Forest Hill North\",\"Forest Hill South\",\"Glenfield-Jane Heights\",\"Greenwood-Coxwell\",\"Guildwood\",\"Henry Farm\",\"High Park North\",\"High Park-Swansea\",\"Highland Creek\",\"Hillcrest Village\",\"Humber Heights-Westmount\",\"Humber Summit\",\"Humbermede\",\"Humewood-Cedarvale\",\"Ionview\",\"Islington-City Centre West\",\"Junction Area\",\"Keelesdale-Eglinton West\",\"Kennedy Park\",\"Kensington-Chinatown\",\"Kingsview Village-The Westway\",\"Kingsway South\",\"L'Amoreaux\",\"Lambton Baby Point\",\"Lansing-Westgate\",\"Lawrence Park North\",\"Lawrence Park South\",\"Leaside-Bennington\",\"Little Portugal\",\"Long Branch\",\"Malvern\",\"Maple Leaf\",\"Markland Wood\",\"Milliken\",\"Mimico\",\"Morningside\",\"Moss Park\",\"Mount Dennis\",\"Mount Olive-Silverstone-Jamestown\",\"Mount Pleasant East\",\"Mount Pleasant West\",\"New Toronto\",\"Newtonbrook East\",\"Newtonbrook West\",\"Niagara\",\"North Riverdale\",\"North St.James Town\",\"O'Connor-Parkview\",\"Oakridge\",\"Oakwood Village\",\"Old East York\",\"Palmerston-Little Italy\",\"Parkwoods-Donalda\",\"Pelmo Park-Humberlea\",\"Playter Estates-Danforth\",\"Pleasant View\",\"Princess-Rosethorn\",\"Regent Park\",\"Rexdale-Kipling\",\"Rockcliffe-Smythe\",\"Roncesvalles\",\"Rosedale-Moore Park\",\"Rouge\",\"Runnymede-Bloor West Village\",\"Rustic\",\"Scarborough Village\",\"South Parkdale\",\"South Riverdale\",\"St.Andrew-Windfields\",\"Steeles\",\"Stonegate-Queensway\",\"Tam O'Shanter-Sullivan\",\"Taylor-Massey\",\"The Beaches\",\"Thistletown-Beaumond Heights\",\"Thorncliffe Park\",\"Trinity-Bellwoods\",\"University\",\"Victoria Village\",\"Waterfront Communities-The Island\",\"West Hill\",\"West Humber-Clairville\",\"Westminster-Branson\",\"Weston\",\"Weston-Pellam Park\",\"Wexford/Maryvale\",\"Willowdale East\",\"Willowdale West\",\"Willowridge-Martingrove-Richview\",\"Woburn\",\"Woodbine Corridor\",\"Woodbine-Lumsden\",\"Wychwood\",\"Yonge-Eglinton\",\"Yonge-St.Clair\",\"York University Heights\",\"Yorkdale-Glen Park\",\"Agincourt North\",\"Agincourt South-Malvern West\",\"Alderwood\",\"Annex\",\"Banbury-Don Mills\",\"Bathurst Manor\",\"Bay Street Corridor\",\"Bayview Village\",\"Bayview Woods-Steeles\",\"Bedford Park-Nortown\",\"Beechborough-Greenbrook\",\"Bendale\",\"Birchcliffe-Cliffside\",\"Black Creek\",\"Blake-Jones\",\"Briar Hill-Belgravia\",\"Bridle Path-Sunnybrook-York Mills\",\"Broadview North\",\"Brookhaven-Amesbury\",\"Cabbagetown-South St.James Town\",\"Caledonia-Fairbank\",\"Casa Loma\",\"Centennial Scarborough\",\"Church-Yonge Corridor\",\"Clairlea-Birchmount\",\"Clanton Park\",\"Cliffcrest\",\"Corso Italia-Davenport\",\"Danforth\",\"Danforth-East York\",\"Don Valley Village\",\"Dorset Park\",\"Dovercourt-Wallace Emerson-Juncti\",\"Downsview-Roding-CFB\",\"Dufferin Grove\",\"East End-Danforth\",\"Edenbridge-Humber Valley\",\"Eglinton East\",\"Elms-Old Rexdale\",\"Englemount-Lawrence\",\"Eringate-Centennial-West Deane\",\"Etobicoke West Mall\",\"Flemingdon Park\",\"Forest Hill North\",\"Forest Hill South\",\"Glenfield-Jane Heights\",\"Greenwood-Coxwell\",\"Guildwood\",\"Henry Farm\",\"High Park North\",\"High Park-Swansea\",\"Highland Creek\",\"Hillcrest Village\",\"Humber Heights-Westmount\",\"Humber Summit\",\"Humbermede\",\"Humewood-Cedarvale\",\"Ionview\",\"Islington-City Centre West\",\"Junction Area\",\"Keelesdale-Eglinton West\",\"Kennedy Park\",\"Kensington-Chinatown\",\"Kingsview Village-The Westway\",\"Kingsway South\",\"L'Amoreaux\",\"Lambton Baby Point\",\"Lansing-Westgate\",\"Lawrence Park North\",\"Lawrence Park South\",\"Leaside-Bennington\",\"Little Portugal\",\"Long Branch\",\"Malvern\",\"Maple Leaf\",\"Markland Wood\",\"Milliken\",\"Mimico\",\"Morningside\",\"Moss Park\",\"Mount Dennis\",\"Mount Olive-Silverstone-Jamestown\",\"Mount Pleasant East\",\"Mount Pleasant West\",\"New Toronto\",\"Newtonbrook East\",\"Newtonbrook West\",\"Niagara\",\"North Riverdale\",\"North St.James Town\",\"O'Connor-Parkview\",\"Oakridge\",\"Oakwood Village\",\"Old East York\",\"Palmerston-Little Italy\",\"Parkwoods-Donalda\",\"Pelmo Park-Humberlea\",\"Playter Estates-Danforth\",\"Pleasant View\",\"Princess-Rosethorn\",\"Regent Park\",\"Rexdale-Kipling\",\"Rockcliffe-Smythe\",\"Roncesvalles\",\"Rosedale-Moore Park\",\"Rouge\",\"Runnymede-Bloor West Village\",\"Rustic\",\"Scarborough Village\",\"South Parkdale\",\"South Riverdale\",\"St.Andrew-Windfields\",\"Steeles\",\"Stonegate-Queensway\",\"Tam O'Shanter-Sullivan\",\"Taylor-Massey\",\"The Beaches\",\"Thistletown-Beaumond Heights\",\"Thorncliffe Park\",\"Trinity-Bellwoods\",\"University\",\"Victoria Village\",\"Waterfront Communities-The Island\",\"West Hill\",\"West Humber-Clairville\",\"Westminster-Branson\",\"Weston\",\"Weston-Pellam Park\",\"Wexford/Maryvale\",\"Willowdale East\",\"Willowdale West\",\"Willowridge-Martingrove-Richview\",\"Woburn\",\"Woodbine Corridor\",\"Woodbine-Lumsden\",\"Wychwood\",\"Yonge-Eglinton\",\"Yonge-St.Clair\",\"York University Heights\",\"Yorkdale-Glen Park\"],\"title\":\"neighbourhood\",\"value\":\"Agincourt North\"},\"id\":\"9237\",\"type\":\"panel.models.widgets.CustomSelect\"},{\"attributes\":{},\"id\":\"9437\",\"type\":\"Selection\"},{\"attributes\":{\"line_color\":\"#fc4f30\",\"line_width\":2,\"x\":{\"field\":\"year\"},\"y\":{\"field\":\"value\"}},\"id\":\"9309\",\"type\":\"Line\"},{\"attributes\":{\"line_alpha\":0.2,\"line_color\":\"#17becf\",\"line_width\":2,\"x\":{\"field\":\"year\"},\"y\":{\"field\":\"value\"}},\"id\":\"9411\",\"type\":\"Line\"},{\"attributes\":{},\"id\":\"9281\",\"type\":\"AllLabels\"},{\"attributes\":{},\"id\":\"9469\",\"type\":\"Selection\"},{\"attributes\":{\"line_alpha\":0.2,\"line_color\":\"#d62728\",\"line_width\":2,\"x\":{\"field\":\"year\"},\"y\":{\"field\":\"value\"}},\"id\":\"9473\",\"type\":\"Line\"},{\"attributes\":{\"coordinates\":null,\"data_source\":{\"id\":\"9406\"},\"glyph\":{\"id\":\"9409\"},\"group\":null,\"hover_glyph\":null,\"muted_glyph\":{\"id\":\"9411\"},\"nonselection_glyph\":{\"id\":\"9410\"},\"selection_glyph\":{\"id\":\"9435\"},\"view\":{\"id\":\"9413\"}},\"id\":\"9412\",\"type\":\"GlyphRenderer\"},{\"attributes\":{},\"id\":\"9373\",\"type\":\"UnionRenderers\"},{\"attributes\":{},\"id\":\"9497\",\"type\":\"UnionRenderers\"},{\"attributes\":{\"line_alpha\":0.1,\"line_color\":\"#fc4f30\",\"line_width\":2,\"x\":{\"field\":\"year\"},\"y\":{\"field\":\"value\"}},\"id\":\"9310\",\"type\":\"Line\"},{\"attributes\":{\"line_color\":\"#9467bd\",\"line_width\":2,\"x\":{\"field\":\"year\"},\"y\":{\"field\":\"value\"}},\"id\":\"9439\",\"type\":\"Line\"},{\"attributes\":{\"callback\":null,\"renderers\":[{\"id\":\"9291\"},{\"id\":\"9312\"},{\"id\":\"9334\"},{\"id\":\"9358\"},{\"id\":\"9384\"},{\"id\":\"9412\"},{\"id\":\"9442\"},{\"id\":\"9474\"}],\"tags\":[\"hv_created\"],\"tooltips\":[[\"Variable\",\"@{Variable}\"],[\"year\",\"@{year}\"],[\"value\",\"@{value}\"]]},\"id\":\"9241\",\"type\":\"HoverTool\"},{\"attributes\":{},\"id\":\"9431\",\"type\":\"UnionRenderers\"}],\"root_ids\":[\"9235\",\"9790\"]},\"title\":\"Bokeh Application\",\"version\":\"2.4.2\"}};\n",
       "    var render_items = [{\"docid\":\"3041a82c-b094-4ac0-bcf1-de16e85f4974\",\"root_ids\":[\"9235\"],\"roots\":{\"9235\":\"56ad1229-dc02-4ec2-997b-4d07f8fd81cd\"}}];\n",
       "    root.Bokeh.embed.embed_items_notebook(docs_json, render_items);\n",
       "  }\n",
       "  if (root.Bokeh !== undefined && root.Bokeh.Panel !== undefined && ( root['Plotly'] !== undefined)) {\n",
       "    embed_document(root);\n",
       "  } else {\n",
       "    var attempts = 0;\n",
       "    var timer = setInterval(function(root) {\n",
       "      if (root.Bokeh !== undefined && root.Bokeh.Panel !== undefined && (root['Plotly'] !== undefined)) {\n",
       "        clearInterval(timer);\n",
       "        embed_document(root);\n",
       "      } else if (document.readyState == \"complete\") {\n",
       "        attempts++;\n",
       "        if (attempts > 200) {\n",
       "          clearInterval(timer);\n",
       "          console.log(\"Bokeh: ERROR: Unable to run BokehJS code because BokehJS library is missing\");\n",
       "        }\n",
       "      }\n",
       "    }, 25, root)\n",
       "  }\n",
       "})(window);</script>"
      ],
      "text/plain": [
       "Column\n",
       "    [0] Column\n",
       "        [0] Select(name='neighbourhood', options=['Agincourt North', ...], value='Agincourt North')\n",
       "    [1] Row\n",
       "        [0] HoloViews(NdOverlay, name='interactive17120')"
      ]
     },
     "execution_count": 240,
     "metadata": {
      "application/vnd.holoviews_exec.v0+json": {
       "id": "9235"
      }
     },
     "output_type": "execute_result"
    }
   ],
   "source": [
    "# Use hvplot to create an interactive bar chart of the number of dwelling types per neighbourhood\n",
    "# The plot should have a dropdown selector for the neighbourhood\n",
    "def plot_dwelling_types(neighbourhood):\n",
    "    \n",
    "\n",
    "    return dwellings_types[dwellings_types['neighbourhood']==neighbourhood].hvplot.line(\n",
    "        ylabel=\"Dwellings Type\",\n",
    "        title=f\"Dwellings Types in {neighbourhood}\",\n",
    "    )\n",
    "interact(plot_dwelling_types, neighbourhood=dwellings_types['neighbourhood'])"
   ]
  },
  {
   "cell_type": "markdown",
   "metadata": {},
   "source": [
    "- - - "
   ]
  },
  {
   "cell_type": "markdown",
   "metadata": {},
   "source": [
    "## The Top 10 Most Expensive Neighbourhoods\n",
    "\n",
    "In this section, you will need to calculate the house value for each neighbourhood and then sort the values to obtain the top 10 most expensive neighbourhoods on average. Plot the results as a bar chart."
   ]
  },
  {
   "cell_type": "code",
   "execution_count": 241,
   "metadata": {},
   "outputs": [
    {
     "data": {
      "text/html": [
       "<div>\n",
       "<style scoped>\n",
       "    .dataframe tbody tr th:only-of-type {\n",
       "        vertical-align: middle;\n",
       "    }\n",
       "\n",
       "    .dataframe tbody tr th {\n",
       "        vertical-align: top;\n",
       "    }\n",
       "\n",
       "    .dataframe thead th {\n",
       "        text-align: right;\n",
       "    }\n",
       "</style>\n",
       "<table border=\"1\" class=\"dataframe\">\n",
       "  <thead>\n",
       "    <tr style=\"text-align: right;\">\n",
       "      <th></th>\n",
       "      <th>average_house_value</th>\n",
       "    </tr>\n",
       "    <tr>\n",
       "      <th>neighbourhood</th>\n",
       "      <th></th>\n",
       "    </tr>\n",
       "  </thead>\n",
       "  <tbody>\n",
       "    <tr>\n",
       "      <th>Bridle Path-Sunnybrook-York Mills</th>\n",
       "      <td>6105943</td>\n",
       "    </tr>\n",
       "    <tr>\n",
       "      <th>Forest Hill South</th>\n",
       "      <td>4783970</td>\n",
       "    </tr>\n",
       "    <tr>\n",
       "      <th>Lawrence Park South</th>\n",
       "      <td>4376111</td>\n",
       "    </tr>\n",
       "    <tr>\n",
       "      <th>Rosedale-Moore Park</th>\n",
       "      <td>4374560</td>\n",
       "    </tr>\n",
       "    <tr>\n",
       "      <th>St.Andrew-Windfields</th>\n",
       "      <td>3996428</td>\n",
       "    </tr>\n",
       "    <tr>\n",
       "      <th>Casa Loma</th>\n",
       "      <td>3924257</td>\n",
       "    </tr>\n",
       "    <tr>\n",
       "      <th>Bedford Park-Nortown</th>\n",
       "      <td>3721661</td>\n",
       "    </tr>\n",
       "    <tr>\n",
       "      <th>Forest Hill North</th>\n",
       "      <td>3406722</td>\n",
       "    </tr>\n",
       "    <tr>\n",
       "      <th>Kingsway South</th>\n",
       "      <td>3372937</td>\n",
       "    </tr>\n",
       "    <tr>\n",
       "      <th>Yonge-St.Clair</th>\n",
       "      <td>3252881</td>\n",
       "    </tr>\n",
       "  </tbody>\n",
       "</table>\n",
       "</div>"
      ],
      "text/plain": [
       "                                   average_house_value\n",
       "neighbourhood                                         \n",
       "Bridle Path-Sunnybrook-York Mills              6105943\n",
       "Forest Hill South                              4783970\n",
       "Lawrence Park South                            4376111\n",
       "Rosedale-Moore Park                            4374560\n",
       "St.Andrew-Windfields                           3996428\n",
       "Casa Loma                                      3924257\n",
       "Bedford Park-Nortown                           3721661\n",
       "Forest Hill North                              3406722\n",
       "Kingsway South                                 3372937\n",
       "Yonge-St.Clair                                 3252881"
      ]
     },
     "execution_count": 241,
     "metadata": {},
     "output_type": "execute_result"
    }
   ],
   "source": [
    "# Getting the data from the top 10 expensive neighbourhoods\n",
    "df = to_data.set_index('neighbourhood')\n",
    "house_value_nghr = pd.DataFrame(df.groupby('neighbourhood').sum()['average_house_value']).sort_values(by='average_house_value', ascending = False)\n",
    "house_value_nghr.head(10)"
   ]
  },
  {
   "cell_type": "code",
   "execution_count": 242,
   "metadata": {},
   "outputs": [
    {
     "data": {},
     "metadata": {},
     "output_type": "display_data"
    },
    {
     "data": {
      "application/vnd.holoviews_exec.v0+json": "",
      "text/html": [
       "<div id='9911'>\n",
       "\n",
       "\n",
       "\n",
       "\n",
       "\n",
       "  <div class=\"bk-root\" id=\"b4d957e9-1db9-4d49-9207-43895501d9f0\" data-root-id=\"9911\"></div>\n",
       "</div>\n",
       "<script type=\"application/javascript\">(function(root) {\n",
       "  function embed_document(root) {\n",
       "    var docs_json = {\"23e888ea-f080-467b-b0a4-aa4041febf38\":{\"defs\":[{\"extends\":null,\"module\":null,\"name\":\"ReactiveHTML1\",\"overrides\":[],\"properties\":[]},{\"extends\":null,\"module\":null,\"name\":\"FlexBox1\",\"overrides\":[],\"properties\":[{\"default\":\"flex-start\",\"kind\":null,\"name\":\"align_content\"},{\"default\":\"flex-start\",\"kind\":null,\"name\":\"align_items\"},{\"default\":\"row\",\"kind\":null,\"name\":\"flex_direction\"},{\"default\":\"wrap\",\"kind\":null,\"name\":\"flex_wrap\"},{\"default\":\"flex-start\",\"kind\":null,\"name\":\"justify_content\"}]},{\"extends\":null,\"module\":null,\"name\":\"GridStack1\",\"overrides\":[],\"properties\":[{\"default\":\"warn\",\"kind\":null,\"name\":\"mode\"},{\"default\":null,\"kind\":null,\"name\":\"ncols\"},{\"default\":null,\"kind\":null,\"name\":\"nrows\"},{\"default\":true,\"kind\":null,\"name\":\"allow_resize\"},{\"default\":true,\"kind\":null,\"name\":\"allow_drag\"},{\"default\":[],\"kind\":null,\"name\":\"state\"}]},{\"extends\":null,\"module\":null,\"name\":\"click1\",\"overrides\":[],\"properties\":[{\"default\":\"\",\"kind\":null,\"name\":\"terminal_output\"},{\"default\":\"\",\"kind\":null,\"name\":\"debug_name\"},{\"default\":0,\"kind\":null,\"name\":\"clears\"}]},{\"extends\":null,\"module\":null,\"name\":\"TemplateActions1\",\"overrides\":[],\"properties\":[{\"default\":0,\"kind\":null,\"name\":\"open_modal\"},{\"default\":0,\"kind\":null,\"name\":\"close_modal\"}]},{\"extends\":null,\"module\":null,\"name\":\"MaterialTemplateActions1\",\"overrides\":[],\"properties\":[{\"default\":0,\"kind\":null,\"name\":\"open_modal\"},{\"default\":0,\"kind\":null,\"name\":\"close_modal\"}]}],\"roots\":{\"references\":[{\"attributes\":{},\"id\":\"9929\",\"type\":\"BasicTicker\"},{\"attributes\":{},\"id\":\"9926\",\"type\":\"CategoricalTicker\"},{\"attributes\":{\"data\":{\"average_house_value\":[6105943,4783970,4376111,4374560,3996428,3924257,3721661,3406722,3372937,3252881],\"neighbourhood\":[\"Bridle Path-Sunnybrook-York Mills\",\"Forest Hill South\",\"Lawrence Park South\",\"Rosedale-Moore Park\",\"St.Andrew-Windfields\",\"Casa Loma\",\"Bedford Park-Nortown\",\"Forest Hill North\",\"Kingsway South\",\"Yonge-St.Clair\"]},\"selected\":{\"id\":\"9946\"},\"selection_policy\":{\"id\":\"9967\"}},\"id\":\"9945\",\"type\":\"ColumnDataSource\"},{\"attributes\":{\"axis_label\":\"Average house Value\",\"coordinates\":null,\"formatter\":{\"id\":\"9958\"},\"group\":null,\"major_label_policy\":{\"id\":\"9959\"},\"ticker\":{\"id\":\"9929\"}},\"id\":\"9928\",\"type\":\"LinearAxis\"},{\"attributes\":{\"below\":[{\"id\":\"9925\"}],\"center\":[{\"id\":\"9927\"},{\"id\":\"9931\"}],\"height\":300,\"left\":[{\"id\":\"9928\"}],\"margin\":[5,5,5,5],\"min_border_bottom\":10,\"min_border_left\":10,\"min_border_right\":10,\"min_border_top\":10,\"renderers\":[{\"id\":\"9951\"}],\"sizing_mode\":\"fixed\",\"title\":{\"id\":\"9917\"},\"toolbar\":{\"id\":\"9938\"},\"width\":700,\"x_range\":{\"id\":\"9913\"},\"x_scale\":{\"id\":\"9921\"},\"y_range\":{\"id\":\"9914\"},\"y_scale\":{\"id\":\"9923\"}},\"id\":\"9916\",\"subtype\":\"Figure\",\"type\":\"Plot\"},{\"attributes\":{\"axis\":{\"id\":\"9928\"},\"coordinates\":null,\"dimension\":1,\"grid_line_color\":null,\"group\":null,\"ticker\":null},\"id\":\"9931\",\"type\":\"Grid\"},{\"attributes\":{},\"id\":\"9946\",\"type\":\"Selection\"},{\"attributes\":{\"source\":{\"id\":\"9945\"}},\"id\":\"9952\",\"type\":\"CDSView\"},{\"attributes\":{},\"id\":\"9956\",\"type\":\"AllLabels\"},{\"attributes\":{\"fill_alpha\":{\"value\":0.1},\"fill_color\":{\"value\":\"#30a2da\"},\"hatch_alpha\":{\"value\":0.1},\"hatch_color\":{\"value\":\"#30a2da\"},\"line_alpha\":{\"value\":0.1},\"top\":{\"field\":\"average_house_value\"},\"width\":{\"value\":0.8},\"x\":{\"field\":\"neighbourhood\"}},\"id\":\"9949\",\"type\":\"VBar\"},{\"attributes\":{},\"id\":\"9955\",\"type\":\"CategoricalTickFormatter\"},{\"attributes\":{\"margin\":[5,5,5,5],\"name\":\"HSpacer18590\",\"sizing_mode\":\"stretch_width\"},\"id\":\"9912\",\"type\":\"Spacer\"},{\"attributes\":{\"fill_alpha\":{\"value\":0.2},\"fill_color\":{\"value\":\"#30a2da\"},\"hatch_alpha\":{\"value\":0.2},\"hatch_color\":{\"value\":\"#30a2da\"},\"line_alpha\":{\"value\":0.2},\"top\":{\"field\":\"average_house_value\"},\"width\":{\"value\":0.8},\"x\":{\"field\":\"neighbourhood\"}},\"id\":\"9950\",\"type\":\"VBar\"},{\"attributes\":{},\"id\":\"9959\",\"type\":\"AllLabels\"},{\"attributes\":{},\"id\":\"9967\",\"type\":\"UnionRenderers\"},{\"attributes\":{},\"id\":\"9958\",\"type\":\"BasicTickFormatter\"},{\"attributes\":{\"coordinates\":null,\"data_source\":{\"id\":\"9945\"},\"glyph\":{\"id\":\"9948\"},\"group\":null,\"hover_glyph\":null,\"muted_glyph\":{\"id\":\"9950\"},\"nonselection_glyph\":{\"id\":\"9949\"},\"selection_glyph\":{\"id\":\"9953\"},\"view\":{\"id\":\"9952\"}},\"id\":\"9951\",\"type\":\"GlyphRenderer\"},{\"attributes\":{},\"id\":\"9932\",\"type\":\"SaveTool\"},{\"attributes\":{},\"id\":\"9933\",\"type\":\"PanTool\"},{\"attributes\":{\"margin\":[5,5,5,5],\"name\":\"HSpacer18591\",\"sizing_mode\":\"stretch_width\"},\"id\":\"9980\",\"type\":\"Spacer\"},{\"attributes\":{\"end\":6391249.2,\"reset_end\":6391249.2,\"reset_start\":0.0,\"tags\":[[[\"average_house_value\",\"average_house_value\",null]]]},\"id\":\"9914\",\"type\":\"Range1d\"},{\"attributes\":{},\"id\":\"9936\",\"type\":\"ResetTool\"},{\"attributes\":{\"bottom\":{\"value\":0},\"fill_alpha\":{\"value\":1.0},\"fill_color\":{\"value\":\"#30a2da\"},\"hatch_alpha\":{\"value\":1.0},\"hatch_color\":{\"value\":\"#30a2da\"},\"hatch_scale\":{\"value\":12.0},\"hatch_weight\":{\"value\":1.0},\"line_alpha\":{\"value\":1.0},\"line_cap\":{\"value\":\"butt\"},\"line_color\":{\"value\":\"black\"},\"line_dash\":{\"value\":[]},\"line_dash_offset\":{\"value\":0},\"line_join\":{\"value\":\"bevel\"},\"line_width\":{\"value\":1},\"top\":{\"field\":\"average_house_value\"},\"width\":{\"value\":0.8},\"x\":{\"field\":\"neighbourhood\"}},\"id\":\"9953\",\"type\":\"VBar\"},{\"attributes\":{},\"id\":\"9934\",\"type\":\"WheelZoomTool\"},{\"attributes\":{\"overlay\":{\"id\":\"9937\"}},\"id\":\"9935\",\"type\":\"BoxZoomTool\"},{\"attributes\":{\"fill_color\":{\"value\":\"#30a2da\"},\"hatch_color\":{\"value\":\"#30a2da\"},\"top\":{\"field\":\"average_house_value\"},\"width\":{\"value\":0.8},\"x\":{\"field\":\"neighbourhood\"}},\"id\":\"9948\",\"type\":\"VBar\"},{\"attributes\":{},\"id\":\"9921\",\"type\":\"CategoricalScale\"},{\"attributes\":{\"factors\":[\"Bridle Path-Sunnybrook-York Mills\",\"Forest Hill South\",\"Lawrence Park South\",\"Rosedale-Moore Park\",\"St.Andrew-Windfields\",\"Casa Loma\",\"Bedford Park-Nortown\",\"Forest Hill North\",\"Kingsway South\",\"Yonge-St.Clair\"],\"tags\":[[[\"neighbourhood\",\"neighbourhood\",null]]]},\"id\":\"9913\",\"type\":\"FactorRange\"},{\"attributes\":{\"axis\":{\"id\":\"9925\"},\"coordinates\":null,\"grid_line_color\":null,\"group\":null,\"ticker\":null},\"id\":\"9927\",\"type\":\"Grid\"},{\"attributes\":{\"callback\":null,\"renderers\":[{\"id\":\"9951\"}],\"tags\":[\"hv_created\"],\"tooltips\":[[\"neighbourhood\",\"@{neighbourhood}\"],[\"average_house_value\",\"@{average_house_value}\"]]},\"id\":\"9915\",\"type\":\"HoverTool\"},{\"attributes\":{\"axis_label\":\"neighbourhood\",\"coordinates\":null,\"formatter\":{\"id\":\"9955\"},\"group\":null,\"major_label_orientation\":1.5707963267948966,\"major_label_policy\":{\"id\":\"9956\"},\"ticker\":{\"id\":\"9926\"}},\"id\":\"9925\",\"type\":\"CategoricalAxis\"},{\"attributes\":{\"children\":[{\"id\":\"9912\"},{\"id\":\"9916\"},{\"id\":\"9980\"}],\"margin\":[0,0,0,0],\"name\":\"Row18586\",\"tags\":[\"embedded\"]},\"id\":\"9911\",\"type\":\"Row\"},{\"attributes\":{\"coordinates\":null,\"group\":null,\"text\":\"Top 10 most expensive neighbourhoods to live in Toronto\",\"text_color\":\"black\",\"text_font_size\":\"12pt\"},\"id\":\"9917\",\"type\":\"Title\"},{\"attributes\":{\"bottom_units\":\"screen\",\"coordinates\":null,\"fill_alpha\":0.5,\"fill_color\":\"lightgrey\",\"group\":null,\"left_units\":\"screen\",\"level\":\"overlay\",\"line_alpha\":1.0,\"line_color\":\"black\",\"line_dash\":[4,4],\"line_width\":2,\"right_units\":\"screen\",\"syncable\":false,\"top_units\":\"screen\"},\"id\":\"9937\",\"type\":\"BoxAnnotation\"},{\"attributes\":{\"tools\":[{\"id\":\"9915\"},{\"id\":\"9932\"},{\"id\":\"9933\"},{\"id\":\"9934\"},{\"id\":\"9935\"},{\"id\":\"9936\"}]},\"id\":\"9938\",\"type\":\"Toolbar\"},{\"attributes\":{},\"id\":\"9923\",\"type\":\"LinearScale\"}],\"root_ids\":[\"9911\"]},\"title\":\"Bokeh Application\",\"version\":\"2.4.2\"}};\n",
       "    var render_items = [{\"docid\":\"23e888ea-f080-467b-b0a4-aa4041febf38\",\"root_ids\":[\"9911\"],\"roots\":{\"9911\":\"b4d957e9-1db9-4d49-9207-43895501d9f0\"}}];\n",
       "    root.Bokeh.embed.embed_items_notebook(docs_json, render_items);\n",
       "  }\n",
       "  if (root.Bokeh !== undefined && root.Bokeh.Panel !== undefined && ( root['Plotly'] !== undefined)) {\n",
       "    embed_document(root);\n",
       "  } else {\n",
       "    var attempts = 0;\n",
       "    var timer = setInterval(function(root) {\n",
       "      if (root.Bokeh !== undefined && root.Bokeh.Panel !== undefined && (root['Plotly'] !== undefined)) {\n",
       "        clearInterval(timer);\n",
       "        embed_document(root);\n",
       "      } else if (document.readyState == \"complete\") {\n",
       "        attempts++;\n",
       "        if (attempts > 200) {\n",
       "          clearInterval(timer);\n",
       "          console.log(\"Bokeh: ERROR: Unable to run BokehJS code because BokehJS library is missing\");\n",
       "        }\n",
       "      }\n",
       "    }, 25, root)\n",
       "  }\n",
       "})(window);</script>"
      ],
      "text/plain": [
       ":Bars   [neighbourhood]   (average_house_value)"
      ]
     },
     "execution_count": 242,
     "metadata": {
      "application/vnd.holoviews_exec.v0+json": {
       "id": "9911"
      }
     },
     "output_type": "execute_result"
    }
   ],
   "source": [
    "# Plotting the data from the top 10 expensive neighbourhoods\n",
    "house_value_nghr.head(10).to_csv('house_value_nghr.csv')\n",
    "house_value_nghr.head(10).hvplot.bar(title = 'Top 10 most expensive neighbourhoods to live in Toronto', ylabel = 'Average house Value', rot= 90)\n"
   ]
  },
  {
   "cell_type": "markdown",
   "metadata": {},
   "source": [
    "- - - "
   ]
  },
  {
   "cell_type": "markdown",
   "metadata": {},
   "source": [
    "## Neighbourhood Map\n",
    "\n",
    "In this section, you will read in neighbourhoods location data and build an interactive map with the average house value per neighbourhood. Use a `scatter_mapbox` from Plotly express to create the visualization. Remember, you will need your Mapbox API key for this."
   ]
  },
  {
   "cell_type": "markdown",
   "metadata": {},
   "source": [
    "### Load Location Data"
   ]
  },
  {
   "cell_type": "code",
   "execution_count": 243,
   "metadata": {},
   "outputs": [
    {
     "data": {
      "text/html": [
       "<div>\n",
       "<style scoped>\n",
       "    .dataframe tbody tr th:only-of-type {\n",
       "        vertical-align: middle;\n",
       "    }\n",
       "\n",
       "    .dataframe tbody tr th {\n",
       "        vertical-align: top;\n",
       "    }\n",
       "\n",
       "    .dataframe thead th {\n",
       "        text-align: right;\n",
       "    }\n",
       "</style>\n",
       "<table border=\"1\" class=\"dataframe\">\n",
       "  <thead>\n",
       "    <tr style=\"text-align: right;\">\n",
       "      <th></th>\n",
       "      <th>lat</th>\n",
       "      <th>lon</th>\n",
       "    </tr>\n",
       "    <tr>\n",
       "      <th>neighbourhood</th>\n",
       "      <th></th>\n",
       "      <th></th>\n",
       "    </tr>\n",
       "  </thead>\n",
       "  <tbody>\n",
       "    <tr>\n",
       "      <th>Agincourt North</th>\n",
       "      <td>43.805441</td>\n",
       "      <td>-79.266712</td>\n",
       "    </tr>\n",
       "    <tr>\n",
       "      <th>Agincourt South-Malvern West</th>\n",
       "      <td>43.788658</td>\n",
       "      <td>-79.265612</td>\n",
       "    </tr>\n",
       "    <tr>\n",
       "      <th>Alderwood</th>\n",
       "      <td>43.604937</td>\n",
       "      <td>-79.541611</td>\n",
       "    </tr>\n",
       "    <tr>\n",
       "      <th>Annex</th>\n",
       "      <td>43.671585</td>\n",
       "      <td>-79.404001</td>\n",
       "    </tr>\n",
       "    <tr>\n",
       "      <th>Banbury-Don Mills</th>\n",
       "      <td>43.737657</td>\n",
       "      <td>-79.349718</td>\n",
       "    </tr>\n",
       "  </tbody>\n",
       "</table>\n",
       "</div>"
      ],
      "text/plain": [
       "                                    lat        lon\n",
       "neighbourhood                                     \n",
       "Agincourt North               43.805441 -79.266712\n",
       "Agincourt South-Malvern West  43.788658 -79.265612\n",
       "Alderwood                     43.604937 -79.541611\n",
       "Annex                         43.671585 -79.404001\n",
       "Banbury-Don Mills             43.737657 -79.349718"
      ]
     },
     "execution_count": 243,
     "metadata": {},
     "output_type": "execute_result"
    }
   ],
   "source": [
    "# Load neighbourhoods coordinates data\n",
    "file_path = Path(\"Data/toronto_neighbourhoods_coordinates.csv\")\n",
    "df_neighbourhood_locations = pd.read_csv(file_path, index_col='neighbourhood')\n",
    "df_neighbourhood_locations.head()"
   ]
  },
  {
   "cell_type": "markdown",
   "metadata": {},
   "source": [
    "### Data Preparation\n",
    "\n",
    "You will need to join the location data with the mean values per neighbourhood.\n",
    "\n",
    "1. Calculate the mean values for each neighbourhood.\n",
    "\n",
    "2. Join the average values with the neighbourhood locations."
   ]
  },
  {
   "cell_type": "code",
   "execution_count": 244,
   "metadata": {},
   "outputs": [
    {
     "data": {
      "text/html": [
       "<div>\n",
       "<style scoped>\n",
       "    .dataframe tbody tr th:only-of-type {\n",
       "        vertical-align: middle;\n",
       "    }\n",
       "\n",
       "    .dataframe tbody tr th {\n",
       "        vertical-align: top;\n",
       "    }\n",
       "\n",
       "    .dataframe thead th {\n",
       "        text-align: right;\n",
       "    }\n",
       "</style>\n",
       "<table border=\"1\" class=\"dataframe\">\n",
       "  <thead>\n",
       "    <tr style=\"text-align: right;\">\n",
       "      <th></th>\n",
       "      <th>single_detached_house</th>\n",
       "      <th>apartment_five_storeys_plus</th>\n",
       "      <th>movable_dwelling</th>\n",
       "      <th>semi_detached_house</th>\n",
       "      <th>row_house</th>\n",
       "      <th>duplex</th>\n",
       "      <th>apartment_five_storeys_less</th>\n",
       "      <th>other_house</th>\n",
       "      <th>average_house_value</th>\n",
       "      <th>shelter_costs_owned</th>\n",
       "      <th>shelter_costs_rented</th>\n",
       "    </tr>\n",
       "    <tr>\n",
       "      <th>neighbourhood</th>\n",
       "      <th></th>\n",
       "      <th></th>\n",
       "      <th></th>\n",
       "      <th></th>\n",
       "      <th></th>\n",
       "      <th></th>\n",
       "      <th></th>\n",
       "      <th></th>\n",
       "      <th></th>\n",
       "      <th></th>\n",
       "      <th></th>\n",
       "    </tr>\n",
       "  </thead>\n",
       "  <tbody>\n",
       "    <tr>\n",
       "      <th>Agincourt North</th>\n",
       "      <td>3435.00</td>\n",
       "      <td>1947.50</td>\n",
       "      <td>2.50</td>\n",
       "      <td>863.75</td>\n",
       "      <td>1406.25</td>\n",
       "      <td>512.50</td>\n",
       "      <td>547.50</td>\n",
       "      <td>10.00</td>\n",
       "      <td>329811.50</td>\n",
       "      <td>1109.00</td>\n",
       "      <td>983.50</td>\n",
       "    </tr>\n",
       "    <tr>\n",
       "      <th>Agincourt South-Malvern West</th>\n",
       "      <td>2897.50</td>\n",
       "      <td>2180.00</td>\n",
       "      <td>1.25</td>\n",
       "      <td>375.00</td>\n",
       "      <td>456.25</td>\n",
       "      <td>523.75</td>\n",
       "      <td>628.75</td>\n",
       "      <td>32.50</td>\n",
       "      <td>334189.00</td>\n",
       "      <td>1131.25</td>\n",
       "      <td>985.00</td>\n",
       "    </tr>\n",
       "    <tr>\n",
       "      <th>Alderwood</th>\n",
       "      <td>2903.75</td>\n",
       "      <td>302.50</td>\n",
       "      <td>1.25</td>\n",
       "      <td>503.75</td>\n",
       "      <td>76.25</td>\n",
       "      <td>302.50</td>\n",
       "      <td>502.50</td>\n",
       "      <td>1.25</td>\n",
       "      <td>427922.50</td>\n",
       "      <td>1166.75</td>\n",
       "      <td>1003.25</td>\n",
       "    </tr>\n",
       "    <tr>\n",
       "      <th>Annex</th>\n",
       "      <td>751.25</td>\n",
       "      <td>7235.00</td>\n",
       "      <td>1.25</td>\n",
       "      <td>1375.00</td>\n",
       "      <td>613.75</td>\n",
       "      <td>355.00</td>\n",
       "      <td>4605.00</td>\n",
       "      <td>83.75</td>\n",
       "      <td>746977.00</td>\n",
       "      <td>1692.75</td>\n",
       "      <td>1315.25</td>\n",
       "    </tr>\n",
       "    <tr>\n",
       "      <th>Banbury-Don Mills</th>\n",
       "      <td>3572.50</td>\n",
       "      <td>5388.75</td>\n",
       "      <td>1.25</td>\n",
       "      <td>273.75</td>\n",
       "      <td>626.25</td>\n",
       "      <td>32.50</td>\n",
       "      <td>1340.00</td>\n",
       "      <td>0.00</td>\n",
       "      <td>612039.00</td>\n",
       "      <td>1463.50</td>\n",
       "      <td>1242.75</td>\n",
       "    </tr>\n",
       "    <tr>\n",
       "      <th>...</th>\n",
       "      <td>...</td>\n",
       "      <td>...</td>\n",
       "      <td>...</td>\n",
       "      <td>...</td>\n",
       "      <td>...</td>\n",
       "      <td>...</td>\n",
       "      <td>...</td>\n",
       "      <td>...</td>\n",
       "      <td>...</td>\n",
       "      <td>...</td>\n",
       "      <td>...</td>\n",
       "    </tr>\n",
       "    <tr>\n",
       "      <th>Wychwood</th>\n",
       "      <td>1056.25</td>\n",
       "      <td>1236.25</td>\n",
       "      <td>0.00</td>\n",
       "      <td>992.50</td>\n",
       "      <td>298.75</td>\n",
       "      <td>325.00</td>\n",
       "      <td>1878.75</td>\n",
       "      <td>17.50</td>\n",
       "      <td>565976.50</td>\n",
       "      <td>1390.75</td>\n",
       "      <td>1017.25</td>\n",
       "    </tr>\n",
       "    <tr>\n",
       "      <th>Yonge-Eglinton</th>\n",
       "      <td>1468.75</td>\n",
       "      <td>1638.75</td>\n",
       "      <td>0.00</td>\n",
       "      <td>470.00</td>\n",
       "      <td>33.75</td>\n",
       "      <td>328.75</td>\n",
       "      <td>1385.00</td>\n",
       "      <td>6.25</td>\n",
       "      <td>809745.75</td>\n",
       "      <td>1799.50</td>\n",
       "      <td>1347.75</td>\n",
       "    </tr>\n",
       "    <tr>\n",
       "      <th>Yonge-St.Clair</th>\n",
       "      <td>565.00</td>\n",
       "      <td>3948.75</td>\n",
       "      <td>0.00</td>\n",
       "      <td>425.00</td>\n",
       "      <td>212.50</td>\n",
       "      <td>172.50</td>\n",
       "      <td>1308.75</td>\n",
       "      <td>6.25</td>\n",
       "      <td>813220.25</td>\n",
       "      <td>1680.75</td>\n",
       "      <td>1369.00</td>\n",
       "    </tr>\n",
       "    <tr>\n",
       "      <th>York University Heights</th>\n",
       "      <td>1355.00</td>\n",
       "      <td>5165.00</td>\n",
       "      <td>1.25</td>\n",
       "      <td>1316.25</td>\n",
       "      <td>662.50</td>\n",
       "      <td>188.75</td>\n",
       "      <td>1085.00</td>\n",
       "      <td>33.75</td>\n",
       "      <td>305899.50</td>\n",
       "      <td>1116.75</td>\n",
       "      <td>937.50</td>\n",
       "    </tr>\n",
       "    <tr>\n",
       "      <th>Yorkdale-Glen Park</th>\n",
       "      <td>2286.25</td>\n",
       "      <td>1347.50</td>\n",
       "      <td>0.00</td>\n",
       "      <td>73.75</td>\n",
       "      <td>450.00</td>\n",
       "      <td>377.50</td>\n",
       "      <td>722.50</td>\n",
       "      <td>7.50</td>\n",
       "      <td>430861.25</td>\n",
       "      <td>1122.50</td>\n",
       "      <td>942.50</td>\n",
       "    </tr>\n",
       "  </tbody>\n",
       "</table>\n",
       "<p>140 rows × 11 columns</p>\n",
       "</div>"
      ],
      "text/plain": [
       "                              single_detached_house  \\\n",
       "neighbourhood                                         \n",
       "Agincourt North                             3435.00   \n",
       "Agincourt South-Malvern West                2897.50   \n",
       "Alderwood                                   2903.75   \n",
       "Annex                                        751.25   \n",
       "Banbury-Don Mills                           3572.50   \n",
       "...                                             ...   \n",
       "Wychwood                                    1056.25   \n",
       "Yonge-Eglinton                              1468.75   \n",
       "Yonge-St.Clair                               565.00   \n",
       "York University Heights                     1355.00   \n",
       "Yorkdale-Glen Park                          2286.25   \n",
       "\n",
       "                              apartment_five_storeys_plus  movable_dwelling  \\\n",
       "neighbourhood                                                                 \n",
       "Agincourt North                                   1947.50              2.50   \n",
       "Agincourt South-Malvern West                      2180.00              1.25   \n",
       "Alderwood                                          302.50              1.25   \n",
       "Annex                                             7235.00              1.25   \n",
       "Banbury-Don Mills                                 5388.75              1.25   \n",
       "...                                                   ...               ...   \n",
       "Wychwood                                          1236.25              0.00   \n",
       "Yonge-Eglinton                                    1638.75              0.00   \n",
       "Yonge-St.Clair                                    3948.75              0.00   \n",
       "York University Heights                           5165.00              1.25   \n",
       "Yorkdale-Glen Park                                1347.50              0.00   \n",
       "\n",
       "                              semi_detached_house  row_house  duplex  \\\n",
       "neighbourhood                                                          \n",
       "Agincourt North                            863.75    1406.25  512.50   \n",
       "Agincourt South-Malvern West               375.00     456.25  523.75   \n",
       "Alderwood                                  503.75      76.25  302.50   \n",
       "Annex                                     1375.00     613.75  355.00   \n",
       "Banbury-Don Mills                          273.75     626.25   32.50   \n",
       "...                                           ...        ...     ...   \n",
       "Wychwood                                   992.50     298.75  325.00   \n",
       "Yonge-Eglinton                             470.00      33.75  328.75   \n",
       "Yonge-St.Clair                             425.00     212.50  172.50   \n",
       "York University Heights                   1316.25     662.50  188.75   \n",
       "Yorkdale-Glen Park                          73.75     450.00  377.50   \n",
       "\n",
       "                              apartment_five_storeys_less  other_house  \\\n",
       "neighbourhood                                                            \n",
       "Agincourt North                                    547.50        10.00   \n",
       "Agincourt South-Malvern West                       628.75        32.50   \n",
       "Alderwood                                          502.50         1.25   \n",
       "Annex                                             4605.00        83.75   \n",
       "Banbury-Don Mills                                 1340.00         0.00   \n",
       "...                                                   ...          ...   \n",
       "Wychwood                                          1878.75        17.50   \n",
       "Yonge-Eglinton                                    1385.00         6.25   \n",
       "Yonge-St.Clair                                    1308.75         6.25   \n",
       "York University Heights                           1085.00        33.75   \n",
       "Yorkdale-Glen Park                                 722.50         7.50   \n",
       "\n",
       "                              average_house_value  shelter_costs_owned  \\\n",
       "neighbourhood                                                            \n",
       "Agincourt North                         329811.50              1109.00   \n",
       "Agincourt South-Malvern West            334189.00              1131.25   \n",
       "Alderwood                               427922.50              1166.75   \n",
       "Annex                                   746977.00              1692.75   \n",
       "Banbury-Don Mills                       612039.00              1463.50   \n",
       "...                                           ...                  ...   \n",
       "Wychwood                                565976.50              1390.75   \n",
       "Yonge-Eglinton                          809745.75              1799.50   \n",
       "Yonge-St.Clair                          813220.25              1680.75   \n",
       "York University Heights                 305899.50              1116.75   \n",
       "Yorkdale-Glen Park                      430861.25              1122.50   \n",
       "\n",
       "                              shelter_costs_rented  \n",
       "neighbourhood                                       \n",
       "Agincourt North                             983.50  \n",
       "Agincourt South-Malvern West                985.00  \n",
       "Alderwood                                  1003.25  \n",
       "Annex                                      1315.25  \n",
       "Banbury-Don Mills                          1242.75  \n",
       "...                                            ...  \n",
       "Wychwood                                   1017.25  \n",
       "Yonge-Eglinton                             1347.75  \n",
       "Yonge-St.Clair                             1369.00  \n",
       "York University Heights                     937.50  \n",
       "Yorkdale-Glen Park                          942.50  \n",
       "\n",
       "[140 rows x 11 columns]"
      ]
     },
     "execution_count": 244,
     "metadata": {},
     "output_type": "execute_result"
    }
   ],
   "source": [
    "# Calculate the mean values for each neighborhood\n",
    "mean_per_ngbr = pd.DataFrame(df.groupby('neighbourhood').mean())\n",
    "mean_per_ngbr"
   ]
  },
  {
   "cell_type": "code",
   "execution_count": 245,
   "metadata": {},
   "outputs": [
    {
     "data": {
      "text/html": [
       "<div>\n",
       "<style scoped>\n",
       "    .dataframe tbody tr th:only-of-type {\n",
       "        vertical-align: middle;\n",
       "    }\n",
       "\n",
       "    .dataframe tbody tr th {\n",
       "        vertical-align: top;\n",
       "    }\n",
       "\n",
       "    .dataframe thead th {\n",
       "        text-align: right;\n",
       "    }\n",
       "</style>\n",
       "<table border=\"1\" class=\"dataframe\">\n",
       "  <thead>\n",
       "    <tr style=\"text-align: right;\">\n",
       "      <th></th>\n",
       "      <th>lat</th>\n",
       "      <th>lon</th>\n",
       "      <th>single_detached_house</th>\n",
       "      <th>apartment_five_storeys_plus</th>\n",
       "      <th>movable_dwelling</th>\n",
       "      <th>semi_detached_house</th>\n",
       "      <th>row_house</th>\n",
       "      <th>duplex</th>\n",
       "      <th>apartment_five_storeys_less</th>\n",
       "      <th>other_house</th>\n",
       "      <th>average_house_value</th>\n",
       "      <th>shelter_costs_owned</th>\n",
       "      <th>shelter_costs_rented</th>\n",
       "    </tr>\n",
       "    <tr>\n",
       "      <th>neighbourhood</th>\n",
       "      <th></th>\n",
       "      <th></th>\n",
       "      <th></th>\n",
       "      <th></th>\n",
       "      <th></th>\n",
       "      <th></th>\n",
       "      <th></th>\n",
       "      <th></th>\n",
       "      <th></th>\n",
       "      <th></th>\n",
       "      <th></th>\n",
       "      <th></th>\n",
       "      <th></th>\n",
       "    </tr>\n",
       "  </thead>\n",
       "  <tbody>\n",
       "    <tr>\n",
       "      <th>Agincourt North</th>\n",
       "      <td>43.805441</td>\n",
       "      <td>-79.266712</td>\n",
       "      <td>3435.00</td>\n",
       "      <td>1947.50</td>\n",
       "      <td>2.50</td>\n",
       "      <td>863.75</td>\n",
       "      <td>1406.25</td>\n",
       "      <td>512.50</td>\n",
       "      <td>547.50</td>\n",
       "      <td>10.00</td>\n",
       "      <td>329811.50</td>\n",
       "      <td>1109.00</td>\n",
       "      <td>983.50</td>\n",
       "    </tr>\n",
       "    <tr>\n",
       "      <th>Agincourt South-Malvern West</th>\n",
       "      <td>43.788658</td>\n",
       "      <td>-79.265612</td>\n",
       "      <td>2897.50</td>\n",
       "      <td>2180.00</td>\n",
       "      <td>1.25</td>\n",
       "      <td>375.00</td>\n",
       "      <td>456.25</td>\n",
       "      <td>523.75</td>\n",
       "      <td>628.75</td>\n",
       "      <td>32.50</td>\n",
       "      <td>334189.00</td>\n",
       "      <td>1131.25</td>\n",
       "      <td>985.00</td>\n",
       "    </tr>\n",
       "    <tr>\n",
       "      <th>Alderwood</th>\n",
       "      <td>43.604937</td>\n",
       "      <td>-79.541611</td>\n",
       "      <td>2903.75</td>\n",
       "      <td>302.50</td>\n",
       "      <td>1.25</td>\n",
       "      <td>503.75</td>\n",
       "      <td>76.25</td>\n",
       "      <td>302.50</td>\n",
       "      <td>502.50</td>\n",
       "      <td>1.25</td>\n",
       "      <td>427922.50</td>\n",
       "      <td>1166.75</td>\n",
       "      <td>1003.25</td>\n",
       "    </tr>\n",
       "    <tr>\n",
       "      <th>Annex</th>\n",
       "      <td>43.671585</td>\n",
       "      <td>-79.404001</td>\n",
       "      <td>751.25</td>\n",
       "      <td>7235.00</td>\n",
       "      <td>1.25</td>\n",
       "      <td>1375.00</td>\n",
       "      <td>613.75</td>\n",
       "      <td>355.00</td>\n",
       "      <td>4605.00</td>\n",
       "      <td>83.75</td>\n",
       "      <td>746977.00</td>\n",
       "      <td>1692.75</td>\n",
       "      <td>1315.25</td>\n",
       "    </tr>\n",
       "    <tr>\n",
       "      <th>Banbury-Don Mills</th>\n",
       "      <td>43.737657</td>\n",
       "      <td>-79.349718</td>\n",
       "      <td>3572.50</td>\n",
       "      <td>5388.75</td>\n",
       "      <td>1.25</td>\n",
       "      <td>273.75</td>\n",
       "      <td>626.25</td>\n",
       "      <td>32.50</td>\n",
       "      <td>1340.00</td>\n",
       "      <td>0.00</td>\n",
       "      <td>612039.00</td>\n",
       "      <td>1463.50</td>\n",
       "      <td>1242.75</td>\n",
       "    </tr>\n",
       "    <tr>\n",
       "      <th>...</th>\n",
       "      <td>...</td>\n",
       "      <td>...</td>\n",
       "      <td>...</td>\n",
       "      <td>...</td>\n",
       "      <td>...</td>\n",
       "      <td>...</td>\n",
       "      <td>...</td>\n",
       "      <td>...</td>\n",
       "      <td>...</td>\n",
       "      <td>...</td>\n",
       "      <td>...</td>\n",
       "      <td>...</td>\n",
       "      <td>...</td>\n",
       "    </tr>\n",
       "    <tr>\n",
       "      <th>Wychwood</th>\n",
       "      <td>43.676919</td>\n",
       "      <td>-79.425515</td>\n",
       "      <td>1056.25</td>\n",
       "      <td>1236.25</td>\n",
       "      <td>0.00</td>\n",
       "      <td>992.50</td>\n",
       "      <td>298.75</td>\n",
       "      <td>325.00</td>\n",
       "      <td>1878.75</td>\n",
       "      <td>17.50</td>\n",
       "      <td>565976.50</td>\n",
       "      <td>1390.75</td>\n",
       "      <td>1017.25</td>\n",
       "    </tr>\n",
       "    <tr>\n",
       "      <th>Yonge-Eglinton</th>\n",
       "      <td>43.704689</td>\n",
       "      <td>-79.403590</td>\n",
       "      <td>1468.75</td>\n",
       "      <td>1638.75</td>\n",
       "      <td>0.00</td>\n",
       "      <td>470.00</td>\n",
       "      <td>33.75</td>\n",
       "      <td>328.75</td>\n",
       "      <td>1385.00</td>\n",
       "      <td>6.25</td>\n",
       "      <td>809745.75</td>\n",
       "      <td>1799.50</td>\n",
       "      <td>1347.75</td>\n",
       "    </tr>\n",
       "    <tr>\n",
       "      <th>Yonge-St.Clair</th>\n",
       "      <td>43.687859</td>\n",
       "      <td>-79.397871</td>\n",
       "      <td>565.00</td>\n",
       "      <td>3948.75</td>\n",
       "      <td>0.00</td>\n",
       "      <td>425.00</td>\n",
       "      <td>212.50</td>\n",
       "      <td>172.50</td>\n",
       "      <td>1308.75</td>\n",
       "      <td>6.25</td>\n",
       "      <td>813220.25</td>\n",
       "      <td>1680.75</td>\n",
       "      <td>1369.00</td>\n",
       "    </tr>\n",
       "    <tr>\n",
       "      <th>York University Heights</th>\n",
       "      <td>43.765736</td>\n",
       "      <td>-79.488883</td>\n",
       "      <td>1355.00</td>\n",
       "      <td>5165.00</td>\n",
       "      <td>1.25</td>\n",
       "      <td>1316.25</td>\n",
       "      <td>662.50</td>\n",
       "      <td>188.75</td>\n",
       "      <td>1085.00</td>\n",
       "      <td>33.75</td>\n",
       "      <td>305899.50</td>\n",
       "      <td>1116.75</td>\n",
       "      <td>937.50</td>\n",
       "    </tr>\n",
       "    <tr>\n",
       "      <th>Yorkdale-Glen Park</th>\n",
       "      <td>43.714672</td>\n",
       "      <td>-79.457108</td>\n",
       "      <td>2286.25</td>\n",
       "      <td>1347.50</td>\n",
       "      <td>0.00</td>\n",
       "      <td>73.75</td>\n",
       "      <td>450.00</td>\n",
       "      <td>377.50</td>\n",
       "      <td>722.50</td>\n",
       "      <td>7.50</td>\n",
       "      <td>430861.25</td>\n",
       "      <td>1122.50</td>\n",
       "      <td>942.50</td>\n",
       "    </tr>\n",
       "  </tbody>\n",
       "</table>\n",
       "<p>140 rows × 13 columns</p>\n",
       "</div>"
      ],
      "text/plain": [
       "                                    lat        lon  single_detached_house  \\\n",
       "neighbourhood                                                               \n",
       "Agincourt North               43.805441 -79.266712                3435.00   \n",
       "Agincourt South-Malvern West  43.788658 -79.265612                2897.50   \n",
       "Alderwood                     43.604937 -79.541611                2903.75   \n",
       "Annex                         43.671585 -79.404001                 751.25   \n",
       "Banbury-Don Mills             43.737657 -79.349718                3572.50   \n",
       "...                                 ...        ...                    ...   \n",
       "Wychwood                      43.676919 -79.425515                1056.25   \n",
       "Yonge-Eglinton                43.704689 -79.403590                1468.75   \n",
       "Yonge-St.Clair                43.687859 -79.397871                 565.00   \n",
       "York University Heights       43.765736 -79.488883                1355.00   \n",
       "Yorkdale-Glen Park            43.714672 -79.457108                2286.25   \n",
       "\n",
       "                              apartment_five_storeys_plus  movable_dwelling  \\\n",
       "neighbourhood                                                                 \n",
       "Agincourt North                                   1947.50              2.50   \n",
       "Agincourt South-Malvern West                      2180.00              1.25   \n",
       "Alderwood                                          302.50              1.25   \n",
       "Annex                                             7235.00              1.25   \n",
       "Banbury-Don Mills                                 5388.75              1.25   \n",
       "...                                                   ...               ...   \n",
       "Wychwood                                          1236.25              0.00   \n",
       "Yonge-Eglinton                                    1638.75              0.00   \n",
       "Yonge-St.Clair                                    3948.75              0.00   \n",
       "York University Heights                           5165.00              1.25   \n",
       "Yorkdale-Glen Park                                1347.50              0.00   \n",
       "\n",
       "                              semi_detached_house  row_house  duplex  \\\n",
       "neighbourhood                                                          \n",
       "Agincourt North                            863.75    1406.25  512.50   \n",
       "Agincourt South-Malvern West               375.00     456.25  523.75   \n",
       "Alderwood                                  503.75      76.25  302.50   \n",
       "Annex                                     1375.00     613.75  355.00   \n",
       "Banbury-Don Mills                          273.75     626.25   32.50   \n",
       "...                                           ...        ...     ...   \n",
       "Wychwood                                   992.50     298.75  325.00   \n",
       "Yonge-Eglinton                             470.00      33.75  328.75   \n",
       "Yonge-St.Clair                             425.00     212.50  172.50   \n",
       "York University Heights                   1316.25     662.50  188.75   \n",
       "Yorkdale-Glen Park                          73.75     450.00  377.50   \n",
       "\n",
       "                              apartment_five_storeys_less  other_house  \\\n",
       "neighbourhood                                                            \n",
       "Agincourt North                                    547.50        10.00   \n",
       "Agincourt South-Malvern West                       628.75        32.50   \n",
       "Alderwood                                          502.50         1.25   \n",
       "Annex                                             4605.00        83.75   \n",
       "Banbury-Don Mills                                 1340.00         0.00   \n",
       "...                                                   ...          ...   \n",
       "Wychwood                                          1878.75        17.50   \n",
       "Yonge-Eglinton                                    1385.00         6.25   \n",
       "Yonge-St.Clair                                    1308.75         6.25   \n",
       "York University Heights                           1085.00        33.75   \n",
       "Yorkdale-Glen Park                                 722.50         7.50   \n",
       "\n",
       "                              average_house_value  shelter_costs_owned  \\\n",
       "neighbourhood                                                            \n",
       "Agincourt North                         329811.50              1109.00   \n",
       "Agincourt South-Malvern West            334189.00              1131.25   \n",
       "Alderwood                               427922.50              1166.75   \n",
       "Annex                                   746977.00              1692.75   \n",
       "Banbury-Don Mills                       612039.00              1463.50   \n",
       "...                                           ...                  ...   \n",
       "Wychwood                                565976.50              1390.75   \n",
       "Yonge-Eglinton                          809745.75              1799.50   \n",
       "Yonge-St.Clair                          813220.25              1680.75   \n",
       "York University Heights                 305899.50              1116.75   \n",
       "Yorkdale-Glen Park                      430861.25              1122.50   \n",
       "\n",
       "                              shelter_costs_rented  \n",
       "neighbourhood                                       \n",
       "Agincourt North                             983.50  \n",
       "Agincourt South-Malvern West                985.00  \n",
       "Alderwood                                  1003.25  \n",
       "Annex                                      1315.25  \n",
       "Banbury-Don Mills                          1242.75  \n",
       "...                                            ...  \n",
       "Wychwood                                   1017.25  \n",
       "Yonge-Eglinton                             1347.75  \n",
       "Yonge-St.Clair                             1369.00  \n",
       "York University Heights                     937.50  \n",
       "Yorkdale-Glen Park                          942.50  \n",
       "\n",
       "[140 rows x 13 columns]"
      ]
     },
     "execution_count": 245,
     "metadata": {},
     "output_type": "execute_result"
    }
   ],
   "source": [
    "# Join the average values with the neighbourhood locations\n",
    "neighbourhood_df = pd.concat([df_neighbourhood_locations, mean_per_ngbr],axis = 1)\n",
    "neighbourhood_df"
   ]
  },
  {
   "cell_type": "markdown",
   "metadata": {},
   "source": [
    "### Mapbox Visualization\n",
    "\n",
    "Plot the average values per neighbourhood using a Plotly express `scatter_mapbox` visualization."
   ]
  },
  {
   "cell_type": "code",
   "execution_count": 246,
   "metadata": {},
   "outputs": [
    {
     "data": {
      "application/vnd.plotly.v1+json": {
       "config": {
        "plotlyServerURL": "https://plot.ly"
       },
       "data": [
        {
         "hovertemplate": "average_house_value=%{marker.color}<br>lat=%{lat}<br>lon=%{lon}<extra></extra>",
         "lat": [
          43.80544058,
          43.78865755,
          43.6049369,
          43.67158544,
          43.737657,
          43.76481331,
          43.65751135,
          43.77636052,
          43.79680187,
          43.73148623,
          43.69321649,
          43.76036631,
          43.69468198,
          43.76489025,
          43.67617288,
          43.69902438,
          43.73101314,
          43.68882512,
          43.70132631,
          43.66764773,
          43.68856865,
          43.6818521,
          43.7823765,
          43.65964886,
          43.71359238,
          43.74197843,
          43.72112117,
          43.67766091,
          43.68402547,
          43.68946809,
          43.78329369,
          43.75927437,
          43.66567693,
          43.73329235,
          43.65542833,
          43.68417388,
          43.67088591,
          43.7409223,
          43.72151887,
          43.72034467,
          43.65801676,
          43.64506262,
          43.71592975,
          43.70421756,
          43.69452576,
          43.74563575,
          43.67261231,
          43.74882934,
          43.77114414,
          43.65756491,
          43.64506458,
          43.79077477,
          43.80298783,
          43.6922328,
          43.75891975,
          43.74342952,
          43.69136981,
          43.73536441,
          43.63346335,
          43.66788977,
          43.68572747,
          43.72555572,
          43.65355413,
          43.69899257,
          43.65352043,
          43.79571603,
          43.65742013,
          43.75427115,
          43.73006017,
          43.7172117,
          43.70379663,
          43.64753593,
          43.59236169,
          43.8036582,
          43.71557394,
          43.63354175,
          43.82069079,
          43.61592386,
          43.78239861,
          43.65651762,
          43.68814409,
          43.7468678,
          43.70485217,
          43.70443517,
          43.6005886,
          43.79153579,
          43.78582994,
          43.63668088,
          43.67199515,
          43.66962341,
          43.70680049,
          43.69740813,
          43.68856556,
          43.69678127,
          43.6591571,
          43.75503347,
          43.7175146,
          43.67970047,
          43.78698176,
          43.6660506,
          43.65999214,
          43.72372548,
          43.67479045,
          43.64612299,
          43.68282043,
          43.82120126,
          43.65926882,
          43.71160912,
          43.73865186,
          43.63669952,
          43.64929206,
          43.75624583,
          43.81295883,
          43.63551813,
          43.78012985,
          43.69499819,
          43.67104999,
          43.73798792,
          43.70774921,
          43.6501763,
          43.6625062,
          43.72848902,
          43.63388036,
          43.76749026,
          43.7161804,
          43.77881322,
          43.70271605,
          43.67396204,
          43.74857214,
          43.77060226,
          43.77121049,
          43.68364496,
          43.76674024,
          43.67677292,
          43.69410674,
          43.67691927,
          43.70468937,
          43.68785887,
          43.76573649,
          43.71467153
         ],
         "legendgroup": "",
         "lon": [
          -79.26671217,
          -79.2656118,
          -79.54161093,
          -79.40400062,
          -79.34971798,
          -79.45605516,
          -79.38572125,
          -79.37711686,
          -79.38211795,
          -79.42022735,
          -79.47947251,
          -79.25740037,
          -79.26509259,
          -79.52197932,
          -79.33739417,
          -79.4528513,
          -79.37890418,
          -79.35562951,
          -79.48558926,
          -79.36610666,
          -79.45521208,
          -79.40800665,
          -79.15084327,
          -79.37901717,
          -79.28138178,
          -79.44630258,
          -79.23552957,
          -79.44746933,
          -79.32981941,
          -79.33140338,
          -79.35364413,
          -79.27890794,
          -79.4385407,
          -79.49049735,
          -79.43734104,
          -79.29935867,
          -79.52245776,
          -79.24559804,
          -79.54898272,
          -79.43740855,
          -79.58044524,
          -79.56893877,
          -79.33264597,
          -79.42814316,
          -79.41431786,
          -79.51346532,
          -79.32431802,
          -79.19505535,
          -79.34124067,
          -79.46630217,
          -79.46787222,
          -79.17747247,
          -79.354804,
          -79.5224162,
          -79.55617474,
          -79.54236712,
          -79.42768335,
          -79.27247049,
          -79.54331654,
          -79.47143987,
          -79.47143711,
          -79.26038221,
          -79.39723988,
          -79.54786331,
          -79.5105768,
          -79.31408424,
          -79.49604526,
          -79.42474772,
          -79.40397836,
          -79.40603941,
          -79.36607234,
          -79.43032271,
          -79.53334545,
          -79.22251662,
          -79.48075802,
          -79.57343155,
          -79.27500892,
          -79.50013664,
          -79.20704119,
          -79.36729703,
          -79.49998906,
          -79.58725926,
          -79.38492395,
          -79.39335955,
          -79.51035809,
          -79.40593745,
          -79.43142151,
          -79.4124204,
          -79.35126041,
          -79.37524658,
          -79.31222777,
          -79.27970834,
          -79.43978548,
          -79.33548836,
          -79.41840873,
          -79.33017952,
          -79.5282822,
          -79.35488729,
          -79.33494843,
          -79.54455929,
          -79.36050881,
          -79.56622841,
          -79.49442045,
          -79.44299245,
          -79.3796694,
          -79.18634345,
          -79.48570818,
          -79.49809147,
          -79.21681262,
          -79.43933783,
          -79.33565132,
          -79.37903709,
          -79.32120701,
          -79.50112821,
          -79.30291871,
          -79.29590112,
          -79.2996013,
          -79.56349102,
          -79.34998361,
          -79.41534216,
          -79.40117975,
          -79.31487383,
          -79.37720231,
          -79.17667603,
          -79.59635645,
          -79.45241823,
          -79.51572255,
          -79.46024391,
          -79.29863657,
          -79.40148379,
          -79.4275578,
          -79.55422105,
          -79.22858577,
          -79.31540738,
          -79.31116353,
          -79.42551495,
          -79.40359017,
          -79.39787077,
          -79.48888293,
          -79.45710807
         ],
         "marker": {
          "color": [
           329811.5,
           334189,
           427922.5,
           746977,
           612039,
           501576.75,
           423653.5,
           539258.75,
           565413.5,
           930415.25,
           370927.75,
           301123.25,
           437315,
           260841.75,
           511437,
           365524.5,
           1526485.75,
           443373.25,
           350943,
           494110.5,
           361714.25,
           981064.25,
           409862.75,
           406117.5,
           354555.25,
           551561.25,
           417422,
           419930.5,
           466943,
           421679.25,
           398010.25,
           262000.25,
           434699.5,
           381415.5,
           457588.75,
           478054.25,
           796162.5,
           268966.5,
           268341.25,
           568936.75,
           397781.75,
           309412,
           207799,
           851680.5,
           1195992.5,
           327597.75,
           387055.5,
           369373.5,
           369958,
           532497,
           582977.75,
           428838.5,
           395023,
           449150.5,
           352082.5,
           319783.75,
           697085.5,
           287685.75,
           451685.25,
           433269.25,
           322774.75,
           287233.5,
           440485.75,
           338344.75,
           843234.25,
           650307.75,
           336617.75,
           613216.5,
           759392.5,
           1094027.75,
           806471.75,
           540192.5,
           385830.25,
           256880.25,
           453229,
           443974.75,
           344988.25,
           393490.5,
           285013.5,
           409456,
           262308.75,
           253182.25,
           677370.25,
           468181.75,
           407812,
           559573.25,
           460568.5,
           369993,
           703063.25,
           411455.75,
           298315.75,
           422257.5,
           441202.75,
           443413.5,
           622191.75,
           454652.5,
           405431.25,
           648859.25,
           373375.25,
           765746.5,
           392578.25,
           360999.25,
           345660.25,
           508937.25,
           1093640,
           376286.75,
           552082,
           431090.5,
           329835.75,
           447478.5,
           455020.5,
           999107,
           376014.5,
           550432.25,
           353926.5,
           239414,
           666306,
           375864,
           255264.75,
           534465.75,
           618316.75,
           352133,
           376863,
           284647.5,
           343254.25,
           349320.25,
           308007.75,
           351802,
           348319.25,
           469045.5,
           466134.75,
           464278,
           298505.75,
           445382.75,
           369918.5,
           565976.5,
           809745.75,
           813220.25,
           305899.5,
           430861.25
          ],
          "coloraxis": "coloraxis",
          "size": [
           329811.5,
           334189,
           427922.5,
           746977,
           612039,
           501576.75,
           423653.5,
           539258.75,
           565413.5,
           930415.25,
           370927.75,
           301123.25,
           437315,
           260841.75,
           511437,
           365524.5,
           1526485.75,
           443373.25,
           350943,
           494110.5,
           361714.25,
           981064.25,
           409862.75,
           406117.5,
           354555.25,
           551561.25,
           417422,
           419930.5,
           466943,
           421679.25,
           398010.25,
           262000.25,
           434699.5,
           381415.5,
           457588.75,
           478054.25,
           796162.5,
           268966.5,
           268341.25,
           568936.75,
           397781.75,
           309412,
           207799,
           851680.5,
           1195992.5,
           327597.75,
           387055.5,
           369373.5,
           369958,
           532497,
           582977.75,
           428838.5,
           395023,
           449150.5,
           352082.5,
           319783.75,
           697085.5,
           287685.75,
           451685.25,
           433269.25,
           322774.75,
           287233.5,
           440485.75,
           338344.75,
           843234.25,
           650307.75,
           336617.75,
           613216.5,
           759392.5,
           1094027.75,
           806471.75,
           540192.5,
           385830.25,
           256880.25,
           453229,
           443974.75,
           344988.25,
           393490.5,
           285013.5,
           409456,
           262308.75,
           253182.25,
           677370.25,
           468181.75,
           407812,
           559573.25,
           460568.5,
           369993,
           703063.25,
           411455.75,
           298315.75,
           422257.5,
           441202.75,
           443413.5,
           622191.75,
           454652.5,
           405431.25,
           648859.25,
           373375.25,
           765746.5,
           392578.25,
           360999.25,
           345660.25,
           508937.25,
           1093640,
           376286.75,
           552082,
           431090.5,
           329835.75,
           447478.5,
           455020.5,
           999107,
           376014.5,
           550432.25,
           353926.5,
           239414,
           666306,
           375864,
           255264.75,
           534465.75,
           618316.75,
           352133,
           376863,
           284647.5,
           343254.25,
           349320.25,
           308007.75,
           351802,
           348319.25,
           469045.5,
           466134.75,
           464278,
           298505.75,
           445382.75,
           369918.5,
           565976.5,
           809745.75,
           813220.25,
           305899.5,
           430861.25
          ],
          "sizemode": "area",
          "sizeref": 3816.214375
         },
         "mode": "markers",
         "name": "",
         "showlegend": false,
         "subplot": "mapbox",
         "type": "scattermapbox"
        }
       ],
       "layout": {
        "autosize": true,
        "coloraxis": {
         "colorbar": {
          "title": {
           "text": "average_house_value"
          }
         },
         "colorscale": [
          [
           0,
           "#0d0887"
          ],
          [
           0.1111111111111111,
           "#46039f"
          ],
          [
           0.2222222222222222,
           "#7201a8"
          ],
          [
           0.3333333333333333,
           "#9c179e"
          ],
          [
           0.4444444444444444,
           "#bd3786"
          ],
          [
           0.5555555555555556,
           "#d8576b"
          ],
          [
           0.6666666666666666,
           "#ed7953"
          ],
          [
           0.7777777777777778,
           "#fb9f3a"
          ],
          [
           0.8888888888888888,
           "#fdca26"
          ],
          [
           1,
           "#f0f921"
          ]
         ]
        },
        "legend": {
         "itemsizing": "constant",
         "tracegroupgap": 0
        },
        "mapbox": {
         "accesstoken": "pk.eyJ1IjoiYW1hbnloIiwiYSI6ImNsMTd6YWZ0azFpMGgzY3AzYW8ycWR5bHgifQ.r7-MyX-NLjB2fsLhzfgCrQ",
         "center": {
          "lat": 43.708840577642846,
          "lon": -79.4001855035
         },
         "domain": {
          "x": [
           0,
           1
          ],
          "y": [
           0,
           1
          ]
         },
         "zoom": 9
        },
        "margin": {
         "t": 60
        },
        "template": {
         "data": {
          "bar": [
           {
            "error_x": {
             "color": "#2a3f5f"
            },
            "error_y": {
             "color": "#2a3f5f"
            },
            "marker": {
             "line": {
              "color": "#E5ECF6",
              "width": 0.5
             },
             "pattern": {
              "fillmode": "overlay",
              "size": 10,
              "solidity": 0.2
             }
            },
            "type": "bar"
           }
          ],
          "barpolar": [
           {
            "marker": {
             "line": {
              "color": "#E5ECF6",
              "width": 0.5
             },
             "pattern": {
              "fillmode": "overlay",
              "size": 10,
              "solidity": 0.2
             }
            },
            "type": "barpolar"
           }
          ],
          "carpet": [
           {
            "aaxis": {
             "endlinecolor": "#2a3f5f",
             "gridcolor": "white",
             "linecolor": "white",
             "minorgridcolor": "white",
             "startlinecolor": "#2a3f5f"
            },
            "baxis": {
             "endlinecolor": "#2a3f5f",
             "gridcolor": "white",
             "linecolor": "white",
             "minorgridcolor": "white",
             "startlinecolor": "#2a3f5f"
            },
            "type": "carpet"
           }
          ],
          "choropleth": [
           {
            "colorbar": {
             "outlinewidth": 0,
             "ticks": ""
            },
            "type": "choropleth"
           }
          ],
          "contour": [
           {
            "colorbar": {
             "outlinewidth": 0,
             "ticks": ""
            },
            "colorscale": [
             [
              0,
              "#0d0887"
             ],
             [
              0.1111111111111111,
              "#46039f"
             ],
             [
              0.2222222222222222,
              "#7201a8"
             ],
             [
              0.3333333333333333,
              "#9c179e"
             ],
             [
              0.4444444444444444,
              "#bd3786"
             ],
             [
              0.5555555555555556,
              "#d8576b"
             ],
             [
              0.6666666666666666,
              "#ed7953"
             ],
             [
              0.7777777777777778,
              "#fb9f3a"
             ],
             [
              0.8888888888888888,
              "#fdca26"
             ],
             [
              1,
              "#f0f921"
             ]
            ],
            "type": "contour"
           }
          ],
          "contourcarpet": [
           {
            "colorbar": {
             "outlinewidth": 0,
             "ticks": ""
            },
            "type": "contourcarpet"
           }
          ],
          "heatmap": [
           {
            "colorbar": {
             "outlinewidth": 0,
             "ticks": ""
            },
            "colorscale": [
             [
              0,
              "#0d0887"
             ],
             [
              0.1111111111111111,
              "#46039f"
             ],
             [
              0.2222222222222222,
              "#7201a8"
             ],
             [
              0.3333333333333333,
              "#9c179e"
             ],
             [
              0.4444444444444444,
              "#bd3786"
             ],
             [
              0.5555555555555556,
              "#d8576b"
             ],
             [
              0.6666666666666666,
              "#ed7953"
             ],
             [
              0.7777777777777778,
              "#fb9f3a"
             ],
             [
              0.8888888888888888,
              "#fdca26"
             ],
             [
              1,
              "#f0f921"
             ]
            ],
            "type": "heatmap"
           }
          ],
          "heatmapgl": [
           {
            "colorbar": {
             "outlinewidth": 0,
             "ticks": ""
            },
            "colorscale": [
             [
              0,
              "#0d0887"
             ],
             [
              0.1111111111111111,
              "#46039f"
             ],
             [
              0.2222222222222222,
              "#7201a8"
             ],
             [
              0.3333333333333333,
              "#9c179e"
             ],
             [
              0.4444444444444444,
              "#bd3786"
             ],
             [
              0.5555555555555556,
              "#d8576b"
             ],
             [
              0.6666666666666666,
              "#ed7953"
             ],
             [
              0.7777777777777778,
              "#fb9f3a"
             ],
             [
              0.8888888888888888,
              "#fdca26"
             ],
             [
              1,
              "#f0f921"
             ]
            ],
            "type": "heatmapgl"
           }
          ],
          "histogram": [
           {
            "marker": {
             "pattern": {
              "fillmode": "overlay",
              "size": 10,
              "solidity": 0.2
             }
            },
            "type": "histogram"
           }
          ],
          "histogram2d": [
           {
            "colorbar": {
             "outlinewidth": 0,
             "ticks": ""
            },
            "colorscale": [
             [
              0,
              "#0d0887"
             ],
             [
              0.1111111111111111,
              "#46039f"
             ],
             [
              0.2222222222222222,
              "#7201a8"
             ],
             [
              0.3333333333333333,
              "#9c179e"
             ],
             [
              0.4444444444444444,
              "#bd3786"
             ],
             [
              0.5555555555555556,
              "#d8576b"
             ],
             [
              0.6666666666666666,
              "#ed7953"
             ],
             [
              0.7777777777777778,
              "#fb9f3a"
             ],
             [
              0.8888888888888888,
              "#fdca26"
             ],
             [
              1,
              "#f0f921"
             ]
            ],
            "type": "histogram2d"
           }
          ],
          "histogram2dcontour": [
           {
            "colorbar": {
             "outlinewidth": 0,
             "ticks": ""
            },
            "colorscale": [
             [
              0,
              "#0d0887"
             ],
             [
              0.1111111111111111,
              "#46039f"
             ],
             [
              0.2222222222222222,
              "#7201a8"
             ],
             [
              0.3333333333333333,
              "#9c179e"
             ],
             [
              0.4444444444444444,
              "#bd3786"
             ],
             [
              0.5555555555555556,
              "#d8576b"
             ],
             [
              0.6666666666666666,
              "#ed7953"
             ],
             [
              0.7777777777777778,
              "#fb9f3a"
             ],
             [
              0.8888888888888888,
              "#fdca26"
             ],
             [
              1,
              "#f0f921"
             ]
            ],
            "type": "histogram2dcontour"
           }
          ],
          "mesh3d": [
           {
            "colorbar": {
             "outlinewidth": 0,
             "ticks": ""
            },
            "type": "mesh3d"
           }
          ],
          "parcoords": [
           {
            "line": {
             "colorbar": {
              "outlinewidth": 0,
              "ticks": ""
             }
            },
            "type": "parcoords"
           }
          ],
          "pie": [
           {
            "automargin": true,
            "type": "pie"
           }
          ],
          "scatter": [
           {
            "marker": {
             "colorbar": {
              "outlinewidth": 0,
              "ticks": ""
             }
            },
            "type": "scatter"
           }
          ],
          "scatter3d": [
           {
            "line": {
             "colorbar": {
              "outlinewidth": 0,
              "ticks": ""
             }
            },
            "marker": {
             "colorbar": {
              "outlinewidth": 0,
              "ticks": ""
             }
            },
            "type": "scatter3d"
           }
          ],
          "scattercarpet": [
           {
            "marker": {
             "colorbar": {
              "outlinewidth": 0,
              "ticks": ""
             }
            },
            "type": "scattercarpet"
           }
          ],
          "scattergeo": [
           {
            "marker": {
             "colorbar": {
              "outlinewidth": 0,
              "ticks": ""
             }
            },
            "type": "scattergeo"
           }
          ],
          "scattergl": [
           {
            "marker": {
             "colorbar": {
              "outlinewidth": 0,
              "ticks": ""
             }
            },
            "type": "scattergl"
           }
          ],
          "scattermapbox": [
           {
            "marker": {
             "colorbar": {
              "outlinewidth": 0,
              "ticks": ""
             }
            },
            "type": "scattermapbox"
           }
          ],
          "scatterpolar": [
           {
            "marker": {
             "colorbar": {
              "outlinewidth": 0,
              "ticks": ""
             }
            },
            "type": "scatterpolar"
           }
          ],
          "scatterpolargl": [
           {
            "marker": {
             "colorbar": {
              "outlinewidth": 0,
              "ticks": ""
             }
            },
            "type": "scatterpolargl"
           }
          ],
          "scatterternary": [
           {
            "marker": {
             "colorbar": {
              "outlinewidth": 0,
              "ticks": ""
             }
            },
            "type": "scatterternary"
           }
          ],
          "surface": [
           {
            "colorbar": {
             "outlinewidth": 0,
             "ticks": ""
            },
            "colorscale": [
             [
              0,
              "#0d0887"
             ],
             [
              0.1111111111111111,
              "#46039f"
             ],
             [
              0.2222222222222222,
              "#7201a8"
             ],
             [
              0.3333333333333333,
              "#9c179e"
             ],
             [
              0.4444444444444444,
              "#bd3786"
             ],
             [
              0.5555555555555556,
              "#d8576b"
             ],
             [
              0.6666666666666666,
              "#ed7953"
             ],
             [
              0.7777777777777778,
              "#fb9f3a"
             ],
             [
              0.8888888888888888,
              "#fdca26"
             ],
             [
              1,
              "#f0f921"
             ]
            ],
            "type": "surface"
           }
          ],
          "table": [
           {
            "cells": {
             "fill": {
              "color": "#EBF0F8"
             },
             "line": {
              "color": "white"
             }
            },
            "header": {
             "fill": {
              "color": "#C8D4E3"
             },
             "line": {
              "color": "white"
             }
            },
            "type": "table"
           }
          ]
         },
         "layout": {
          "annotationdefaults": {
           "arrowcolor": "#2a3f5f",
           "arrowhead": 0,
           "arrowwidth": 1
          },
          "autotypenumbers": "strict",
          "coloraxis": {
           "colorbar": {
            "outlinewidth": 0,
            "ticks": ""
           }
          },
          "colorscale": {
           "diverging": [
            [
             0,
             "#8e0152"
            ],
            [
             0.1,
             "#c51b7d"
            ],
            [
             0.2,
             "#de77ae"
            ],
            [
             0.3,
             "#f1b6da"
            ],
            [
             0.4,
             "#fde0ef"
            ],
            [
             0.5,
             "#f7f7f7"
            ],
            [
             0.6,
             "#e6f5d0"
            ],
            [
             0.7,
             "#b8e186"
            ],
            [
             0.8,
             "#7fbc41"
            ],
            [
             0.9,
             "#4d9221"
            ],
            [
             1,
             "#276419"
            ]
           ],
           "sequential": [
            [
             0,
             "#0d0887"
            ],
            [
             0.1111111111111111,
             "#46039f"
            ],
            [
             0.2222222222222222,
             "#7201a8"
            ],
            [
             0.3333333333333333,
             "#9c179e"
            ],
            [
             0.4444444444444444,
             "#bd3786"
            ],
            [
             0.5555555555555556,
             "#d8576b"
            ],
            [
             0.6666666666666666,
             "#ed7953"
            ],
            [
             0.7777777777777778,
             "#fb9f3a"
            ],
            [
             0.8888888888888888,
             "#fdca26"
            ],
            [
             1,
             "#f0f921"
            ]
           ],
           "sequentialminus": [
            [
             0,
             "#0d0887"
            ],
            [
             0.1111111111111111,
             "#46039f"
            ],
            [
             0.2222222222222222,
             "#7201a8"
            ],
            [
             0.3333333333333333,
             "#9c179e"
            ],
            [
             0.4444444444444444,
             "#bd3786"
            ],
            [
             0.5555555555555556,
             "#d8576b"
            ],
            [
             0.6666666666666666,
             "#ed7953"
            ],
            [
             0.7777777777777778,
             "#fb9f3a"
            ],
            [
             0.8888888888888888,
             "#fdca26"
            ],
            [
             1,
             "#f0f921"
            ]
           ]
          },
          "colorway": [
           "#636efa",
           "#EF553B",
           "#00cc96",
           "#ab63fa",
           "#FFA15A",
           "#19d3f3",
           "#FF6692",
           "#B6E880",
           "#FF97FF",
           "#FECB52"
          ],
          "font": {
           "color": "#2a3f5f"
          },
          "geo": {
           "bgcolor": "white",
           "lakecolor": "white",
           "landcolor": "#E5ECF6",
           "showlakes": true,
           "showland": true,
           "subunitcolor": "white"
          },
          "hoverlabel": {
           "align": "left"
          },
          "hovermode": "closest",
          "mapbox": {
           "style": "light"
          },
          "paper_bgcolor": "white",
          "plot_bgcolor": "#E5ECF6",
          "polar": {
           "angularaxis": {
            "gridcolor": "white",
            "linecolor": "white",
            "ticks": ""
           },
           "bgcolor": "#E5ECF6",
           "radialaxis": {
            "gridcolor": "white",
            "linecolor": "white",
            "ticks": ""
           }
          },
          "scene": {
           "xaxis": {
            "backgroundcolor": "#E5ECF6",
            "gridcolor": "white",
            "gridwidth": 2,
            "linecolor": "white",
            "showbackground": true,
            "ticks": "",
            "zerolinecolor": "white"
           },
           "yaxis": {
            "backgroundcolor": "#E5ECF6",
            "gridcolor": "white",
            "gridwidth": 2,
            "linecolor": "white",
            "showbackground": true,
            "ticks": "",
            "zerolinecolor": "white"
           },
           "zaxis": {
            "backgroundcolor": "#E5ECF6",
            "gridcolor": "white",
            "gridwidth": 2,
            "linecolor": "white",
            "showbackground": true,
            "ticks": "",
            "zerolinecolor": "white"
           }
          },
          "shapedefaults": {
           "line": {
            "color": "#2a3f5f"
           }
          },
          "ternary": {
           "aaxis": {
            "gridcolor": "white",
            "linecolor": "white",
            "ticks": ""
           },
           "baxis": {
            "gridcolor": "white",
            "linecolor": "white",
            "ticks": ""
           },
           "bgcolor": "#E5ECF6",
           "caxis": {
            "gridcolor": "white",
            "linecolor": "white",
            "ticks": ""
           }
          },
          "title": {
           "x": 0.05
          },
          "xaxis": {
           "automargin": true,
           "gridcolor": "white",
           "linecolor": "white",
           "ticks": "",
           "title": {
            "standoff": 15
           },
           "zerolinecolor": "white",
           "zerolinewidth": 2
          },
          "yaxis": {
           "automargin": true,
           "gridcolor": "white",
           "linecolor": "white",
           "ticks": "",
           "title": {
            "standoff": 15
           },
           "zerolinecolor": "white",
           "zerolinewidth": 2
          }
         }
        }
       }
      },
      "text/html": [
       "<div>                            <div id=\"9eb0565c-f58d-42e1-87d6-71fa9fdeb267\" class=\"plotly-graph-div\" style=\"height:525px; width:100%;\"></div>            <script type=\"text/javascript\">                require([\"plotly\"], function(Plotly) {                    window.PLOTLYENV=window.PLOTLYENV || {};                                    if (document.getElementById(\"9eb0565c-f58d-42e1-87d6-71fa9fdeb267\")) {                    Plotly.newPlot(                        \"9eb0565c-f58d-42e1-87d6-71fa9fdeb267\",                        [{\"hovertemplate\":\"average_house_value=%{marker.color}<br>lat=%{lat}<br>lon=%{lon}<extra></extra>\",\"lat\":[43.80544058,43.78865755,43.6049369,43.67158544,43.737657,43.76481331,43.65751135,43.77636052,43.79680187,43.73148623,43.69321649,43.76036631,43.69468198,43.76489025,43.67617288,43.69902438,43.73101314,43.68882512,43.70132631,43.66764773,43.68856865,43.6818521,43.7823765,43.65964886,43.71359238,43.74197843,43.72112117,43.67766091,43.68402547,43.68946809,43.78329369,43.75927437,43.66567693,43.73329235,43.65542833,43.68417388,43.67088591,43.7409223,43.72151887,43.72034467,43.65801676,43.64506262,43.71592975,43.70421756,43.69452576,43.74563575,43.67261231,43.74882934,43.77114414,43.65756491,43.64506458,43.79077477,43.80298783,43.6922328,43.75891975,43.74342952,43.69136981,43.73536441,43.63346335,43.66788977,43.68572747,43.72555572,43.65355413,43.69899257,43.65352043,43.79571603,43.65742013,43.75427115,43.73006017,43.7172117,43.70379663,43.64753593,43.59236169,43.8036582,43.71557394,43.63354175,43.82069079,43.61592386,43.78239861,43.65651762,43.68814409,43.7468678,43.70485217,43.70443517,43.6005886,43.79153579,43.78582994,43.63668088,43.67199515,43.66962341,43.70680049,43.69740813,43.68856556,43.69678127,43.6591571,43.75503347,43.7175146,43.67970047,43.78698176,43.6660506,43.65999214,43.72372548,43.67479045,43.64612299,43.68282043,43.82120126,43.65926882,43.71160912,43.73865186,43.63669952,43.64929206,43.75624583,43.81295883,43.63551813,43.78012985,43.69499819,43.67104999,43.73798792,43.70774921,43.6501763,43.6625062,43.72848902,43.63388036,43.76749026,43.7161804,43.77881322,43.70271605,43.67396204,43.74857214,43.77060226,43.77121049,43.68364496,43.76674024,43.67677292,43.69410674,43.67691927,43.70468937,43.68785887,43.76573649,43.71467153],\"legendgroup\":\"\",\"lon\":[-79.26671217,-79.2656118,-79.54161093,-79.40400062,-79.34971798,-79.45605516,-79.38572125,-79.37711686,-79.38211795,-79.42022735,-79.47947251,-79.25740037,-79.26509259,-79.52197932,-79.33739417,-79.4528513,-79.37890418,-79.35562951,-79.48558926,-79.36610666,-79.45521208,-79.40800665,-79.15084327,-79.37901717,-79.28138178,-79.44630258,-79.23552957,-79.44746933,-79.32981941,-79.33140338,-79.35364413,-79.27890794,-79.4385407,-79.49049735,-79.43734104,-79.29935867,-79.52245776,-79.24559804,-79.54898272,-79.43740855,-79.58044524,-79.56893877,-79.33264597,-79.42814316,-79.41431786,-79.51346532,-79.32431802,-79.19505535,-79.34124067,-79.46630217,-79.46787222,-79.17747247,-79.354804,-79.5224162,-79.55617474,-79.54236712,-79.42768335,-79.27247049,-79.54331654,-79.47143987,-79.47143711,-79.26038221,-79.39723988,-79.54786331,-79.5105768,-79.31408424,-79.49604526,-79.42474772,-79.40397836,-79.40603941,-79.36607234,-79.43032271,-79.53334545,-79.22251662,-79.48075802,-79.57343155,-79.27500892,-79.50013664,-79.20704119,-79.36729703,-79.49998906,-79.58725926,-79.38492395,-79.39335955,-79.51035809,-79.40593745,-79.43142151,-79.4124204,-79.35126041,-79.37524658,-79.31222777,-79.27970834,-79.43978548,-79.33548836,-79.41840873,-79.33017952,-79.5282822,-79.35488729,-79.33494843,-79.54455929,-79.36050881,-79.56622841,-79.49442045,-79.44299245,-79.3796694,-79.18634345,-79.48570818,-79.49809147,-79.21681262,-79.43933783,-79.33565132,-79.37903709,-79.32120701,-79.50112821,-79.30291871,-79.29590112,-79.2996013,-79.56349102,-79.34998361,-79.41534216,-79.40117975,-79.31487383,-79.37720231,-79.17667603,-79.59635645,-79.45241823,-79.51572255,-79.46024391,-79.29863657,-79.40148379,-79.4275578,-79.55422105,-79.22858577,-79.31540738,-79.31116353,-79.42551495,-79.40359017,-79.39787077,-79.48888293,-79.45710807],\"marker\":{\"color\":[329811.5,334189.0,427922.5,746977.0,612039.0,501576.75,423653.5,539258.75,565413.5,930415.25,370927.75,301123.25,437315.0,260841.75,511437.0,365524.5,1526485.75,443373.25,350943.0,494110.5,361714.25,981064.25,409862.75,406117.5,354555.25,551561.25,417422.0,419930.5,466943.0,421679.25,398010.25,262000.25,434699.5,381415.5,457588.75,478054.25,796162.5,268966.5,268341.25,568936.75,397781.75,309412.0,207799.0,851680.5,1195992.5,327597.75,387055.5,369373.5,369958.0,532497.0,582977.75,428838.5,395023.0,449150.5,352082.5,319783.75,697085.5,287685.75,451685.25,433269.25,322774.75,287233.5,440485.75,338344.75,843234.25,650307.75,336617.75,613216.5,759392.5,1094027.75,806471.75,540192.5,385830.25,256880.25,453229.0,443974.75,344988.25,393490.5,285013.5,409456.0,262308.75,253182.25,677370.25,468181.75,407812.0,559573.25,460568.5,369993.0,703063.25,411455.75,298315.75,422257.5,441202.75,443413.5,622191.75,454652.5,405431.25,648859.25,373375.25,765746.5,392578.25,360999.25,345660.25,508937.25,1093640.0,376286.75,552082.0,431090.5,329835.75,447478.5,455020.5,999107.0,376014.5,550432.25,353926.5,239414.0,666306.0,375864.0,255264.75,534465.75,618316.75,352133.0,376863.0,284647.5,343254.25,349320.25,308007.75,351802.0,348319.25,469045.5,466134.75,464278.0,298505.75,445382.75,369918.5,565976.5,809745.75,813220.25,305899.5,430861.25],\"coloraxis\":\"coloraxis\",\"size\":[329811.5,334189.0,427922.5,746977.0,612039.0,501576.75,423653.5,539258.75,565413.5,930415.25,370927.75,301123.25,437315.0,260841.75,511437.0,365524.5,1526485.75,443373.25,350943.0,494110.5,361714.25,981064.25,409862.75,406117.5,354555.25,551561.25,417422.0,419930.5,466943.0,421679.25,398010.25,262000.25,434699.5,381415.5,457588.75,478054.25,796162.5,268966.5,268341.25,568936.75,397781.75,309412.0,207799.0,851680.5,1195992.5,327597.75,387055.5,369373.5,369958.0,532497.0,582977.75,428838.5,395023.0,449150.5,352082.5,319783.75,697085.5,287685.75,451685.25,433269.25,322774.75,287233.5,440485.75,338344.75,843234.25,650307.75,336617.75,613216.5,759392.5,1094027.75,806471.75,540192.5,385830.25,256880.25,453229.0,443974.75,344988.25,393490.5,285013.5,409456.0,262308.75,253182.25,677370.25,468181.75,407812.0,559573.25,460568.5,369993.0,703063.25,411455.75,298315.75,422257.5,441202.75,443413.5,622191.75,454652.5,405431.25,648859.25,373375.25,765746.5,392578.25,360999.25,345660.25,508937.25,1093640.0,376286.75,552082.0,431090.5,329835.75,447478.5,455020.5,999107.0,376014.5,550432.25,353926.5,239414.0,666306.0,375864.0,255264.75,534465.75,618316.75,352133.0,376863.0,284647.5,343254.25,349320.25,308007.75,351802.0,348319.25,469045.5,466134.75,464278.0,298505.75,445382.75,369918.5,565976.5,809745.75,813220.25,305899.5,430861.25],\"sizemode\":\"area\",\"sizeref\":3816.214375},\"mode\":\"markers\",\"name\":\"\",\"showlegend\":false,\"subplot\":\"mapbox\",\"type\":\"scattermapbox\"}],                        {\"template\":{\"data\":{\"bar\":[{\"error_x\":{\"color\":\"#2a3f5f\"},\"error_y\":{\"color\":\"#2a3f5f\"},\"marker\":{\"line\":{\"color\":\"#E5ECF6\",\"width\":0.5},\"pattern\":{\"fillmode\":\"overlay\",\"size\":10,\"solidity\":0.2}},\"type\":\"bar\"}],\"barpolar\":[{\"marker\":{\"line\":{\"color\":\"#E5ECF6\",\"width\":0.5},\"pattern\":{\"fillmode\":\"overlay\",\"size\":10,\"solidity\":0.2}},\"type\":\"barpolar\"}],\"carpet\":[{\"aaxis\":{\"endlinecolor\":\"#2a3f5f\",\"gridcolor\":\"white\",\"linecolor\":\"white\",\"minorgridcolor\":\"white\",\"startlinecolor\":\"#2a3f5f\"},\"baxis\":{\"endlinecolor\":\"#2a3f5f\",\"gridcolor\":\"white\",\"linecolor\":\"white\",\"minorgridcolor\":\"white\",\"startlinecolor\":\"#2a3f5f\"},\"type\":\"carpet\"}],\"choropleth\":[{\"colorbar\":{\"outlinewidth\":0,\"ticks\":\"\"},\"type\":\"choropleth\"}],\"contour\":[{\"colorbar\":{\"outlinewidth\":0,\"ticks\":\"\"},\"colorscale\":[[0.0,\"#0d0887\"],[0.1111111111111111,\"#46039f\"],[0.2222222222222222,\"#7201a8\"],[0.3333333333333333,\"#9c179e\"],[0.4444444444444444,\"#bd3786\"],[0.5555555555555556,\"#d8576b\"],[0.6666666666666666,\"#ed7953\"],[0.7777777777777778,\"#fb9f3a\"],[0.8888888888888888,\"#fdca26\"],[1.0,\"#f0f921\"]],\"type\":\"contour\"}],\"contourcarpet\":[{\"colorbar\":{\"outlinewidth\":0,\"ticks\":\"\"},\"type\":\"contourcarpet\"}],\"heatmap\":[{\"colorbar\":{\"outlinewidth\":0,\"ticks\":\"\"},\"colorscale\":[[0.0,\"#0d0887\"],[0.1111111111111111,\"#46039f\"],[0.2222222222222222,\"#7201a8\"],[0.3333333333333333,\"#9c179e\"],[0.4444444444444444,\"#bd3786\"],[0.5555555555555556,\"#d8576b\"],[0.6666666666666666,\"#ed7953\"],[0.7777777777777778,\"#fb9f3a\"],[0.8888888888888888,\"#fdca26\"],[1.0,\"#f0f921\"]],\"type\":\"heatmap\"}],\"heatmapgl\":[{\"colorbar\":{\"outlinewidth\":0,\"ticks\":\"\"},\"colorscale\":[[0.0,\"#0d0887\"],[0.1111111111111111,\"#46039f\"],[0.2222222222222222,\"#7201a8\"],[0.3333333333333333,\"#9c179e\"],[0.4444444444444444,\"#bd3786\"],[0.5555555555555556,\"#d8576b\"],[0.6666666666666666,\"#ed7953\"],[0.7777777777777778,\"#fb9f3a\"],[0.8888888888888888,\"#fdca26\"],[1.0,\"#f0f921\"]],\"type\":\"heatmapgl\"}],\"histogram\":[{\"marker\":{\"pattern\":{\"fillmode\":\"overlay\",\"size\":10,\"solidity\":0.2}},\"type\":\"histogram\"}],\"histogram2d\":[{\"colorbar\":{\"outlinewidth\":0,\"ticks\":\"\"},\"colorscale\":[[0.0,\"#0d0887\"],[0.1111111111111111,\"#46039f\"],[0.2222222222222222,\"#7201a8\"],[0.3333333333333333,\"#9c179e\"],[0.4444444444444444,\"#bd3786\"],[0.5555555555555556,\"#d8576b\"],[0.6666666666666666,\"#ed7953\"],[0.7777777777777778,\"#fb9f3a\"],[0.8888888888888888,\"#fdca26\"],[1.0,\"#f0f921\"]],\"type\":\"histogram2d\"}],\"histogram2dcontour\":[{\"colorbar\":{\"outlinewidth\":0,\"ticks\":\"\"},\"colorscale\":[[0.0,\"#0d0887\"],[0.1111111111111111,\"#46039f\"],[0.2222222222222222,\"#7201a8\"],[0.3333333333333333,\"#9c179e\"],[0.4444444444444444,\"#bd3786\"],[0.5555555555555556,\"#d8576b\"],[0.6666666666666666,\"#ed7953\"],[0.7777777777777778,\"#fb9f3a\"],[0.8888888888888888,\"#fdca26\"],[1.0,\"#f0f921\"]],\"type\":\"histogram2dcontour\"}],\"mesh3d\":[{\"colorbar\":{\"outlinewidth\":0,\"ticks\":\"\"},\"type\":\"mesh3d\"}],\"parcoords\":[{\"line\":{\"colorbar\":{\"outlinewidth\":0,\"ticks\":\"\"}},\"type\":\"parcoords\"}],\"pie\":[{\"automargin\":true,\"type\":\"pie\"}],\"scatter\":[{\"marker\":{\"colorbar\":{\"outlinewidth\":0,\"ticks\":\"\"}},\"type\":\"scatter\"}],\"scatter3d\":[{\"line\":{\"colorbar\":{\"outlinewidth\":0,\"ticks\":\"\"}},\"marker\":{\"colorbar\":{\"outlinewidth\":0,\"ticks\":\"\"}},\"type\":\"scatter3d\"}],\"scattercarpet\":[{\"marker\":{\"colorbar\":{\"outlinewidth\":0,\"ticks\":\"\"}},\"type\":\"scattercarpet\"}],\"scattergeo\":[{\"marker\":{\"colorbar\":{\"outlinewidth\":0,\"ticks\":\"\"}},\"type\":\"scattergeo\"}],\"scattergl\":[{\"marker\":{\"colorbar\":{\"outlinewidth\":0,\"ticks\":\"\"}},\"type\":\"scattergl\"}],\"scattermapbox\":[{\"marker\":{\"colorbar\":{\"outlinewidth\":0,\"ticks\":\"\"}},\"type\":\"scattermapbox\"}],\"scatterpolar\":[{\"marker\":{\"colorbar\":{\"outlinewidth\":0,\"ticks\":\"\"}},\"type\":\"scatterpolar\"}],\"scatterpolargl\":[{\"marker\":{\"colorbar\":{\"outlinewidth\":0,\"ticks\":\"\"}},\"type\":\"scatterpolargl\"}],\"scatterternary\":[{\"marker\":{\"colorbar\":{\"outlinewidth\":0,\"ticks\":\"\"}},\"type\":\"scatterternary\"}],\"surface\":[{\"colorbar\":{\"outlinewidth\":0,\"ticks\":\"\"},\"colorscale\":[[0.0,\"#0d0887\"],[0.1111111111111111,\"#46039f\"],[0.2222222222222222,\"#7201a8\"],[0.3333333333333333,\"#9c179e\"],[0.4444444444444444,\"#bd3786\"],[0.5555555555555556,\"#d8576b\"],[0.6666666666666666,\"#ed7953\"],[0.7777777777777778,\"#fb9f3a\"],[0.8888888888888888,\"#fdca26\"],[1.0,\"#f0f921\"]],\"type\":\"surface\"}],\"table\":[{\"cells\":{\"fill\":{\"color\":\"#EBF0F8\"},\"line\":{\"color\":\"white\"}},\"header\":{\"fill\":{\"color\":\"#C8D4E3\"},\"line\":{\"color\":\"white\"}},\"type\":\"table\"}]},\"layout\":{\"annotationdefaults\":{\"arrowcolor\":\"#2a3f5f\",\"arrowhead\":0,\"arrowwidth\":1},\"autotypenumbers\":\"strict\",\"coloraxis\":{\"colorbar\":{\"outlinewidth\":0,\"ticks\":\"\"}},\"colorscale\":{\"diverging\":[[0,\"#8e0152\"],[0.1,\"#c51b7d\"],[0.2,\"#de77ae\"],[0.3,\"#f1b6da\"],[0.4,\"#fde0ef\"],[0.5,\"#f7f7f7\"],[0.6,\"#e6f5d0\"],[0.7,\"#b8e186\"],[0.8,\"#7fbc41\"],[0.9,\"#4d9221\"],[1,\"#276419\"]],\"sequential\":[[0.0,\"#0d0887\"],[0.1111111111111111,\"#46039f\"],[0.2222222222222222,\"#7201a8\"],[0.3333333333333333,\"#9c179e\"],[0.4444444444444444,\"#bd3786\"],[0.5555555555555556,\"#d8576b\"],[0.6666666666666666,\"#ed7953\"],[0.7777777777777778,\"#fb9f3a\"],[0.8888888888888888,\"#fdca26\"],[1.0,\"#f0f921\"]],\"sequentialminus\":[[0.0,\"#0d0887\"],[0.1111111111111111,\"#46039f\"],[0.2222222222222222,\"#7201a8\"],[0.3333333333333333,\"#9c179e\"],[0.4444444444444444,\"#bd3786\"],[0.5555555555555556,\"#d8576b\"],[0.6666666666666666,\"#ed7953\"],[0.7777777777777778,\"#fb9f3a\"],[0.8888888888888888,\"#fdca26\"],[1.0,\"#f0f921\"]]},\"colorway\":[\"#636efa\",\"#EF553B\",\"#00cc96\",\"#ab63fa\",\"#FFA15A\",\"#19d3f3\",\"#FF6692\",\"#B6E880\",\"#FF97FF\",\"#FECB52\"],\"font\":{\"color\":\"#2a3f5f\"},\"geo\":{\"bgcolor\":\"white\",\"lakecolor\":\"white\",\"landcolor\":\"#E5ECF6\",\"showlakes\":true,\"showland\":true,\"subunitcolor\":\"white\"},\"hoverlabel\":{\"align\":\"left\"},\"hovermode\":\"closest\",\"mapbox\":{\"style\":\"light\"},\"paper_bgcolor\":\"white\",\"plot_bgcolor\":\"#E5ECF6\",\"polar\":{\"angularaxis\":{\"gridcolor\":\"white\",\"linecolor\":\"white\",\"ticks\":\"\"},\"bgcolor\":\"#E5ECF6\",\"radialaxis\":{\"gridcolor\":\"white\",\"linecolor\":\"white\",\"ticks\":\"\"}},\"scene\":{\"xaxis\":{\"backgroundcolor\":\"#E5ECF6\",\"gridcolor\":\"white\",\"gridwidth\":2,\"linecolor\":\"white\",\"showbackground\":true,\"ticks\":\"\",\"zerolinecolor\":\"white\"},\"yaxis\":{\"backgroundcolor\":\"#E5ECF6\",\"gridcolor\":\"white\",\"gridwidth\":2,\"linecolor\":\"white\",\"showbackground\":true,\"ticks\":\"\",\"zerolinecolor\":\"white\"},\"zaxis\":{\"backgroundcolor\":\"#E5ECF6\",\"gridcolor\":\"white\",\"gridwidth\":2,\"linecolor\":\"white\",\"showbackground\":true,\"ticks\":\"\",\"zerolinecolor\":\"white\"}},\"shapedefaults\":{\"line\":{\"color\":\"#2a3f5f\"}},\"ternary\":{\"aaxis\":{\"gridcolor\":\"white\",\"linecolor\":\"white\",\"ticks\":\"\"},\"baxis\":{\"gridcolor\":\"white\",\"linecolor\":\"white\",\"ticks\":\"\"},\"bgcolor\":\"#E5ECF6\",\"caxis\":{\"gridcolor\":\"white\",\"linecolor\":\"white\",\"ticks\":\"\"}},\"title\":{\"x\":0.05},\"xaxis\":{\"automargin\":true,\"gridcolor\":\"white\",\"linecolor\":\"white\",\"ticks\":\"\",\"title\":{\"standoff\":15},\"zerolinecolor\":\"white\",\"zerolinewidth\":2},\"yaxis\":{\"automargin\":true,\"gridcolor\":\"white\",\"linecolor\":\"white\",\"ticks\":\"\",\"title\":{\"standoff\":15},\"zerolinecolor\":\"white\",\"zerolinewidth\":2}}},\"mapbox\":{\"domain\":{\"x\":[0.0,1.0],\"y\":[0.0,1.0]},\"center\":{\"lat\":43.708840577642846,\"lon\":-79.4001855035},\"accesstoken\":\"pk.eyJ1IjoiYW1hbnloIiwiYSI6ImNsMTd6YWZ0azFpMGgzY3AzYW8ycWR5bHgifQ.r7-MyX-NLjB2fsLhzfgCrQ\",\"zoom\":9},\"coloraxis\":{\"colorbar\":{\"title\":{\"text\":\"average_house_value\"}},\"colorscale\":[[0.0,\"#0d0887\"],[0.1111111111111111,\"#46039f\"],[0.2222222222222222,\"#7201a8\"],[0.3333333333333333,\"#9c179e\"],[0.4444444444444444,\"#bd3786\"],[0.5555555555555556,\"#d8576b\"],[0.6666666666666666,\"#ed7953\"],[0.7777777777777778,\"#fb9f3a\"],[0.8888888888888888,\"#fdca26\"],[1.0,\"#f0f921\"]]},\"legend\":{\"tracegroupgap\":0,\"itemsizing\":\"constant\"},\"margin\":{\"t\":60}},                        {\"responsive\": true}                    ).then(function(){\n",
       "                            \n",
       "var gd = document.getElementById('9eb0565c-f58d-42e1-87d6-71fa9fdeb267');\n",
       "var x = new MutationObserver(function (mutations, observer) {{\n",
       "        var display = window.getComputedStyle(gd).display;\n",
       "        if (!display || display === 'none') {{\n",
       "            console.log([gd, 'removed!']);\n",
       "            Plotly.purge(gd);\n",
       "            observer.disconnect();\n",
       "        }}\n",
       "}});\n",
       "\n",
       "// Listen for the removal of the full notebook cells\n",
       "var notebookContainer = gd.closest('#notebook-container');\n",
       "if (notebookContainer) {{\n",
       "    x.observe(notebookContainer, {childList: true});\n",
       "}}\n",
       "\n",
       "// Listen for the clearing of the current output cell\n",
       "var outputEl = gd.closest('.output');\n",
       "if (outputEl) {{\n",
       "    x.observe(outputEl, {childList: true});\n",
       "}}\n",
       "\n",
       "                        })                };                });            </script>        </div>"
      ]
     },
     "metadata": {},
     "output_type": "display_data"
    }
   ],
   "source": [
    "# Create a scatter mapbox to analyze neighbourhood info\n",
    "# Read the Mapbox API key\n",
    "load_dotenv()\n",
    "map_box_api = os.getenv(\"mapbox\")\n",
    "\n",
    "# Set the Mapbox API\n",
    "px.set_mapbox_access_token(map_box_api)\n",
    "# Plot Data\n",
    "map_plot = px.scatter_mapbox(\n",
    "    neighbourhood_df,\n",
    "    lat=\"lat\",\n",
    "    lon=\"lon\",\n",
    "    size=\"average_house_value\",\n",
    "    color=\"average_house_value\",\n",
    "    zoom=9\n",
    ")\n",
    "\n",
    "# Display the map\n",
    "map_plot.show()"
   ]
  },
  {
   "cell_type": "markdown",
   "metadata": {},
   "source": [
    "- - -"
   ]
  },
  {
   "cell_type": "markdown",
   "metadata": {},
   "source": [
    "## Cost Analysis - Optional Challenge\n",
    "\n",
    "In this section, you will use Plotly express to a couple of plots that investors can interactively filter and explore various factors related to the house value of the Toronto's neighbourhoods. \n",
    "\n",
    "### Create a bar chart row facet to plot the average house values for all Toronto's neighbourhoods per year"
   ]
  },
  {
   "cell_type": "code",
   "execution_count": 221,
   "metadata": {},
   "outputs": [],
   "source": [
    "# YOUR CODE HERE!"
   ]
  },
  {
   "cell_type": "markdown",
   "metadata": {},
   "source": [
    "### Create a sunburst chart to conduct a costs analysis of most expensive neighbourhoods in Toronto per year"
   ]
  },
  {
   "cell_type": "code",
   "execution_count": 222,
   "metadata": {},
   "outputs": [],
   "source": [
    "# Fetch the data from all expensive neighbourhoods per year.\n",
    "# YOUR CODE HERE!"
   ]
  },
  {
   "cell_type": "code",
   "execution_count": 223,
   "metadata": {},
   "outputs": [],
   "source": [
    "# Create the sunburst chart\n",
    "# YOUR CODE HERE!"
   ]
  },
  {
   "cell_type": "code",
   "execution_count": null,
   "metadata": {},
   "outputs": [],
   "source": []
  },
  {
   "cell_type": "code",
   "execution_count": null,
   "metadata": {},
   "outputs": [],
   "source": []
  }
 ],
 "metadata": {
  "file_extension": ".py",
  "kernelspec": {
   "display_name": "Python [conda env:pyvizenv] *",
   "language": "python",
   "name": "conda-env-pyvizenv-py"
  },
  "language_info": {
   "codemirror_mode": {
    "name": "ipython",
    "version": 3
   },
   "file_extension": ".py",
   "mimetype": "text/x-python",
   "name": "python",
   "nbconvert_exporter": "python",
   "pygments_lexer": "ipython3",
   "version": "3.7.13"
  },
  "mimetype": "text/x-python",
  "name": "python",
  "npconvert_exporter": "python",
  "pygments_lexer": "ipython3",
  "version": 3
 },
 "nbformat": 4,
 "nbformat_minor": 4
}

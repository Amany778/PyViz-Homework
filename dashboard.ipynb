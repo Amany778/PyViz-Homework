{
 "cells": [
  {
   "cell_type": "markdown",
   "metadata": {},
   "source": [
    "# Toronto Dwellings Analysis Dashboard\n",
    "\n",
    "In this notebook, you will compile the visualizations from the previous analysis into functions to create a Panel dashboard."
   ]
  },
  {
   "cell_type": "code",
   "execution_count": 29,
   "metadata": {},
   "outputs": [],
   "source": [
    "# imports\n",
    "import panel as pn\n",
    "pn.extension('plotly')\n",
    "import plotly.express as px\n",
    "import pandas as pd\n",
    "import hvplot.pandas\n",
    "import matplotlib.pyplot as plt\n",
    "import os\n",
    "from pathlib import Path\n",
    "from dotenv import load_dotenv\n"
   ]
  },
  {
   "cell_type": "code",
   "execution_count": 30,
   "metadata": {},
   "outputs": [],
   "source": [
    "# Initialize the Panel Extensions (for Plotly)\n",
    "import panel as pn\n",
    "pn.extension(\"plotly\")"
   ]
  },
  {
   "cell_type": "code",
   "execution_count": 31,
   "metadata": {},
   "outputs": [],
   "source": [
    "# Read the Mapbox API key\n",
    "load_dotenv()\n",
    "map_box_api = os.getenv(\"mapbox\")\n",
    "px.set_mapbox_access_token(map_box_api)"
   ]
  },
  {
   "cell_type": "markdown",
   "metadata": {},
   "source": [
    "# Import Data"
   ]
  },
  {
   "cell_type": "code",
   "execution_count": 32,
   "metadata": {},
   "outputs": [],
   "source": [
    "# Import the CSVs to Pandas DataFrames\n",
    "file_path = Path(\"Data/toronto_neighbourhoods_census_data.csv\")\n",
    "to_data = pd.read_csv(file_path, index_col=\"year\")\n",
    "\n",
    "file_path = Path(\"Data/toronto_neighbourhoods_coordinates.csv\")\n",
    "df_neighbourhood_locations = pd.read_csv(file_path)"
   ]
  },
  {
   "cell_type": "markdown",
   "metadata": {},
   "source": [
    "- - -"
   ]
  },
  {
   "cell_type": "markdown",
   "metadata": {},
   "source": [
    "## Panel Visualizations\n",
    "\n",
    "In this section, you will copy the code for each plot type from your analysis notebook and place it into separate functions that Panel can use to create panes for the dashboard. \n",
    "\n",
    "These functions will convert the plot object to a Panel pane.\n",
    "\n",
    "Be sure to include any DataFrame transformation/manipulation code required along with the plotting code.\n",
    "\n",
    "Return a Panel pane object from each function that can be used to build the dashboard.\n",
    "\n",
    "Note: Remove any `.show()` lines from the code. We want to return the plots instead of showing them. The Panel dashboard will then display the plots."
   ]
  },
  {
   "cell_type": "markdown",
   "metadata": {},
   "source": [
    "### Global available data"
   ]
  },
  {
   "cell_type": "code",
   "execution_count": 37,
   "metadata": {},
   "outputs": [],
   "source": [
    "\n",
    "# Getting the data from the top 10 expensive neighbourhoods\n",
    "top_nghr = pd.read_csv('house_value_nghr.csv')\n",
    "\n",
    "# Calculate the mean number of dwelling types units per year\n",
    "dwellings_year_mean = to_data.drop(columns = ['neighbourhood', 'average_house_value', 'shelter_costs_owned','shelter_costs_rented']).groupby('year').mean()\n",
    "# Calculate the average monthly shelter costs for owned and rented dwellings\n",
    "\n",
    "df = to_data.set_index('neighbourhood')"
   ]
  },
  {
   "cell_type": "markdown",
   "metadata": {},
   "source": [
    "### Panel Visualization Functions"
   ]
  },
  {
   "cell_type": "code",
   "execution_count": 43,
   "metadata": {},
   "outputs": [],
   "source": [
    "# Define Panel visualization functions\n",
    "def neighbourhood_map():\n",
    "    \"\"\"Neighbourhood Map\"\"\"\n",
    "    \n",
    "    mean_per_ngbr = pd.DataFrame(df.groupby('neighbourhood').mean())\n",
    "    neighbourhood_df = pd.concat([df_neighbourhood_locations, mean_per_ngbr],axis = 1)\n",
    "    # Set the Mapbox API\n",
    "    px.set_mapbox_access_token(map_box_api)\n",
    "    # Plot Data\n",
    "    map_plot = px.scatter_mapbox(\n",
    "            neighbourhood_df,\n",
    "    lat=\"lat\",\n",
    "    lon=\"lon\",\n",
    "    size=\"average_house_value\",\n",
    "    color=\"average_house_value\",\n",
    "    zoom = 9\n",
    "   \n",
    "    )\n",
    "\n",
    "    # Display the map\n",
    "    \n",
    "    return map_plot\n",
    "def create_bar_chart(data, title, xlabel, ylabel, color):\n",
    "    \"\"\"\n",
    "    Create a barplot based in the data argument.\n",
    "    \"\"\"\n",
    "    return data.hvplot.bar(title = title, xlabel=xlabel, ylabel = ylabel, color = color, rot= 90)\n",
    "    \n",
    "\n",
    "def create_line_chart(data, title, xlabel, ylabel, color):\n",
    "    \"\"\"\n",
    "    Create a line chart based in the data argument.\n",
    "    \"\"\"\n",
    "    return data.hvplot.line(title = title, xlabel=xlabel, ylabel = ylabel, color = color)\n",
    "\n",
    "def average_house_value():\n",
    "    \"\"\"Average house values per year.\"\"\"\n",
    "    \n",
    "    return to_data.groupby('year')['average_house_value'].sum()/number_of_ngbr\n",
    "\n",
    "def average_value_by_neighbourhood():\n",
    "    \"\"\"Average house values by neighbourhood.\"\"\"\n",
    "    \n",
    "    return to_data[['neighbourhood', 'average_house_value' ]]\n",
    "\n",
    "def number_dwelling_types():\n",
    "    \"\"\"Number of dwelling types per year\"\"\"\n",
    "    \n",
    "    return to_data.drop(columns = ['average_house_value', 'shelter_costs_owned','shelter_costs_rented'])\n",
    "\n",
    "\n",
    "def average_house_value_snapshot():\n",
    "    \"\"\"Average house value for all Toronto's neighbourhoods per year.\"\"\"\n",
    "\n",
    "    return pd.DataFrame(df.groupby('neighbourhood').sum()['average_house_value']).sort_values(by='average_house_value', ascending = False)\n",
    "def top_most_expensive_neighbourhoods():\n",
    "    \"\"\"Top 10 most expensive neighbourhoods.\"\"\"\n",
    "    \n",
    "    return pd.DataFrame(df.groupby('neighbourhood').sum()['average_house_value']).sort_values(by='average_house_value', ascending = False).head(10)\n",
    "\n",
    "def sunburts_cost_analysis():\n",
    "    \"\"\"Sunburst chart to conduct a costs analysis of most expensive neighbourhoods in Toronto per year.\"\"\"\n",
    "    \n",
    "    # YOUR CODE HERE!"
   ]
  },
  {
   "cell_type": "markdown",
   "metadata": {},
   "source": [
    "## Panel Dashboard\n",
    "\n",
    "In this section, you will combine all of the plots into a single dashboard view using Panel. Be creative with your dashboard design!"
   ]
  },
  {
   "cell_type": "raw",
   "metadata": {},
   "source": [
    "dashboard = Dash()\n",
    "# Create a Title for the Dashboard\n",
    "dashboard.layout = html.Div(children=[\n",
    "    html.H1(children='Toronto Dwellings Analysis '),\n",
    "    chart1,\n",
    "    \n",
    "])\n",
    "# Define a welcome text\n",
    "# YOUR CODE HERE!\n",
    "\n",
    "# Create a tab layout for the dashboard\n",
    "# YOUR CODE HERE!\n",
    "\n",
    "\n",
    "# Create the main dashboard\n",
    "# YOUR CODE HERE!"
   ]
  },
  {
   "cell_type": "code",
   "execution_count": 45,
   "metadata": {},
   "outputs": [],
   "source": [
    "load_dotenv()\n",
    "map_box_api = os.getenv(\"mapbox\")\n",
    "    \n",
    "#neighbourhood_map().show()"
   ]
  },
  {
   "cell_type": "code",
   "execution_count": 48,
   "metadata": {},
   "outputs": [],
   "source": [
    "# create_bar_chart(data, title, xlabel, ylabel, color)\n",
    "df_dwelling_units = pd.read_csv('dwellings_year.csv')\n",
    "\n",
    "# # Bar chart for 2001\n",
    "chart1= create_bar_chart(df_dwelling_units.iloc[0], \"Dwelling Types in Toronto in 2001\", \"2001\", \"Dwelling Type Units\", \"red\")\n",
    "\n",
    "# # Bar chart for 2006\n",
    "chart2 = create_bar_chart(df_dwelling_units.iloc[1], \"Dwelling Types in Toronto in 2006\", \"2006\", \"Dwelling Type Units\", \"blue\")\n",
    "\n",
    "# # Bar chart for 2011\n",
    "chart3 = create_bar_chart(df_dwelling_units.iloc[2], \"Dwelling Types in Toronto in 2011\", \"2011\", \"Dwelling Type Units\", \"orange\")\n",
    "\n",
    "# # Bar chart for 2016\n",
    "chart4= create_bar_chart(df_dwelling_units.iloc[3], \"Dwelling Types in Toronto in 2016\", \"2016\", \"Dwelling Type Units\", \"magenta\")"
   ]
  },
  {
   "cell_type": "code",
   "execution_count": null,
   "metadata": {},
   "outputs": [],
   "source": [
    "# create_line_chart(data, title, xlabel, ylabel, color)\n",
    "\n",
    "# # Line chart for owned dwellings\n",
    "# create_line_chart(df_avg_costs[\"shelter_costs_owned\"], \"Average Monthly Shelter Cost for Owned Dwellings in Toronto\", \"Year\", \"Avg Monthly Shelter Costs\", \"blue\")\n",
    "\n",
    "# # Line chart for rented dwellings\n",
    "# create_line_chart(df_avg_costs[\"shelter_costs_rented\"], \"Average Monthly Shelter Cost for Rented Dwellings in Toronto\", \"Year\", \"Avg Monthly Shelter Costs\", \"orange\")"
   ]
  },
  {
   "cell_type": "code",
   "execution_count": null,
   "metadata": {},
   "outputs": [],
   "source": [
    "# average_house_value()"
   ]
  },
  {
   "cell_type": "code",
   "execution_count": null,
   "metadata": {},
   "outputs": [],
   "source": [
    "# average_value_by_neighbourhood()"
   ]
  },
  {
   "cell_type": "code",
   "execution_count": null,
   "metadata": {},
   "outputs": [],
   "source": [
    "# number_dwelling_types()"
   ]
  },
  {
   "cell_type": "code",
   "execution_count": null,
   "metadata": {},
   "outputs": [],
   "source": [
    "# average_house_value_snapshot()"
   ]
  },
  {
   "cell_type": "code",
   "execution_count": null,
   "metadata": {},
   "outputs": [],
   "source": [
    "# top_most_expensive_neighbourhoods()"
   ]
  },
  {
   "cell_type": "code",
   "execution_count": null,
   "metadata": {},
   "outputs": [],
   "source": [
    "# sunburts_cost_analysis()"
   ]
  },
  {
   "cell_type": "markdown",
   "metadata": {},
   "source": [
    "## Serve the Panel Dashboard"
   ]
  },
  {
   "cell_type": "code",
   "execution_count": 50,
   "metadata": {},
   "outputs": [
    {
     "ename": "NameError",
     "evalue": "name 'dashb' is not defined",
     "output_type": "error",
     "traceback": [
      "\u001b[1;31m---------------------------------------------------------------------------\u001b[0m",
      "\u001b[1;31mNameError\u001b[0m                                 Traceback (most recent call last)",
      "\u001b[1;32m~\\AppData\\Local\\Temp\\ipykernel_18772\\757403495.py\u001b[0m in \u001b[0;36m<module>\u001b[1;34m\u001b[0m\n\u001b[0;32m      2\u001b[0m dashb.layout = html.Div(children=[\n\u001b[0;32m      3\u001b[0m     \u001b[0mhtml\u001b[0m\u001b[1;33m.\u001b[0m\u001b[0mH1\u001b[0m\u001b[1;33m(\u001b[0m\u001b[0mchildren\u001b[0m\u001b[1;33m=\u001b[0m\u001b[1;34m'Toronto Dwellings Analysis '\u001b[0m\u001b[1;33m)\u001b[0m\u001b[1;33m,\u001b[0m\u001b[1;33m\u001b[0m\u001b[1;33m\u001b[0m\u001b[0m\n\u001b[1;32m----> 4\u001b[1;33m     \u001b[0mchart1\u001b[0m\u001b[1;33m\u001b[0m\u001b[1;33m\u001b[0m\u001b[0m\n\u001b[0m\u001b[0;32m      5\u001b[0m \u001b[1;33m\u001b[0m\u001b[0m\n\u001b[0;32m      6\u001b[0m ])\n",
      "\u001b[1;31mNameError\u001b[0m: name 'dashb' is not defined"
     ]
    }
   ],
   "source": [
    "\n",
    "# Create a Title for the Dashboard\n",
    "dashb.layout = html.Div(children=[\n",
    "    html.H1(children='Toronto Dwellings Analysis '),\n",
    "    chart1\n",
    "    \n",
    "])\n",
    "dashb.servable()"
   ]
  },
  {
   "cell_type": "markdown",
   "metadata": {},
   "source": [
    "# Debugging\n",
    "\n",
    "Note: Some of the Plotly express plots may not render in the notebook through the panel functions.\n",
    "\n",
    "However, you can test each plot by uncommenting the following code"
   ]
  },
  {
   "cell_type": "code",
   "execution_count": null,
   "metadata": {},
   "outputs": [],
   "source": [
    "# neighbourhood_map().show()"
   ]
  },
  {
   "cell_type": "code",
   "execution_count": null,
   "metadata": {},
   "outputs": [],
   "source": [
    "# create_bar_chart(data, title, xlabel, ylabel, color)\n",
    "\n",
    "# # Bar chart for 2001\n",
    "# create_bar_chart(df_dwelling_units.loc[2001], \"Dwelling Types in Toronto in 2001\", \"2001\", \"Dwelling Type Units\", \"red\")\n",
    "\n",
    "# # Bar chart for 2006\n",
    "# create_bar_chart(df_dwelling_units.loc[2006], \"Dwelling Types in Toronto in 2006\", \"2006\", \"Dwelling Type Units\", \"blue\")\n",
    "\n",
    "# # Bar chart for 2011\n",
    "# create_bar_chart(df_dwelling_units.loc[2011], \"Dwelling Types in Toronto in 2011\", \"2011\", \"Dwelling Type Units\", \"orange\")\n",
    "\n",
    "# # Bar chart for 2016\n",
    "# create_bar_chart(df_dwelling_units.loc[2016], \"Dwelling Types in Toronto in 2016\", \"2016\", \"Dwelling Type Units\", \"magenta\")"
   ]
  },
  {
   "cell_type": "code",
   "execution_count": null,
   "metadata": {},
   "outputs": [],
   "source": [
    "# create_line_chart(data, title, xlabel, ylabel, color)\n",
    "\n",
    "# # Line chart for owned dwellings\n",
    "# create_line_chart(df_avg_costs[\"shelter_costs_owned\"], \"Average Monthly Shelter Cost for Owned Dwellings in Toronto\", \"Year\", \"Avg Monthly Shelter Costs\", \"blue\")\n",
    "\n",
    "# # Line chart for rented dwellings\n",
    "# create_line_chart(df_avg_costs[\"shelter_costs_rented\"], \"Average Monthly Shelter Cost for Rented Dwellings in Toronto\", \"Year\", \"Avg Monthly Shelter Costs\", \"orange\")"
   ]
  },
  {
   "cell_type": "code",
   "execution_count": null,
   "metadata": {},
   "outputs": [],
   "source": [
    "# average_house_value()"
   ]
  },
  {
   "cell_type": "code",
   "execution_count": null,
   "metadata": {},
   "outputs": [],
   "source": [
    "# average_value_by_neighbourhood()"
   ]
  },
  {
   "cell_type": "code",
   "execution_count": null,
   "metadata": {},
   "outputs": [],
   "source": [
    "# number_dwelling_types()"
   ]
  },
  {
   "cell_type": "code",
   "execution_count": null,
   "metadata": {},
   "outputs": [],
   "source": [
    "# average_house_value_snapshot()"
   ]
  },
  {
   "cell_type": "code",
   "execution_count": null,
   "metadata": {},
   "outputs": [],
   "source": [
    "# top_most_expensive_neighbourhoods()"
   ]
  },
  {
   "cell_type": "code",
   "execution_count": null,
   "metadata": {},
   "outputs": [],
   "source": [
    "# sunburts_cost_analysis()"
   ]
  }
 ],
 "metadata": {
  "file_extension": ".py",
  "kernelspec": {
   "display_name": "Python [conda env:pyvizenv] *",
   "language": "python",
   "name": "conda-env-pyvizenv-py"
  },
  "language_info": {
   "codemirror_mode": {
    "name": "ipython",
    "version": 3
   },
   "file_extension": ".py",
   "mimetype": "text/x-python",
   "name": "python",
   "nbconvert_exporter": "python",
   "pygments_lexer": "ipython3",
   "version": "3.7.13"
  },
  "mimetype": "text/x-python",
  "name": "python",
  "npconvert_exporter": "python",
  "pygments_lexer": "ipython3",
  "version": 3
 },
 "nbformat": 4,
 "nbformat_minor": 4
}
